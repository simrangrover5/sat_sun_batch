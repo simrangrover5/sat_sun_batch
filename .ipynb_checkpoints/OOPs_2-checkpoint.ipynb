{
 "cells": [
  {
   "cell_type": "code",
   "execution_count": 28,
   "metadata": {},
   "outputs": [],
   "source": [
    "class Human:\n",
    "    def __init__(self,name,category):\n",
    "        self.name = name\n",
    "        self.category = category\n",
    "    \n",
    "    def show_values(self):\n",
    "        print(self.__dict__)"
   ]
  },
  {
   "cell_type": "code",
   "execution_count": 29,
   "metadata": {},
   "outputs": [],
   "source": [
    "h1 = Human(\"stuti\",\"student\")\n",
    "h2 = Human(\"simran\",\"trainer\")"
   ]
  },
  {
   "cell_type": "code",
   "execution_count": 30,
   "metadata": {},
   "outputs": [
    {
     "name": "stdout",
     "output_type": "stream",
     "text": [
      "['__class__', '__delattr__', '__dict__', '__dir__', '__doc__', '__eq__', '__format__', '__ge__', '__getattribute__', '__gt__', '__hash__', '__init__', '__init_subclass__', '__le__', '__lt__', '__module__', '__ne__', '__new__', '__reduce__', '__reduce_ex__', '__repr__', '__setattr__', '__sizeof__', '__str__', '__subclasshook__', '__weakref__', 'category', 'name', 'show_values']\n"
     ]
    }
   ],
   "source": [
    "print(dir(h1))"
   ]
  },
  {
   "cell_type": "code",
   "execution_count": 3,
   "metadata": {},
   "outputs": [
    {
     "data": {
      "text/plain": [
       "'stuti'"
      ]
     },
     "execution_count": 3,
     "metadata": {},
     "output_type": "execute_result"
    }
   ],
   "source": [
    "h1.name"
   ]
  },
  {
   "cell_type": "code",
   "execution_count": 4,
   "metadata": {},
   "outputs": [
    {
     "data": {
      "text/plain": [
       "'simran'"
      ]
     },
     "execution_count": 4,
     "metadata": {},
     "output_type": "execute_result"
    }
   ],
   "source": [
    "h2.name"
   ]
  },
  {
   "cell_type": "code",
   "execution_count": 5,
   "metadata": {},
   "outputs": [
    {
     "name": "stdout",
     "output_type": "stream",
     "text": [
      "1496671272200\n",
      "1496737845640\n"
     ]
    }
   ],
   "source": [
    "print(id(h1))\n",
    "print(id(h2))"
   ]
  },
  {
   "cell_type": "code",
   "execution_count": 6,
   "metadata": {},
   "outputs": [
    {
     "data": {
      "text/plain": [
       "1496695080936"
      ]
     },
     "execution_count": 6,
     "metadata": {},
     "output_type": "execute_result"
    }
   ],
   "source": [
    "id(Human)"
   ]
  },
  {
   "cell_type": "code",
   "execution_count": 7,
   "metadata": {},
   "outputs": [
    {
     "name": "stdout",
     "output_type": "stream",
     "text": [
      "{'name': 'stuti', 'category': 'student'}\n"
     ]
    }
   ],
   "source": [
    "h1.show_values()"
   ]
  },
  {
   "cell_type": "code",
   "execution_count": 8,
   "metadata": {},
   "outputs": [
    {
     "name": "stdout",
     "output_type": "stream",
     "text": [
      "{'name': 'simran', 'category': 'trainer'}\n"
     ]
    }
   ],
   "source": [
    "h2.show_values()"
   ]
  },
  {
   "cell_type": "code",
   "execution_count": 9,
   "metadata": {},
   "outputs": [],
   "source": [
    "h1.course = \"python\""
   ]
  },
  {
   "cell_type": "code",
   "execution_count": 10,
   "metadata": {},
   "outputs": [
    {
     "name": "stdout",
     "output_type": "stream",
     "text": [
      "{'name': 'stuti', 'category': 'student', 'course': 'python'}\n"
     ]
    }
   ],
   "source": [
    "h1.show_values()"
   ]
  },
  {
   "cell_type": "code",
   "execution_count": 11,
   "metadata": {},
   "outputs": [
    {
     "name": "stdout",
     "output_type": "stream",
     "text": [
      "{'name': 'simran', 'category': 'trainer'}\n"
     ]
    }
   ],
   "source": [
    "h2.show_values()"
   ]
  },
  {
   "cell_type": "code",
   "execution_count": 12,
   "metadata": {},
   "outputs": [],
   "source": [
    "del h1    #__del__"
   ]
  },
  {
   "cell_type": "code",
   "execution_count": 13,
   "metadata": {},
   "outputs": [
    {
     "ename": "NameError",
     "evalue": "name 'h1' is not defined",
     "output_type": "error",
     "traceback": [
      "\u001b[1;31m---------------------------------------------------------------------\u001b[0m",
      "\u001b[1;31mNameError\u001b[0m                           Traceback (most recent call last)",
      "\u001b[1;32m<ipython-input-13-64e6f052e700>\u001b[0m in \u001b[0;36m<module>\u001b[1;34m\u001b[0m\n\u001b[1;32m----> 1\u001b[1;33m \u001b[0mh1\u001b[0m\u001b[1;33m.\u001b[0m\u001b[0mshow_values\u001b[0m\u001b[1;33m(\u001b[0m\u001b[1;33m)\u001b[0m\u001b[1;33m\u001b[0m\u001b[1;33m\u001b[0m\u001b[0m\n\u001b[0m",
      "\u001b[1;31mNameError\u001b[0m: name 'h1' is not defined"
     ]
    }
   ],
   "source": [
    "h1.show_values()"
   ]
  },
  {
   "cell_type": "code",
   "execution_count": 14,
   "metadata": {},
   "outputs": [
    {
     "name": "stdout",
     "output_type": "stream",
     "text": [
      "['__add__', '__class__', '__contains__', '__delattr__', '__delitem__', '__dir__', '__doc__', '__eq__', '__format__', '__ge__', '__getattribute__', '__getitem__', '__gt__', '__hash__', '__iadd__', '__imul__', '__init__', '__init_subclass__', '__iter__', '__le__', '__len__', '__lt__', '__mul__', '__ne__', '__new__', '__reduce__', '__reduce_ex__', '__repr__', '__reversed__', '__rmul__', '__setattr__', '__setitem__', '__sizeof__', '__str__', '__subclasshook__', 'append', 'clear', 'copy', 'count', 'extend', 'index', 'insert', 'pop', 'remove', 'reverse', 'sort']\n"
     ]
    }
   ],
   "source": [
    "l = [10,20,30]\n",
    "print(dir(l))"
   ]
  },
  {
   "cell_type": "code",
   "execution_count": 23,
   "metadata": {},
   "outputs": [],
   "source": [
    "class Human:\n",
    "    def __init__(self,name,category):\n",
    "        self.name = name\n",
    "        self.category = category\n",
    "    \n",
    "    def show_values(self):\n",
    "        print(self.__dict__)\n",
    "        \n",
    "    def __del__(self): #destructor\n",
    "        print(\"hello\")\n",
    "        print(f\"Deleting object {self}\")"
   ]
  },
  {
   "cell_type": "code",
   "execution_count": 24,
   "metadata": {},
   "outputs": [],
   "source": [
    "h1 = Human(\"stuti\",\"student\")\n",
    "h2 = Human(\"Rahul\",\"employee\")\n",
    "h3 = Human(\"Simran\",\"trainer\")\n",
    "\n"
   ]
  },
  {
   "cell_type": "code",
   "execution_count": 17,
   "metadata": {},
   "outputs": [
    {
     "name": "stdout",
     "output_type": "stream",
     "text": [
      "{'name': 'stuti', 'category': 'student'}\n"
     ]
    }
   ],
   "source": [
    "h1.show_values()"
   ]
  },
  {
   "cell_type": "code",
   "execution_count": 18,
   "metadata": {},
   "outputs": [
    {
     "name": "stdout",
     "output_type": "stream",
     "text": [
      "{'name': 'Rahul', 'category': 'employee'}\n"
     ]
    }
   ],
   "source": [
    "h2.show_values()"
   ]
  },
  {
   "cell_type": "code",
   "execution_count": 19,
   "metadata": {},
   "outputs": [
    {
     "name": "stdout",
     "output_type": "stream",
     "text": [
      "{'name': 'Simran', 'category': 'trainer'}\n"
     ]
    }
   ],
   "source": [
    "h3.show_values()"
   ]
  },
  {
   "cell_type": "code",
   "execution_count": 25,
   "metadata": {},
   "outputs": [
    {
     "name": "stdout",
     "output_type": "stream",
     "text": [
      "hello\n",
      "Deleting object <__main__.Human object at 0x0000015C7C88CB08>\n"
     ]
    }
   ],
   "source": [
    "del h2    #__del__"
   ]
  },
  {
   "cell_type": "code",
   "execution_count": 26,
   "metadata": {},
   "outputs": [
    {
     "ename": "NameError",
     "evalue": "name 'h2' is not defined",
     "output_type": "error",
     "traceback": [
      "\u001b[1;31m---------------------------------------------------------------------\u001b[0m",
      "\u001b[1;31mNameError\u001b[0m                           Traceback (most recent call last)",
      "\u001b[1;32m<ipython-input-26-fc8aaafe61ba>\u001b[0m in \u001b[0;36m<module>\u001b[1;34m\u001b[0m\n\u001b[1;32m----> 1\u001b[1;33m \u001b[0mh2\u001b[0m\u001b[1;33m.\u001b[0m\u001b[0mshow_values\u001b[0m\u001b[1;33m(\u001b[0m\u001b[1;33m)\u001b[0m\u001b[1;33m\u001b[0m\u001b[1;33m\u001b[0m\u001b[0m\n\u001b[0m",
      "\u001b[1;31mNameError\u001b[0m: name 'h2' is not defined"
     ]
    }
   ],
   "source": [
    "h2.show_values()"
   ]
  },
  {
   "cell_type": "code",
   "execution_count": 27,
   "metadata": {},
   "outputs": [
    {
     "name": "stdout",
     "output_type": "stream",
     "text": [
      "hello\n",
      "Deleting object <__main__.Human object at 0x0000015C7C88C848>\n"
     ]
    }
   ],
   "source": [
    "del h1"
   ]
  },
  {
   "cell_type": "code",
   "execution_count": 37,
   "metadata": {},
   "outputs": [
    {
     "name": "stdout",
     "output_type": "stream",
     "text": [
      "{'name': 'Stuti', 'category': 'student'}\n",
      "{'name': 'Simran', 'category': 'Employee'}\n",
      "Deleting name...\n",
      "Deleting category...\n",
      "Deleting self....\n"
     ]
    }
   ],
   "source": [
    "from time import sleep\n",
    "class Human:\n",
    "    def __init__(self,name,category):\n",
    "        self.name = name\n",
    "        self.category = category\n",
    "    \n",
    "    def show_values(self):\n",
    "        print(self.__dict__)\n",
    "        \n",
    "    def __del__(self): #destructor\n",
    "        print(\"Deleting name...\")\n",
    "        sleep(2)\n",
    "        del self.name\n",
    "        print(\"Deleting category...\")\n",
    "        sleep(2)\n",
    "        del self.category\n",
    "        print(\"Deleting self....\")\n",
    "        sleep(2)\n",
    "        del self\n",
    "        \n",
    "        \n",
    "h1 = Human(\"Stuti\",\"student\")\n",
    "h2 = Human(\"Simran\",\"Employee\")\n",
    "\n",
    "h1.show_values()\n",
    "h2.show_values()\n",
    "\n",
    "\n",
    "del h1"
   ]
  },
  {
   "cell_type": "code",
   "execution_count": 38,
   "metadata": {},
   "outputs": [
    {
     "ename": "NameError",
     "evalue": "name 'h1' is not defined",
     "output_type": "error",
     "traceback": [
      "\u001b[1;31m---------------------------------------------------------------------\u001b[0m",
      "\u001b[1;31mNameError\u001b[0m                           Traceback (most recent call last)",
      "\u001b[1;32m<ipython-input-38-64e6f052e700>\u001b[0m in \u001b[0;36m<module>\u001b[1;34m\u001b[0m\n\u001b[1;32m----> 1\u001b[1;33m \u001b[0mh1\u001b[0m\u001b[1;33m.\u001b[0m\u001b[0mshow_values\u001b[0m\u001b[1;33m(\u001b[0m\u001b[1;33m)\u001b[0m\u001b[1;33m\u001b[0m\u001b[1;33m\u001b[0m\u001b[0m\n\u001b[0m",
      "\u001b[1;31mNameError\u001b[0m: name 'h1' is not defined"
     ]
    }
   ],
   "source": [
    "h1.show_values()"
   ]
  },
  {
   "cell_type": "code",
   "execution_count": 39,
   "metadata": {},
   "outputs": [
    {
     "name": "stdout",
     "output_type": "stream",
     "text": [
      "Deleting name...\n",
      "Deleting category...\n",
      "Deleting self....\n"
     ]
    }
   ],
   "source": [
    "del h2"
   ]
  },
  {
   "cell_type": "code",
   "execution_count": 40,
   "metadata": {},
   "outputs": [],
   "source": [
    "h3 = Human(\"Rahul\",\"Employee\")"
   ]
  },
  {
   "cell_type": "code",
   "execution_count": 41,
   "metadata": {},
   "outputs": [
    {
     "name": "stdout",
     "output_type": "stream",
     "text": [
      "{'name': 'Rahul', 'category': 'Employee'}\n"
     ]
    }
   ],
   "source": [
    "h3.show_values()"
   ]
  },
  {
   "cell_type": "code",
   "execution_count": 42,
   "metadata": {},
   "outputs": [],
   "source": [
    "del h3.name"
   ]
  },
  {
   "cell_type": "code",
   "execution_count": 43,
   "metadata": {},
   "outputs": [
    {
     "name": "stdout",
     "output_type": "stream",
     "text": [
      "{'category': 'Employee'}\n"
     ]
    }
   ],
   "source": [
    "h3.show_values()"
   ]
  },
  {
   "cell_type": "code",
   "execution_count": 44,
   "metadata": {},
   "outputs": [],
   "source": [
    "del h3.category"
   ]
  },
  {
   "cell_type": "code",
   "execution_count": 45,
   "metadata": {},
   "outputs": [
    {
     "name": "stdout",
     "output_type": "stream",
     "text": [
      "{}\n"
     ]
    }
   ],
   "source": [
    "h3.show_values()"
   ]
  },
  {
   "cell_type": "code",
   "execution_count": 47,
   "metadata": {},
   "outputs": [
    {
     "name": "stdout",
     "output_type": "stream",
     "text": [
      "{'name': 'Rahul', 'category': 'Employee'}\n"
     ]
    }
   ],
   "source": [
    "h3.name = \"Rahul\"\n",
    "h3.category = \"Employee\"\n",
    "h3.show_values()"
   ]
  },
  {
   "cell_type": "code",
   "execution_count": 71,
   "metadata": {},
   "outputs": [
    {
     "name": "stdout",
     "output_type": "stream",
     "text": [
      "<__main__.Human object at 0x0000015C7C8EA848>\n"
     ]
    }
   ],
   "source": [
    "print(h3)"
   ]
  },
  {
   "cell_type": "code",
   "execution_count": 72,
   "metadata": {},
   "outputs": [
    {
     "data": {
      "text/plain": [
       "<__main__.Human at 0x15c7c8ea848>"
      ]
     },
     "execution_count": 72,
     "metadata": {},
     "output_type": "execute_result"
    }
   ],
   "source": [
    "h3"
   ]
  },
  {
   "cell_type": "code",
   "execution_count": 75,
   "metadata": {},
   "outputs": [
    {
     "name": "stdout",
     "output_type": "stream",
     "text": [
      "Overwriting rect.py\n"
     ]
    }
   ],
   "source": [
    "%%writefile rect.py\n",
    "\n",
    "class Rectangle:\n",
    "    \"\"\"This is rectange class used for determinig the area of rectangle\"\"\"\n",
    "    c = 0\n",
    "    def __init__(self,height,width):\n",
    "        self.height = height\n",
    "        self.width = width\n",
    "        Rectangle.c += 1\n",
    "    def show_(self):\n",
    "        for key,value in self.__dict__.items():\n",
    "            print(key,\"=\",value)\n",
    "    def area(self):\n",
    "        print(\"Area : \",self.height*self.width)\n",
    "    def total():\n",
    "        return Rectangle.c\n",
    "    def __str__(self):\n",
    "        return f\"{self.height},{self.width}\"\n",
    "    def __del__(self):\n",
    "        print(\"Deleting object....\")\n",
    "        sleep(2)\n",
    "        del self\n",
    "    \n",
    "    \n",
    "if __name__ == \"__main__\":\n",
    "    from time import sleep\n",
    "    r1 = Rectangle(10,30)\n",
    "    r2 = Rectangle(100,30)\n",
    "    print(r1)\n",
    "    print(r2)\n",
    "    r1.show_()\n",
    "    r1.area()\n",
    "    r2.show_()\n",
    "    r2.area()\n",
    "    \n",
    "    del r1\n",
    "    r1.show_()"
   ]
  },
  {
   "cell_type": "code",
   "execution_count": 57,
   "metadata": {},
   "outputs": [
    {
     "name": "stdout",
     "output_type": "stream",
     "text": [
      "[1, 2, 3, 4]\n"
     ]
    }
   ],
   "source": [
    "l = [1,2,3,4]\n",
    "print(l)    #std output"
   ]
  },
  {
   "cell_type": "code",
   "execution_count": 58,
   "metadata": {},
   "outputs": [
    {
     "data": {
      "text/plain": [
       "[1, 2, 3, 4]"
      ]
     },
     "execution_count": 58,
     "metadata": {},
     "output_type": "execute_result"
    }
   ],
   "source": [
    "l   #shell output"
   ]
  },
  {
   "cell_type": "code",
   "execution_count": 66,
   "metadata": {},
   "outputs": [
    {
     "name": "stdout",
     "output_type": "stream",
     "text": [
      "hello\n",
      "bye\n"
     ]
    }
   ],
   "source": [
    "r = \"hello\\nbye\"\n",
    "print(r)   #__str__"
   ]
  },
  {
   "cell_type": "code",
   "execution_count": 62,
   "metadata": {},
   "outputs": [
    {
     "data": {
      "text/plain": [
       "'hello\\nbye'"
      ]
     },
     "execution_count": 62,
     "metadata": {},
     "output_type": "execute_result"
    }
   ],
   "source": [
    "r   #__repr__"
   ]
  },
  {
   "cell_type": "code",
   "execution_count": 69,
   "metadata": {},
   "outputs": [
    {
     "name": "stdout",
     "output_type": "stream",
     "text": [
      "'hello\\nbye'\n"
     ]
    }
   ],
   "source": [
    "print(r.__repr__())"
   ]
  },
  {
   "cell_type": "code",
   "execution_count": 68,
   "metadata": {},
   "outputs": [
    {
     "name": "stdout",
     "output_type": "stream",
     "text": [
      "hello\n",
      "bye\n"
     ]
    }
   ],
   "source": [
    "print(r.__str__())"
   ]
  },
  {
   "cell_type": "code",
   "execution_count": 84,
   "metadata": {},
   "outputs": [],
   "source": [
    "class Person:\n",
    "    \"\"\"This is person class\"\"\"\n",
    "    def __init__(self,name):\n",
    "        self.name = name\n",
    "    def __str__(self):\n",
    "        return f\"{self.name}\"\n",
    "    def __repr__(self):\n",
    "        return f\"{self.name}\"\n",
    "    \n",
    "p1 = Person(\"simran\")\n",
    "p2 = Person(\"manish\")"
   ]
  },
  {
   "cell_type": "code",
   "execution_count": 82,
   "metadata": {},
   "outputs": [
    {
     "name": "stdout",
     "output_type": "stream",
     "text": [
      "simran\n"
     ]
    }
   ],
   "source": [
    "print(p1)  #__str__"
   ]
  },
  {
   "cell_type": "code",
   "execution_count": 83,
   "metadata": {},
   "outputs": [
    {
     "data": {
      "text/plain": [
       "simran"
      ]
     },
     "execution_count": 83,
     "metadata": {},
     "output_type": "execute_result"
    }
   ],
   "source": [
    "p1    #__repr__"
   ]
  },
  {
   "cell_type": "code",
   "execution_count": 85,
   "metadata": {},
   "outputs": [
    {
     "name": "stdout",
     "output_type": "stream",
     "text": [
      "This is person class\n"
     ]
    }
   ],
   "source": [
    "print(Person.__doc__)"
   ]
  },
  {
   "cell_type": "code",
   "execution_count": 86,
   "metadata": {},
   "outputs": [
    {
     "data": {
      "text/plain": [
       "'This is person class'"
      ]
     },
     "execution_count": 86,
     "metadata": {},
     "output_type": "execute_result"
    }
   ],
   "source": [
    "p1.__doc__"
   ]
  },
  {
   "cell_type": "markdown",
   "metadata": {},
   "source": [
    "## Inheritance\n",
    "\n",
    "1. Single\n",
    "2. Multiple\n",
    "3. Multilevel\n",
    "4. Hierarchical\n",
    "5. Hybrid"
   ]
  },
  {
   "cell_type": "markdown",
   "metadata": {},
   "source": [
    "### Single\n",
    "        Parent-->Child"
   ]
  },
  {
   "cell_type": "code",
   "execution_count": 96,
   "metadata": {},
   "outputs": [
    {
     "name": "stdout",
     "output_type": "stream",
     "text": [
      "cname = Sunny\n",
      "Sakshi Gupta\n"
     ]
    }
   ],
   "source": [
    "class Parent:\n",
    "    def __init__(self,eye_color,fname,lname):\n",
    "        self.fname=fname\n",
    "        self.lname = lname\n",
    "        self.eye_color = eye_color\n",
    "    def show_attr(self):\n",
    "        for attr,value in self.__dict__.items():\n",
    "            print(attr,\"=\",value)\n",
    "    def __str__(self):\n",
    "        return f\"{self.fname.title()} {self.lname.title()}\"\n",
    "    \n",
    "\n",
    "class Child(Parent):   #pass the name of class that you want to inherit\n",
    "    def __init__(self,cname):\n",
    "        self.cname = cname\n",
    "    #def show_attr(self):\n",
    "        #for attr,value in self.__dict__.items():\n",
    "            #print(attr,\"=\",value)\n",
    "\n",
    "p1 = Parent(\"brown\",\"Sakshi\",\"Gupta\")\n",
    "c1 = Child(\"Sunny\")\n",
    "c1.show_attr()\n",
    "#p1.show_attr()\n",
    "print(p1)"
   ]
  },
  {
   "cell_type": "code",
   "execution_count": 98,
   "metadata": {},
   "outputs": [
    {
     "name": "stdout",
     "output_type": "stream",
     "text": [
      "fname = Sunita\n",
      "lname = Gupta\n",
      "eye_color = black\n",
      "cname = Sakshi\n",
      "Sakshi Gupta\n"
     ]
    }
   ],
   "source": [
    "class Parent:\n",
    "    def __init__(self,eye_color,fname,lname):\n",
    "        self.fname=fname\n",
    "        self.lname = lname\n",
    "        self.eye_color = eye_color\n",
    "    def __str__(self):\n",
    "        return f\"{self.fname.title()} {self.lname.title()}\"\n",
    "    \n",
    "\n",
    "class Child(Parent):   #pass the name of class that you want to inherit\n",
    "    def __init__(self,fname,lname,eye_color,cname):\n",
    "        super().__init__(eye_color,fname,lname)\n",
    "        self.cname = cname\n",
    "    def show_attr(self):\n",
    "        for attr,value in self.__dict__.items():\n",
    "            print(attr,\"=\",value)\n",
    "    def __str__(self):\n",
    "        return f\"{self.cname} {self.lname}\"\n",
    "\n",
    "c1 = Child(\"Sunita\",\"Gupta\",\"black\",\"Sakshi\")\n",
    "c1.show_attr()\n",
    "print(c1)"
   ]
  },
  {
   "cell_type": "code",
   "execution_count": 103,
   "metadata": {},
   "outputs": [
    {
     "name": "stdout",
     "output_type": "stream",
     "text": [
      "Area of 10 , 20 is  200\n",
      "Area of 30, 40 is  1200\n",
      "Perimeter r1 :  60\n",
      "Perimeter r2 :  140\n"
     ]
    }
   ],
   "source": [
    "class Calculate:\n",
    "    def area(self):\n",
    "        return self.height*self.width\n",
    "    \n",
    "    def perimeter(self):\n",
    "        p = 2*(self.height + self.width)\n",
    "        return p\n",
    "    \n",
    "class Rectangle(Calculate):\n",
    "    def __init__(self,height,width):\n",
    "        self.height = height\n",
    "        self.width = width\n",
    "    \n",
    "    def __str__(self):\n",
    "        return f\"{self.height},{self.width}\"\n",
    "    \n",
    "r1 = Rectangle(10,20)\n",
    "r2 = Rectangle(30,40)\n",
    "print(f\"Area of {r1.height} , {r1.width} is \" ,r1.area())\n",
    "print(f\"Area of {r2.height}, {r2.width} is \",r2.area())\n",
    "print(\"Perimeter r1 : \",r1.perimeter())\n",
    "print(\"Perimeter r2 : \",r2.perimeter())"
   ]
  },
  {
   "cell_type": "code",
   "execution_count": 106,
   "metadata": {},
   "outputs": [
    {
     "name": "stdout",
     "output_type": "stream",
     "text": [
      "10cm\n",
      "Perimeter :  40 cm\n"
     ]
    }
   ],
   "source": [
    "class Square(Calculate):\n",
    "    def __init__(self,side):\n",
    "        self.height = side\n",
    "        self.width = side\n",
    "    def __str__(self):\n",
    "        return f\"{self.height}cm\"\n",
    "    \n",
    "s1 = Square(10)\n",
    "print(s1)\n",
    "print(\"Perimeter : \",s1.perimeter(),\"cm\")"
   ]
  },
  {
   "cell_type": "code",
   "execution_count": 111,
   "metadata": {},
   "outputs": [
    {
     "name": "stdout",
     "output_type": "stream",
     "text": [
      "1 --> 0cm\n",
      "2 --> 0cm\n",
      "3 --> 0cm\n",
      "4 --> 0cm\n",
      "1 : 12\n",
      "2 : 34\n",
      "3 : 12\n",
      "4 : 34\n",
      "1 --> 12cm\n",
      "2 --> 34cm\n",
      "3 --> 12cm\n",
      "4 --> 34cm\n",
      "Perimeter :  92\n",
      "[12, 34, 12, 34]\n"
     ]
    }
   ],
   "source": [
    "class Polygon:\n",
    "    def __init__(self,noofside):\n",
    "        self.noofside = noofside\n",
    "        self.sides = [0 for var in range(noofside)]\n",
    "    def get_sides(self):\n",
    "        for i in range(1,self.noofside+1):\n",
    "            print(f\"{i} --> {self.sides[i-1]}cm\")\n",
    "    def set_sides(self):\n",
    "        self.sides = [int(input(f\"{var+1} : \")) for var in range(self.noofside)]\n",
    "        \n",
    "class Rectangle(Polygon):\n",
    "    def __init__(self,noofside):\n",
    "        super().__init__(noofside)\n",
    "    def perimeter(self):\n",
    "        return sum(self.sides)\n",
    "    def __str__(self):\n",
    "        return f\"{self.sides}\"\n",
    "    def __repr__(self):\n",
    "        return f\"{self.sides}\"\n",
    "    \n",
    "    \n",
    "obj = Rectangle(4)\n",
    "obj.get_sides()\n",
    "obj.set_sides()\n",
    "obj.get_sides()\n",
    "print(\"Perimeter : \" ,obj.perimeter())\n",
    "print(obj)"
   ]
  },
  {
   "cell_type": "markdown",
   "metadata": {},
   "source": [
    "## Multiple\n",
    "        parent1,parent2 --> Child"
   ]
  },
  {
   "cell_type": "code",
   "execution_count": 112,
   "metadata": {},
   "outputs": [
    {
     "name": "stdout",
     "output_type": "stream",
     "text": [
      "The name of parent 1 is :  Jyoti Grover\n"
     ]
    },
    {
     "ename": "AttributeError",
     "evalue": "'Child' object has no attribute 'fname2'",
     "output_type": "error",
     "traceback": [
      "\u001b[1;31m---------------------------------------------------------------------\u001b[0m",
      "\u001b[1;31mAttributeError\u001b[0m                      Traceback (most recent call last)",
      "\u001b[1;32m<ipython-input-112-5e6f87c7a1a0>\u001b[0m in \u001b[0;36m<module>\u001b[1;34m\u001b[0m\n\u001b[0;32m     20\u001b[0m \u001b[1;33m\u001b[0m\u001b[0m\n\u001b[0;32m     21\u001b[0m \u001b[0mc1\u001b[0m \u001b[1;33m=\u001b[0m \u001b[0mChild\u001b[0m\u001b[1;33m(\u001b[0m\u001b[1;34m\"Rajesh\"\u001b[0m\u001b[1;33m,\u001b[0m\u001b[1;34m\"Grover\"\u001b[0m\u001b[1;33m,\u001b[0m\u001b[1;34m\"Jyoti\"\u001b[0m\u001b[1;33m,\u001b[0m\u001b[1;34m\"Sahil\"\u001b[0m\u001b[1;33m)\u001b[0m\u001b[1;33m\u001b[0m\u001b[1;33m\u001b[0m\u001b[0m\n\u001b[1;32m---> 22\u001b[1;33m \u001b[0mc1\u001b[0m\u001b[1;33m.\u001b[0m\u001b[0mget_values\u001b[0m\u001b[1;33m(\u001b[0m\u001b[1;33m)\u001b[0m\u001b[1;33m\u001b[0m\u001b[1;33m\u001b[0m\u001b[0m\n\u001b[0m",
      "\u001b[1;32m<ipython-input-112-5e6f87c7a1a0>\u001b[0m in \u001b[0;36mget_values\u001b[1;34m(self)\u001b[0m\n\u001b[0;32m     16\u001b[0m     \u001b[1;32mdef\u001b[0m \u001b[0mget_values\u001b[0m\u001b[1;33m(\u001b[0m\u001b[0mself\u001b[0m\u001b[1;33m)\u001b[0m\u001b[1;33m:\u001b[0m\u001b[1;33m\u001b[0m\u001b[1;33m\u001b[0m\u001b[0m\n\u001b[0;32m     17\u001b[0m         \u001b[0mprint\u001b[0m\u001b[1;33m(\u001b[0m\u001b[1;34m\"The name of parent 1 is : \"\u001b[0m\u001b[1;33m,\u001b[0m\u001b[0mself\u001b[0m\u001b[1;33m.\u001b[0m\u001b[0mfname1\u001b[0m\u001b[1;33m,\u001b[0m\u001b[0mself\u001b[0m\u001b[1;33m.\u001b[0m\u001b[0mlname1\u001b[0m\u001b[1;33m)\u001b[0m\u001b[1;33m\u001b[0m\u001b[1;33m\u001b[0m\u001b[0m\n\u001b[1;32m---> 18\u001b[1;33m         \u001b[0mprint\u001b[0m\u001b[1;33m(\u001b[0m\u001b[1;34m\"The name of parent 2 is : \"\u001b[0m\u001b[1;33m,\u001b[0m\u001b[0mself\u001b[0m\u001b[1;33m.\u001b[0m\u001b[0mfname2\u001b[0m\u001b[1;33m,\u001b[0m\u001b[0mself\u001b[0m\u001b[1;33m.\u001b[0m\u001b[0mlname1\u001b[0m\u001b[1;33m)\u001b[0m\u001b[1;33m\u001b[0m\u001b[1;33m\u001b[0m\u001b[0m\n\u001b[0m\u001b[0;32m     19\u001b[0m         \u001b[0mprint\u001b[0m\u001b[1;33m(\u001b[0m\u001b[1;34m\"The child name is : \"\u001b[0m\u001b[1;33m,\u001b[0m\u001b[0mself\u001b[0m\u001b[1;33m.\u001b[0m\u001b[0mcname\u001b[0m\u001b[1;33m,\u001b[0m\u001b[0mself\u001b[0m\u001b[1;33m.\u001b[0m\u001b[0mlname1\u001b[0m\u001b[1;33m)\u001b[0m\u001b[1;33m\u001b[0m\u001b[1;33m\u001b[0m\u001b[0m\n\u001b[0;32m     20\u001b[0m \u001b[1;33m\u001b[0m\u001b[0m\n",
      "\u001b[1;31mAttributeError\u001b[0m: 'Child' object has no attribute 'fname2'"
     ]
    }
   ],
   "source": [
    "class Parent1:\n",
    "    def __init__(self,fname1,lname1):\n",
    "        self.fname1 = fname1\n",
    "        self.lname1 = lname1\n",
    "        \n",
    "class Parent2:\n",
    "    def __init__(self,fname2,lname2):\n",
    "        self.fname2 = fname2\n",
    "        self.lname2 = lname2\n",
    "        \n",
    "class Child(Parent1,Parent2):\n",
    "    def __init__(self,fname1,lname1,fname2,cname):\n",
    "        super().__init__(fname1,lname1)\n",
    "        super().__init__(fname2,lname1)\n",
    "        self.cname = cname\n",
    "    def get_values(self):\n",
    "        print(\"The name of parent 1 is : \",self.fname1,self.lname1)\n",
    "        print(\"The name of parent 2 is : \",self.fname2,self.lname1)\n",
    "        print(\"The child name is : \",self.cname,self.lname1)\n",
    "        \n",
    "c1 = Child(\"Rajesh\",\"Grover\",\"Jyoti\",\"Sahil\")\n",
    "c1.get_values()"
   ]
  },
  {
   "cell_type": "code",
   "execution_count": 113,
   "metadata": {},
   "outputs": [
    {
     "ename": "AttributeError",
     "evalue": "'Child' object has no attribute 'fname1'",
     "output_type": "error",
     "traceback": [
      "\u001b[1;31m---------------------------------------------------------------------\u001b[0m",
      "\u001b[1;31mAttributeError\u001b[0m                      Traceback (most recent call last)",
      "\u001b[1;32m<ipython-input-113-65916bfdedff>\u001b[0m in \u001b[0;36m<module>\u001b[1;34m\u001b[0m\n\u001b[0;32m     20\u001b[0m \u001b[1;33m\u001b[0m\u001b[0m\n\u001b[0;32m     21\u001b[0m \u001b[0mc1\u001b[0m \u001b[1;33m=\u001b[0m \u001b[0mChild\u001b[0m\u001b[1;33m(\u001b[0m\u001b[1;34m\"Rajesh\"\u001b[0m\u001b[1;33m,\u001b[0m\u001b[1;34m\"Grover\"\u001b[0m\u001b[1;33m,\u001b[0m\u001b[1;34m\"Jyoti\"\u001b[0m\u001b[1;33m,\u001b[0m\u001b[1;34m\"Sahil\"\u001b[0m\u001b[1;33m)\u001b[0m\u001b[1;33m\u001b[0m\u001b[1;33m\u001b[0m\u001b[0m\n\u001b[1;32m---> 22\u001b[1;33m \u001b[0mc1\u001b[0m\u001b[1;33m.\u001b[0m\u001b[0mget_values\u001b[0m\u001b[1;33m(\u001b[0m\u001b[1;33m)\u001b[0m\u001b[1;33m\u001b[0m\u001b[1;33m\u001b[0m\u001b[0m\n\u001b[0m",
      "\u001b[1;32m<ipython-input-113-65916bfdedff>\u001b[0m in \u001b[0;36mget_values\u001b[1;34m(self)\u001b[0m\n\u001b[0;32m     15\u001b[0m         \u001b[0mself\u001b[0m\u001b[1;33m.\u001b[0m\u001b[0mcname\u001b[0m \u001b[1;33m=\u001b[0m \u001b[0mcname\u001b[0m\u001b[1;33m\u001b[0m\u001b[1;33m\u001b[0m\u001b[0m\n\u001b[0;32m     16\u001b[0m     \u001b[1;32mdef\u001b[0m \u001b[0mget_values\u001b[0m\u001b[1;33m(\u001b[0m\u001b[0mself\u001b[0m\u001b[1;33m)\u001b[0m\u001b[1;33m:\u001b[0m\u001b[1;33m\u001b[0m\u001b[1;33m\u001b[0m\u001b[0m\n\u001b[1;32m---> 17\u001b[1;33m         \u001b[0mprint\u001b[0m\u001b[1;33m(\u001b[0m\u001b[1;34m\"The name of parent 1 is : \"\u001b[0m\u001b[1;33m,\u001b[0m\u001b[0mself\u001b[0m\u001b[1;33m.\u001b[0m\u001b[0mfname1\u001b[0m\u001b[1;33m,\u001b[0m\u001b[0mself\u001b[0m\u001b[1;33m.\u001b[0m\u001b[0mlname1\u001b[0m\u001b[1;33m)\u001b[0m\u001b[1;33m\u001b[0m\u001b[1;33m\u001b[0m\u001b[0m\n\u001b[0m\u001b[0;32m     18\u001b[0m         \u001b[0mprint\u001b[0m\u001b[1;33m(\u001b[0m\u001b[1;34m\"The name of parent 2 is : \"\u001b[0m\u001b[1;33m,\u001b[0m\u001b[0mself\u001b[0m\u001b[1;33m.\u001b[0m\u001b[0mfname2\u001b[0m\u001b[1;33m,\u001b[0m\u001b[0mself\u001b[0m\u001b[1;33m.\u001b[0m\u001b[0mlname1\u001b[0m\u001b[1;33m)\u001b[0m\u001b[1;33m\u001b[0m\u001b[1;33m\u001b[0m\u001b[0m\n\u001b[0;32m     19\u001b[0m         \u001b[0mprint\u001b[0m\u001b[1;33m(\u001b[0m\u001b[1;34m\"The child name is : \"\u001b[0m\u001b[1;33m,\u001b[0m\u001b[0mself\u001b[0m\u001b[1;33m.\u001b[0m\u001b[0mcname\u001b[0m\u001b[1;33m,\u001b[0m\u001b[0mself\u001b[0m\u001b[1;33m.\u001b[0m\u001b[0mlname1\u001b[0m\u001b[1;33m)\u001b[0m\u001b[1;33m\u001b[0m\u001b[1;33m\u001b[0m\u001b[0m\n",
      "\u001b[1;31mAttributeError\u001b[0m: 'Child' object has no attribute 'fname1'"
     ]
    }
   ],
   "source": [
    "class Parent1:\n",
    "    def __init__(self,fname1,lname1):\n",
    "        self.fname1 = fname1\n",
    "        self.lname1 = lname1\n",
    "        \n",
    "class Parent2:\n",
    "    def __init__(self,fname2,lname2):\n",
    "        self.fname2 = fname2\n",
    "        self.lname2 = lname2\n",
    "        \n",
    "class Child(Parent2,Parent1):\n",
    "    def __init__(self,fname1,lname1,fname2,cname):\n",
    "        super().__init__(fname1,lname1)\n",
    "        super().__init__(fname2,lname1)\n",
    "        self.cname = cname\n",
    "    def get_values(self):\n",
    "        print(\"The name of parent 1 is : \",self.fname1,self.lname1)\n",
    "        print(\"The name of parent 2 is : \",self.fname2,self.lname1)\n",
    "        print(\"The child name is : \",self.cname,self.lname1)\n",
    "        \n",
    "c1 = Child(\"Rajesh\",\"Grover\",\"Jyoti\",\"Sahil\")\n",
    "c1.get_values()"
   ]
  },
  {
   "cell_type": "code",
   "execution_count": 115,
   "metadata": {},
   "outputs": [
    {
     "name": "stdout",
     "output_type": "stream",
     "text": [
      "The name of parent 1 is :  Rajesh Grover\n",
      "The name of parent 2 is :  Jyoti Grover\n",
      "The child name is :  Sahil Grover\n"
     ]
    }
   ],
   "source": [
    "class Parent1:\n",
    "    def __init__(self,fname1,lname1):\n",
    "        self.fname1 = fname1\n",
    "        self.lname1 = lname1\n",
    "        \n",
    "class Parent2:\n",
    "    def __init__(self,fname2,lname2):\n",
    "        self.fname2 = fname2\n",
    "        self.lname2 = lname2\n",
    "        \n",
    "class Child(Parent2,Parent1):\n",
    "    def __init__(self,fname1,lname1,fname2,cname):\n",
    "        Parent1.__init__(self,fname1,lname1)\n",
    "        Parent2.__init__(self,fname2,lname1)\n",
    "        self.cname = cname\n",
    "    def get_values(self):\n",
    "        print(\"The name of parent 1 is : \",self.fname1,self.lname1)\n",
    "        print(\"The name of parent 2 is : \",self.fname2,self.lname1)\n",
    "        print(\"The child name is : \",self.cname,self.lname1)\n",
    "        \n",
    "c1 = Child(\"Rajesh\",\"Grover\",\"Jyoti\",\"Sahil\")\n",
    "c1.get_values()"
   ]
  },
  {
   "cell_type": "markdown",
   "metadata": {},
   "source": [
    "## Multilevel\n",
    "        grandfather--> Father --> Child"
   ]
  },
  {
   "cell_type": "code",
   "execution_count": 117,
   "metadata": {},
   "outputs": [
    {
     "name": "stdout",
     "output_type": "stream",
     "text": [
      "Grandfather's name is Sonu Grover and age is 70\n",
      "Father's name is Rajesh Grover and age is 45\n",
      "Child name is Sahil Grover and age is 20\n"
     ]
    }
   ],
   "source": [
    "class Grandfather:\n",
    "    def __init__(self,gname,age):\n",
    "        self.gname = gname\n",
    "        self.gage = age\n",
    "        \n",
    "class father(Grandfather):\n",
    "    def __init__(self,fname,fage,gname,gage):\n",
    "        super().__init__(gname,gage)\n",
    "        self.fname = fname\n",
    "        self.fage = fage\n",
    "        \n",
    "class Child(father):\n",
    "    def __init__(self,fname,fage,gname,gage,cname,cage):\n",
    "        super().__init__(fname,fage,gname,gage)\n",
    "        lname = fname.split()[-1]\n",
    "        self.cname = cname +\" \"+lname\n",
    "        self.cage = cage\n",
    "    \n",
    "    def show_(self):\n",
    "        print(f\"Grandfather's name is {self.gname} and age is {self.gage}\")\n",
    "        print(f\"Father's name is {self.fname} and age is {self.fage}\")\n",
    "        print(f\"Child name is {self.cname} and age is {self.cage}\")\n",
    "        \n",
    "c1 = Child(\"Rajesh Grover\",45,\"Sonu Grover\",70,\"Sahil\",20)\n",
    "c1.show_()"
   ]
  },
  {
   "cell_type": "markdown",
   "metadata": {},
   "source": [
    "### Heirarchical\n",
    "        Parent -- > c1 \n",
    "               -- > c2"
   ]
  },
  {
   "cell_type": "code",
   "execution_count": 118,
   "metadata": {},
   "outputs": [
    {
     "name": "stdout",
     "output_type": "stream",
     "text": [
      "12cm\n",
      "Perimeter :  48\n",
      "12cm,10cm\n",
      "Area :  120\n",
      "Perimter :  44\n"
     ]
    }
   ],
   "source": [
    "class Calculate:\n",
    "    def area(self):\n",
    "        return self.sides[0] * self.sides[1]\n",
    "    \n",
    "    def perimeter(self):\n",
    "        return 2*(self.sides[0] + self.sides[1])\n",
    "    \n",
    "class Square(Calculate):\n",
    "    def __init__(self,side):\n",
    "        self.sides = [side,side]\n",
    "    \n",
    "    def __str__(self):\n",
    "        return f\"{self.sides[0]}cm\"\n",
    "\n",
    "class Rectangle(Calculate):\n",
    "    def __init__(self,h,w):\n",
    "        self.sides = [h,w]\n",
    "    \n",
    "    def __str__(self):\n",
    "        return f\"{self.sides[0]}cm,{self.sides[1]}cm\"\n",
    "    \n",
    "    def __repr__(self):\n",
    "        return f\"{self.sides[0]}cm,{self.sides[1]}cm\"\n",
    "    \n",
    "\n",
    "sq = Square(12)\n",
    "print(sq)\n",
    "print(\"Perimeter : \",sq.perimeter())\n",
    "r1 = Rectangle(12,10)\n",
    "print(r1)\n",
    "print(\"Area : \",r1.area())\n",
    "print(\"Perimter : \",r1.perimeter())"
   ]
  },
  {
   "cell_type": "markdown",
   "metadata": {},
   "source": [
    "## Hybrid\n",
    "        work from home"
   ]
  },
  {
   "cell_type": "markdown",
   "metadata": {},
   "source": [
    "## Overriding"
   ]
  },
  {
   "cell_type": "code",
   "execution_count": 120,
   "metadata": {},
   "outputs": [
    {
     "name": "stdout",
     "output_type": "stream",
     "text": [
      "The name of state is :  Rajasthan\n",
      "The name of city is :  Jaipur\n"
     ]
    }
   ],
   "source": [
    "class State:\n",
    "    def __init__(self,name):\n",
    "        self.name = name\n",
    "    \n",
    "    def show_value(self):\n",
    "        print(\"State name is : \",self.name)\n",
    "        \n",
    "class Cities(State):\n",
    "    def __init__(self,s_name,c_name):\n",
    "        super().__init__(s_name)\n",
    "        self.city = c_name\n",
    "        \n",
    "    def show_value(self):   #overriding\n",
    "        print(\"The name of state is : \",self.name)\n",
    "        print(\"The name of city is : \",self.city)\n",
    "        \n",
    "c1 = Cities(\"Rajasthan\",\"Jaipur\")\n",
    "c1.show_value()"
   ]
  },
  {
   "cell_type": "markdown",
   "metadata": {},
   "source": [
    "## Operator Overloading"
   ]
  },
  {
   "cell_type": "code",
   "execution_count": 122,
   "metadata": {},
   "outputs": [
    {
     "name": "stdout",
     "output_type": "stream",
     "text": [
      "[1, 2, 3, 2, 3, 4]\n"
     ]
    }
   ],
   "source": [
    "l1 = [1,2,3]\n",
    "l2 = [2,3,4]\n",
    "l1+l2   #__add__ --> take two objects l1 and l2\n",
    "print(l1.__add__(l2))"
   ]
  },
  {
   "cell_type": "code",
   "execution_count": 124,
   "metadata": {},
   "outputs": [
    {
     "name": "stdout",
     "output_type": "stream",
     "text": [
      "10+12i\n",
      "13+14i\n",
      "23+26i\n"
     ]
    }
   ],
   "source": [
    "class Complex:\n",
    "    def __init__(self,real,image):\n",
    "        self.real = real\n",
    "        self.image = image\n",
    "        \n",
    "    def __str__(self):\n",
    "        return f\"{self.real}+{self.image}i\"\n",
    "    \n",
    "    def __add__(self,obj):  #+\n",
    "        x = self.real + obj.real\n",
    "        y = self.image + obj.image\n",
    "        return Complex(x,y)\n",
    "    \n",
    "    \n",
    "c1 = Complex(10,12)\n",
    "c2 = Complex(13,14)\n",
    "print(c1)\n",
    "print(c2)\n",
    "c3 = c1+c2\n",
    "print(c3)"
   ]
  },
  {
   "cell_type": "code",
   "execution_count": 125,
   "metadata": {},
   "outputs": [
    {
     "name": "stdout",
     "output_type": "stream",
     "text": [
      "14+12i\n",
      "11+10i\n",
      "25+22i\n",
      "3+2i\n"
     ]
    }
   ],
   "source": [
    "class Complex:\n",
    "    def __init__(self,real,image):\n",
    "        self.real = real\n",
    "        self.image = image\n",
    "        \n",
    "    def __str__(self):\n",
    "        return f\"{self.real}+{self.image}i\"\n",
    "    \n",
    "    def __add__(self,obj):  #+\n",
    "        x = self.real + obj.real\n",
    "        y = self.image + obj.image\n",
    "        return Complex(x,y)\n",
    "    \n",
    "    def __sub__(self,obj):   #-\n",
    "        x = self.real - obj.real\n",
    "        y = self.image - obj.image\n",
    "        return Complex(x,y)\n",
    "    \n",
    "c1 = Complex(14,12)\n",
    "c2 = Complex(11,10)\n",
    "print(c1)\n",
    "print(c2)\n",
    "c3 = c1+c2\n",
    "print(c3)\n",
    "c4 = c1-c2\n",
    "print(c4)"
   ]
  },
  {
   "cell_type": "markdown",
   "metadata": {},
   "source": [
    "      __mul__ --> *\n",
    "      __div__ --> /\n",
    "      __lt__ --> less than\n",
    "      __gt__ --> greater than\n",
    "      __ge__ --> greater than or equals to "
   ]
  },
  {
   "cell_type": "code",
   "execution_count": 129,
   "metadata": {},
   "outputs": [
    {
     "name": "stdout",
     "output_type": "stream",
     "text": [
      "[1, 2, 3, 4, 5, 6]\n",
      "[102, 1, 2, 3, 4, 5]\n"
     ]
    }
   ],
   "source": [
    "class Myclass(list):\n",
    "    def __init__(self,*args):\n",
    "        super().__init__(args)\n",
    "        \n",
    "        \n",
    "obj = Myclass(1,2,3,4,5,6)\n",
    "print(obj)\n",
    "obj.append(10)\n",
    "obj.insert(0,102)\n",
    "obj.pop()\n",
    "obj.remove(6)\n",
    "print(obj)\n"
   ]
  },
  {
   "cell_type": "code",
   "execution_count": 130,
   "metadata": {},
   "outputs": [
    {
     "name": "stdout",
     "output_type": "stream",
     "text": [
      "[0, 1, 2, 3, 4, 5, 6, 7, 8, 9]\n",
      "[0, 1, 2, 3, 4, 5, 6, 7, 8]\n"
     ]
    }
   ],
   "source": [
    "class Stack:\n",
    "    def __init__(self,l):\n",
    "        self.l = l\n",
    "    \n",
    "    def pop(self):\n",
    "        self.l.pop()\n",
    "        \n",
    "    def push(self,ele):\n",
    "        self.l.append(ele)\n",
    "        \n",
    "    def __str__(self):\n",
    "        return f\"{self.l}\"\n",
    "    \n",
    "s1 = Stack([])\n",
    "for i in range(10):\n",
    "    s1.push(i)\n",
    "print(s1)\n",
    "s1.pop()\n",
    "print(s1)"
   ]
  },
  {
   "cell_type": "code",
   "execution_count": 131,
   "metadata": {},
   "outputs": [],
   "source": [
    "class Stack:\n",
    "    def __init__(self,maxlength):\n",
    "        self.maxi = maxlength\n",
    "        self.top = -1"
   ]
  },
  {
   "cell_type": "code",
   "execution_count": null,
   "metadata": {},
   "outputs": [],
   "source": []
  }
 ],
 "metadata": {
  "kernelspec": {
   "display_name": "Python 3",
   "language": "python",
   "name": "python3"
  },
  "language_info": {
   "codemirror_mode": {
    "name": "ipython",
    "version": 3
   },
   "file_extension": ".py",
   "mimetype": "text/x-python",
   "name": "python",
   "nbconvert_exporter": "python",
   "pygments_lexer": "ipython3",
   "version": "3.7.4"
  }
 },
 "nbformat": 4,
 "nbformat_minor": 2
}
