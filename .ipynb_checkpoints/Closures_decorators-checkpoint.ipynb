{
 "cells": [
  {
   "cell_type": "code",
   "execution_count": 1,
   "metadata": {},
   "outputs": [],
   "source": [
    "def func1():\n",
    "    def func2():\n",
    "        return \"Hello\"\n",
    "    name = func2() + \"world\"\n",
    "    return name"
   ]
  },
  {
   "cell_type": "code",
   "execution_count": 2,
   "metadata": {},
   "outputs": [
    {
     "data": {
      "text/plain": [
       "'Helloworld'"
      ]
     },
     "execution_count": 2,
     "metadata": {},
     "output_type": "execute_result"
    }
   ],
   "source": [
    "func1()"
   ]
  },
  {
   "cell_type": "code",
   "execution_count": 3,
   "metadata": {},
   "outputs": [
    {
     "ename": "NameError",
     "evalue": "name 'func2' is not defined",
     "output_type": "error",
     "traceback": [
      "\u001b[1;31m---------------------------------------------------------------------\u001b[0m",
      "\u001b[1;31mNameError\u001b[0m                           Traceback (most recent call last)",
      "\u001b[1;32m<ipython-input-3-1159c30513e1>\u001b[0m in \u001b[0;36m<module>\u001b[1;34m\u001b[0m\n\u001b[1;32m----> 1\u001b[1;33m \u001b[0mfunc2\u001b[0m\u001b[1;33m(\u001b[0m\u001b[1;33m)\u001b[0m\u001b[1;33m\u001b[0m\u001b[1;33m\u001b[0m\u001b[0m\n\u001b[0m",
      "\u001b[1;31mNameError\u001b[0m: name 'func2' is not defined"
     ]
    }
   ],
   "source": [
    "func2()"
   ]
  },
  {
   "cell_type": "code",
   "execution_count": 9,
   "metadata": {},
   "outputs": [
    {
     "name": "stdout",
     "output_type": "stream",
     "text": [
      "simran\n",
      "Reverse of name is :  narmis\n",
      "None\n"
     ]
    }
   ],
   "source": [
    "def func(name):\n",
    "    print(name)    #local variable\n",
    "    def func1():\n",
    "        print(\"Reverse of name is : \",name[::-1])\n",
    "    return print(func1())\n",
    "\n",
    "func(\"simran\")"
   ]
  },
  {
   "cell_type": "code",
   "execution_count": 16,
   "metadata": {},
   "outputs": [],
   "source": [
    "def func(l):\n",
    "    s = 0\n",
    "    def func1():\n",
    "        for i in l:\n",
    "            s += i\n",
    "        return s\n",
    "    return func1()"
   ]
  },
  {
   "cell_type": "code",
   "execution_count": 17,
   "metadata": {},
   "outputs": [],
   "source": [
    "l = [var for var in range(11)]"
   ]
  },
  {
   "cell_type": "code",
   "execution_count": 18,
   "metadata": {},
   "outputs": [
    {
     "data": {
      "text/plain": [
       "[0, 1, 2, 3, 4, 5, 6, 7, 8, 9, 10]"
      ]
     },
     "execution_count": 18,
     "metadata": {},
     "output_type": "execute_result"
    }
   ],
   "source": [
    "l"
   ]
  },
  {
   "cell_type": "code",
   "execution_count": 19,
   "metadata": {},
   "outputs": [
    {
     "ename": "UnboundLocalError",
     "evalue": "local variable 's' referenced before assignment",
     "output_type": "error",
     "traceback": [
      "\u001b[1;31m---------------------------------------------------------------------\u001b[0m",
      "\u001b[1;31mUnboundLocalError\u001b[0m                   Traceback (most recent call last)",
      "\u001b[1;32m<ipython-input-19-11b6dfc379be>\u001b[0m in \u001b[0;36m<module>\u001b[1;34m\u001b[0m\n\u001b[1;32m----> 1\u001b[1;33m \u001b[0mfunc\u001b[0m\u001b[1;33m(\u001b[0m\u001b[0ml\u001b[0m\u001b[1;33m)\u001b[0m\u001b[1;33m\u001b[0m\u001b[1;33m\u001b[0m\u001b[0m\n\u001b[0m",
      "\u001b[1;32m<ipython-input-16-f75aad76595b>\u001b[0m in \u001b[0;36mfunc\u001b[1;34m(l)\u001b[0m\n\u001b[0;32m      5\u001b[0m             \u001b[0ms\u001b[0m \u001b[1;33m+=\u001b[0m \u001b[0mi\u001b[0m\u001b[1;33m\u001b[0m\u001b[1;33m\u001b[0m\u001b[0m\n\u001b[0;32m      6\u001b[0m         \u001b[1;32mreturn\u001b[0m \u001b[0ms\u001b[0m\u001b[1;33m\u001b[0m\u001b[1;33m\u001b[0m\u001b[0m\n\u001b[1;32m----> 7\u001b[1;33m     \u001b[1;32mreturn\u001b[0m \u001b[0mfunc1\u001b[0m\u001b[1;33m(\u001b[0m\u001b[1;33m)\u001b[0m\u001b[1;33m\u001b[0m\u001b[1;33m\u001b[0m\u001b[0m\n\u001b[0m",
      "\u001b[1;32m<ipython-input-16-f75aad76595b>\u001b[0m in \u001b[0;36mfunc1\u001b[1;34m()\u001b[0m\n\u001b[0;32m      3\u001b[0m     \u001b[1;32mdef\u001b[0m \u001b[0mfunc1\u001b[0m\u001b[1;33m(\u001b[0m\u001b[1;33m)\u001b[0m\u001b[1;33m:\u001b[0m\u001b[1;33m\u001b[0m\u001b[1;33m\u001b[0m\u001b[0m\n\u001b[0;32m      4\u001b[0m         \u001b[1;32mfor\u001b[0m \u001b[0mi\u001b[0m \u001b[1;32min\u001b[0m \u001b[0ml\u001b[0m\u001b[1;33m:\u001b[0m\u001b[1;33m\u001b[0m\u001b[1;33m\u001b[0m\u001b[0m\n\u001b[1;32m----> 5\u001b[1;33m             \u001b[0ms\u001b[0m \u001b[1;33m+=\u001b[0m \u001b[0mi\u001b[0m\u001b[1;33m\u001b[0m\u001b[1;33m\u001b[0m\u001b[0m\n\u001b[0m\u001b[0;32m      6\u001b[0m         \u001b[1;32mreturn\u001b[0m \u001b[0ms\u001b[0m\u001b[1;33m\u001b[0m\u001b[1;33m\u001b[0m\u001b[0m\n\u001b[0;32m      7\u001b[0m     \u001b[1;32mreturn\u001b[0m \u001b[0mfunc1\u001b[0m\u001b[1;33m(\u001b[0m\u001b[1;33m)\u001b[0m\u001b[1;33m\u001b[0m\u001b[1;33m\u001b[0m\u001b[0m\n",
      "\u001b[1;31mUnboundLocalError\u001b[0m: local variable 's' referenced before assignment"
     ]
    }
   ],
   "source": [
    "func(l)"
   ]
  },
  {
   "cell_type": "code",
   "execution_count": 12,
   "metadata": {},
   "outputs": [
    {
     "name": "stdout",
     "output_type": "stream",
     "text": [
      "Enter your name : simran\n",
      "Welcome Simran\n",
      "The name is :  simran\n"
     ]
    }
   ],
   "source": [
    "n = input(\"Enter your name : \")\n",
    "def name():\n",
    "    print(\"Welcome\" + \" \" + n.title())   #accessing the value of n\n",
    "    \n",
    "name()\n",
    "print(\"The name is : \",n)"
   ]
  },
  {
   "cell_type": "code",
   "execution_count": 15,
   "metadata": {},
   "outputs": [
    {
     "name": "stdout",
     "output_type": "stream",
     "text": [
      "Enter your first name : simran\n",
      "Enter your last name : grover\n",
      "Welcome Simran Grover\n",
      "The name is :  simran grover\n"
     ]
    }
   ],
   "source": [
    "n = input(\"Enter your first name : \")   #global\n",
    "def name():\n",
    "    global n\n",
    "    n += (\" \" + input(\"Enter your last name : \"))\n",
    "    print(\"Welcome\" + \" \" + n.title())   #accessing the value of n\n",
    "    \n",
    "name()\n",
    "print(\"The name is : \",n)"
   ]
  },
  {
   "cell_type": "code",
   "execution_count": 20,
   "metadata": {},
   "outputs": [
    {
     "data": {
      "text/plain": [
       "[0, 1, 2, 3, 4, 5, 6, 7, 8, 9, 10]"
      ]
     },
     "execution_count": 20,
     "metadata": {},
     "output_type": "execute_result"
    }
   ],
   "source": [
    "l"
   ]
  },
  {
   "cell_type": "code",
   "execution_count": 21,
   "metadata": {},
   "outputs": [],
   "source": [
    "def func(l):\n",
    "    s = 0\n",
    "    def func1():\n",
    "        nonlocal s\n",
    "        for i in l:\n",
    "            s += i\n",
    "        return s\n",
    "    return func1()"
   ]
  },
  {
   "cell_type": "code",
   "execution_count": 22,
   "metadata": {},
   "outputs": [
    {
     "data": {
      "text/plain": [
       "55"
      ]
     },
     "execution_count": 22,
     "metadata": {},
     "output_type": "execute_result"
    }
   ],
   "source": [
    "func(l)"
   ]
  },
  {
   "cell_type": "code",
   "execution_count": 23,
   "metadata": {},
   "outputs": [],
   "source": [
    "l = [1,2,3,1,2,3,3,4,2,1,1,5,6,5]"
   ]
  },
  {
   "cell_type": "code",
   "execution_count": 24,
   "metadata": {},
   "outputs": [
    {
     "data": {
      "text/plain": [
       "14"
      ]
     },
     "execution_count": 24,
     "metadata": {},
     "output_type": "execute_result"
    }
   ],
   "source": [
    "len(l)"
   ]
  },
  {
   "cell_type": "code",
   "execution_count": 28,
   "metadata": {},
   "outputs": [
    {
     "name": "stdout",
     "output_type": "stream",
     "text": [
      "{1: 0, 2: 0, 3: 0, 4: 0, 5: 0, 6: 0}\n"
     ]
    }
   ],
   "source": [
    "d = {}\n",
    "s = set(l)\n",
    "d = d.fromkeys(s,0)\n",
    "print(d)\n",
    "for i in d:\n",
    "    d[i] = l.count(i)"
   ]
  },
  {
   "cell_type": "code",
   "execution_count": 29,
   "metadata": {},
   "outputs": [
    {
     "data": {
      "text/plain": [
       "{1: 4, 2: 3, 3: 3, 4: 1, 5: 2, 6: 1}"
      ]
     },
     "execution_count": 29,
     "metadata": {},
     "output_type": "execute_result"
    }
   ],
   "source": [
    "d"
   ]
  },
  {
   "cell_type": "code",
   "execution_count": 30,
   "metadata": {},
   "outputs": [
    {
     "data": {
      "text/plain": [
       "[1, 2, 3, 1, 2, 3, 3, 4, 2, 1, 1, 5, 6, 5]"
      ]
     },
     "execution_count": 30,
     "metadata": {},
     "output_type": "execute_result"
    }
   ],
   "source": [
    "l"
   ]
  },
  {
   "cell_type": "code",
   "execution_count": 31,
   "metadata": {},
   "outputs": [
    {
     "data": {
      "text/plain": [
       "4"
      ]
     },
     "execution_count": 31,
     "metadata": {},
     "output_type": "execute_result"
    }
   ],
   "source": [
    "l.count(1)"
   ]
  },
  {
   "cell_type": "code",
   "execution_count": 32,
   "metadata": {},
   "outputs": [
    {
     "data": {
      "text/plain": [
       "3"
      ]
     },
     "execution_count": 32,
     "metadata": {},
     "output_type": "execute_result"
    }
   ],
   "source": [
    "l.count(2)"
   ]
  },
  {
   "cell_type": "code",
   "execution_count": 33,
   "metadata": {},
   "outputs": [],
   "source": [
    "from collections import Counter"
   ]
  },
  {
   "cell_type": "code",
   "execution_count": 34,
   "metadata": {},
   "outputs": [
    {
     "data": {
      "text/plain": [
       "Counter({1: 4, 2: 3, 3: 3, 4: 1, 5: 2, 6: 1})"
      ]
     },
     "execution_count": 34,
     "metadata": {},
     "output_type": "execute_result"
    }
   ],
   "source": [
    "Counter(l)"
   ]
  },
  {
   "cell_type": "code",
   "execution_count": 35,
   "metadata": {},
   "outputs": [],
   "source": [
    "import collections"
   ]
  },
  {
   "cell_type": "code",
   "execution_count": 36,
   "metadata": {},
   "outputs": [
    {
     "name": "stdout",
     "output_type": "stream",
     "text": [
      "['ChainMap', 'Counter', 'OrderedDict', 'UserDict', 'UserList', 'UserString', '_Link', '_OrderedDictItemsView', '_OrderedDictKeysView', '_OrderedDictValuesView', '__all__', '__builtins__', '__cached__', '__doc__', '__file__', '__getattr__', '__loader__', '__name__', '__package__', '__path__', '__spec__', '_chain', '_collections_abc', '_count_elements', '_eq', '_heapq', '_iskeyword', '_itemgetter', '_nt_itemgetters', '_proxy', '_recursive_repr', '_repeat', '_starmap', '_sys', 'abc', 'defaultdict', 'deque', 'namedtuple']\n"
     ]
    }
   ],
   "source": [
    "print(dir(collections))"
   ]
  },
  {
   "cell_type": "code",
   "execution_count": 37,
   "metadata": {},
   "outputs": [],
   "source": [
    "t = ('name','value','city','state')"
   ]
  },
  {
   "cell_type": "code",
   "execution_count": 39,
   "metadata": {},
   "outputs": [
    {
     "data": {
      "text/plain": [
       "'name'"
      ]
     },
     "execution_count": 39,
     "metadata": {},
     "output_type": "execute_result"
    }
   ],
   "source": [
    "t[0]"
   ]
  },
  {
   "cell_type": "code",
   "execution_count": 41,
   "metadata": {},
   "outputs": [],
   "source": [
    "details = collections.namedtuple('Details','Name Roll City State')"
   ]
  },
  {
   "cell_type": "code",
   "execution_count": 42,
   "metadata": {},
   "outputs": [],
   "source": [
    "s1 = details(Name=\"stuti\",Roll=34,City=\"jaipur\",State=\"Raj\")"
   ]
  },
  {
   "cell_type": "code",
   "execution_count": 43,
   "metadata": {},
   "outputs": [
    {
     "data": {
      "text/plain": [
       "Details(Name='stuti', Roll=34, City='jaipur', State='Raj')"
      ]
     },
     "execution_count": 43,
     "metadata": {},
     "output_type": "execute_result"
    }
   ],
   "source": [
    "s1"
   ]
  },
  {
   "cell_type": "code",
   "execution_count": 44,
   "metadata": {},
   "outputs": [
    {
     "data": {
      "text/plain": [
       "'jaipur'"
      ]
     },
     "execution_count": 44,
     "metadata": {},
     "output_type": "execute_result"
    }
   ],
   "source": [
    "s1.City"
   ]
  },
  {
   "cell_type": "code",
   "execution_count": 49,
   "metadata": {},
   "outputs": [],
   "source": [
    "l = [\n",
    "    ['python',3.8,\"development\",\"data science\"],\n",
    "    ['java',2.1,\"android\",\"gaming apps\"],\n",
    "    ['c',1.8,\"software development\",\"iot\"],\n",
    "    ['python',3.8,\"machine learning\",\"data science\"]\n",
    "]"
   ]
  },
  {
   "cell_type": "code",
   "execution_count": 50,
   "metadata": {},
   "outputs": [],
   "source": [
    "l.sort()"
   ]
  },
  {
   "cell_type": "code",
   "execution_count": 51,
   "metadata": {},
   "outputs": [
    {
     "data": {
      "text/plain": [
       "[['c', 1.8, 'software development', 'iot'],\n",
       " ['java', 2.1, 'android', 'gaming apps'],\n",
       " ['python', 3.8, 'development', 'data science'],\n",
       " ['python', 3.8, 'machine learning', 'data science']]"
      ]
     },
     "execution_count": 51,
     "metadata": {},
     "output_type": "execute_result"
    }
   ],
   "source": [
    "l"
   ]
  },
  {
   "cell_type": "code",
   "execution_count": 52,
   "metadata": {},
   "outputs": [],
   "source": [
    "from operator import itemgetter"
   ]
  },
  {
   "cell_type": "code",
   "execution_count": 55,
   "metadata": {},
   "outputs": [],
   "source": [
    "l.sort(key=itemgetter(1))"
   ]
  },
  {
   "cell_type": "code",
   "execution_count": 56,
   "metadata": {},
   "outputs": [
    {
     "data": {
      "text/plain": [
       "[['c', 1.8, 'software development', 'iot'],\n",
       " ['java', 2.1, 'android', 'gaming apps'],\n",
       " ['python', 3.8, 'development', 'data science'],\n",
       " ['python', 3.8, 'machine learning', 'data science']]"
      ]
     },
     "execution_count": 56,
     "metadata": {},
     "output_type": "execute_result"
    }
   ],
   "source": [
    "l"
   ]
  },
  {
   "cell_type": "code",
   "execution_count": 62,
   "metadata": {},
   "outputs": [],
   "source": [
    "#nested functions\n",
    "\n",
    "def f(a):\n",
    "    def f1(a):\n",
    "        return a**2\n",
    "    return f1(a)      #return 100"
   ]
  },
  {
   "cell_type": "code",
   "execution_count": 63,
   "metadata": {},
   "outputs": [
    {
     "name": "stdout",
     "output_type": "stream",
     "text": [
      "100\n"
     ]
    }
   ],
   "source": [
    "print(f(10))    #print(100)"
   ]
  },
  {
   "cell_type": "code",
   "execution_count": 66,
   "metadata": {},
   "outputs": [],
   "source": [
    "#nested functions\n",
    "\n",
    "def f(a):\n",
    "    def f1(a):\n",
    "        print(a**2)\n",
    "    return f1(a)"
   ]
  },
  {
   "cell_type": "code",
   "execution_count": 68,
   "metadata": {},
   "outputs": [
    {
     "name": "stdout",
     "output_type": "stream",
     "text": [
      "100\n",
      "None\n"
     ]
    }
   ],
   "source": [
    "print(f(10))"
   ]
  },
  {
   "cell_type": "code",
   "execution_count": 71,
   "metadata": {},
   "outputs": [],
   "source": [
    "def f():\n",
    "    def func(a,b):\n",
    "        return a+b\n",
    "    return func(10,20)"
   ]
  },
  {
   "cell_type": "code",
   "execution_count": 72,
   "metadata": {},
   "outputs": [
    {
     "data": {
      "text/plain": [
       "30"
      ]
     },
     "execution_count": 72,
     "metadata": {},
     "output_type": "execute_result"
    }
   ],
   "source": [
    "f()"
   ]
  },
  {
   "cell_type": "code",
   "execution_count": 73,
   "metadata": {},
   "outputs": [],
   "source": [
    "def f():\n",
    "    def func(a,b):\n",
    "        return a+b\n",
    "    return func(int(input()),int(input()))"
   ]
  },
  {
   "cell_type": "code",
   "execution_count": 74,
   "metadata": {},
   "outputs": [
    {
     "name": "stdout",
     "output_type": "stream",
     "text": [
      "20\n",
      "30\n"
     ]
    },
    {
     "data": {
      "text/plain": [
       "50"
      ]
     },
     "execution_count": 74,
     "metadata": {},
     "output_type": "execute_result"
    }
   ],
   "source": [
    "f()"
   ]
  },
  {
   "cell_type": "code",
   "execution_count": 75,
   "metadata": {},
   "outputs": [],
   "source": [
    "del f"
   ]
  },
  {
   "cell_type": "code",
   "execution_count": 76,
   "metadata": {},
   "outputs": [
    {
     "ename": "NameError",
     "evalue": "name 'f' is not defined",
     "output_type": "error",
     "traceback": [
      "\u001b[1;31m---------------------------------------------------------------------\u001b[0m",
      "\u001b[1;31mNameError\u001b[0m                           Traceback (most recent call last)",
      "\u001b[1;32m<ipython-input-76-c43e34e6d405>\u001b[0m in \u001b[0;36m<module>\u001b[1;34m\u001b[0m\n\u001b[1;32m----> 1\u001b[1;33m \u001b[0mf\u001b[0m\u001b[1;33m(\u001b[0m\u001b[1;33m)\u001b[0m\u001b[1;33m\u001b[0m\u001b[1;33m\u001b[0m\u001b[0m\n\u001b[0m",
      "\u001b[1;31mNameError\u001b[0m: name 'f' is not defined"
     ]
    }
   ],
   "source": [
    "f()"
   ]
  },
  {
   "cell_type": "code",
   "execution_count": 86,
   "metadata": {},
   "outputs": [],
   "source": [
    "#closures is the concept of data hiding \n",
    "\n",
    "def abc():\n",
    "    def add(a,b):\n",
    "        return a+b\n",
    "    return add"
   ]
  },
  {
   "cell_type": "code",
   "execution_count": 81,
   "metadata": {},
   "outputs": [],
   "source": [
    "a = abc()   #a=add"
   ]
  },
  {
   "cell_type": "code",
   "execution_count": 80,
   "metadata": {},
   "outputs": [
    {
     "data": {
      "text/plain": [
       "30"
      ]
     },
     "execution_count": 80,
     "metadata": {},
     "output_type": "execute_result"
    }
   ],
   "source": [
    "a(10,20)   #add(10,20)"
   ]
  },
  {
   "cell_type": "code",
   "execution_count": 82,
   "metadata": {},
   "outputs": [],
   "source": [
    "def f(a,b):\n",
    "    return a+b"
   ]
  },
  {
   "cell_type": "code",
   "execution_count": 83,
   "metadata": {},
   "outputs": [
    {
     "data": {
      "text/plain": [
       "30"
      ]
     },
     "execution_count": 83,
     "metadata": {},
     "output_type": "execute_result"
    }
   ],
   "source": [
    "add = f\n",
    "add(10,20)"
   ]
  },
  {
   "cell_type": "code",
   "execution_count": 84,
   "metadata": {},
   "outputs": [
    {
     "data": {
      "text/plain": [
       "2024967651544"
      ]
     },
     "execution_count": 84,
     "metadata": {},
     "output_type": "execute_result"
    }
   ],
   "source": [
    "id(f)"
   ]
  },
  {
   "cell_type": "code",
   "execution_count": 85,
   "metadata": {},
   "outputs": [
    {
     "data": {
      "text/plain": [
       "2024967651544"
      ]
     },
     "execution_count": 85,
     "metadata": {},
     "output_type": "execute_result"
    }
   ],
   "source": [
    "id(add)"
   ]
  },
  {
   "cell_type": "code",
   "execution_count": 87,
   "metadata": {},
   "outputs": [
    {
     "data": {
      "text/plain": [
       "2024967653704"
      ]
     },
     "execution_count": 87,
     "metadata": {},
     "output_type": "execute_result"
    }
   ],
   "source": [
    "id(abc)"
   ]
  },
  {
   "cell_type": "code",
   "execution_count": 88,
   "metadata": {},
   "outputs": [
    {
     "data": {
      "text/plain": [
       "2024958537944"
      ]
     },
     "execution_count": 88,
     "metadata": {},
     "output_type": "execute_result"
    }
   ],
   "source": [
    "id(a)"
   ]
  },
  {
   "cell_type": "code",
   "execution_count": 89,
   "metadata": {},
   "outputs": [],
   "source": [
    "del abc"
   ]
  },
  {
   "cell_type": "code",
   "execution_count": 90,
   "metadata": {},
   "outputs": [
    {
     "data": {
      "text/plain": [
       "30"
      ]
     },
     "execution_count": 90,
     "metadata": {},
     "output_type": "execute_result"
    }
   ],
   "source": [
    "a(10,20)"
   ]
  },
  {
   "cell_type": "code",
   "execution_count": 91,
   "metadata": {},
   "outputs": [
    {
     "data": {
      "text/plain": [
       "50"
      ]
     },
     "execution_count": 91,
     "metadata": {},
     "output_type": "execute_result"
    }
   ],
   "source": [
    "a(20,30)"
   ]
  },
  {
   "cell_type": "code",
   "execution_count": 97,
   "metadata": {},
   "outputs": [],
   "source": [
    "def sq(x):\n",
    "    return x**2\n",
    "\n",
    "def cube(x):\n",
    "    return x**3\n",
    "\n",
    "def operation(func,x):\n",
    "    return func(x)    #sq(10)"
   ]
  },
  {
   "cell_type": "code",
   "execution_count": 98,
   "metadata": {},
   "outputs": [
    {
     "data": {
      "text/plain": [
       "2024967654856"
      ]
     },
     "execution_count": 98,
     "metadata": {},
     "output_type": "execute_result"
    }
   ],
   "source": [
    "id(sq)"
   ]
  },
  {
   "cell_type": "code",
   "execution_count": 99,
   "metadata": {},
   "outputs": [
    {
     "data": {
      "text/plain": [
       "2024967654568"
      ]
     },
     "execution_count": 99,
     "metadata": {},
     "output_type": "execute_result"
    }
   ],
   "source": [
    "id(cube)"
   ]
  },
  {
   "cell_type": "code",
   "execution_count": 100,
   "metadata": {},
   "outputs": [
    {
     "data": {
      "text/plain": [
       "2024967653704"
      ]
     },
     "execution_count": 100,
     "metadata": {},
     "output_type": "execute_result"
    }
   ],
   "source": [
    "id(operation)"
   ]
  },
  {
   "cell_type": "code",
   "execution_count": 101,
   "metadata": {},
   "outputs": [
    {
     "data": {
      "text/plain": [
       "<function __main__.sq(x)>"
      ]
     },
     "execution_count": 101,
     "metadata": {},
     "output_type": "execute_result"
    }
   ],
   "source": [
    "sq"
   ]
  },
  {
   "cell_type": "code",
   "execution_count": 102,
   "metadata": {},
   "outputs": [
    {
     "data": {
      "text/plain": [
       "<function __main__.cube(x)>"
      ]
     },
     "execution_count": 102,
     "metadata": {},
     "output_type": "execute_result"
    }
   ],
   "source": [
    "cube"
   ]
  },
  {
   "cell_type": "code",
   "execution_count": 103,
   "metadata": {},
   "outputs": [
    {
     "data": {
      "text/plain": [
       "100"
      ]
     },
     "execution_count": 103,
     "metadata": {},
     "output_type": "execute_result"
    }
   ],
   "source": [
    "operation(sq,10)  #calls the operation function"
   ]
  },
  {
   "cell_type": "code",
   "execution_count": 104,
   "metadata": {},
   "outputs": [],
   "source": [
    "def recv(n):\n",
    "    if n == 1:\n",
    "        return 1\n",
    "    if n==2:\n",
    "        return 2\n",
    "    else:\n",
    "        return n+recv(n-1)"
   ]
  },
  {
   "cell_type": "code",
   "execution_count": 105,
   "metadata": {},
   "outputs": [
    {
     "data": {
      "text/plain": [
       "5"
      ]
     },
     "execution_count": 105,
     "metadata": {},
     "output_type": "execute_result"
    }
   ],
   "source": [
    "recv(3)"
   ]
  },
  {
   "cell_type": "code",
   "execution_count": 106,
   "metadata": {},
   "outputs": [
    {
     "data": {
      "text/plain": [
       "20"
      ]
     },
     "execution_count": 106,
     "metadata": {},
     "output_type": "execute_result"
    }
   ],
   "source": [
    "recv(6)"
   ]
  },
  {
   "cell_type": "markdown",
   "metadata": {},
   "source": [
    "## Decorators"
   ]
  },
  {
   "cell_type": "code",
   "execution_count": 108,
   "metadata": {},
   "outputs": [],
   "source": [
    "a = map(lambda x:x**2,{1,2,3,4,5})"
   ]
  },
  {
   "cell_type": "code",
   "execution_count": 110,
   "metadata": {},
   "outputs": [],
   "source": [
    "a,b,c,d,e = map(lambda x:x**2,{1,2,3,4,5})"
   ]
  },
  {
   "cell_type": "code",
   "execution_count": 111,
   "metadata": {},
   "outputs": [
    {
     "data": {
      "text/plain": [
       "1"
      ]
     },
     "execution_count": 111,
     "metadata": {},
     "output_type": "execute_result"
    }
   ],
   "source": [
    "a"
   ]
  },
  {
   "cell_type": "code",
   "execution_count": 112,
   "metadata": {},
   "outputs": [
    {
     "data": {
      "text/plain": [
       "4"
      ]
     },
     "execution_count": 112,
     "metadata": {},
     "output_type": "execute_result"
    }
   ],
   "source": [
    "b"
   ]
  },
  {
   "cell_type": "code",
   "execution_count": 113,
   "metadata": {},
   "outputs": [
    {
     "data": {
      "text/plain": [
       "9"
      ]
     },
     "execution_count": 113,
     "metadata": {},
     "output_type": "execute_result"
    }
   ],
   "source": [
    "c"
   ]
  },
  {
   "cell_type": "code",
   "execution_count": 114,
   "metadata": {},
   "outputs": [
    {
     "data": {
      "text/plain": [
       "16"
      ]
     },
     "execution_count": 114,
     "metadata": {},
     "output_type": "execute_result"
    }
   ],
   "source": [
    "d"
   ]
  },
  {
   "cell_type": "code",
   "execution_count": 115,
   "metadata": {},
   "outputs": [
    {
     "data": {
      "text/plain": [
       "25"
      ]
     },
     "execution_count": 115,
     "metadata": {},
     "output_type": "execute_result"
    }
   ],
   "source": [
    "e"
   ]
  },
  {
   "cell_type": "markdown",
   "metadata": {},
   "source": [
    "1. Decorate\n",
    "2. It is used to have some additional functionality on some existing functions."
   ]
  },
  {
   "cell_type": "code",
   "execution_count": 123,
   "metadata": {},
   "outputs": [],
   "source": [
    "def decorator(func):\n",
    "    def inner():\n",
    "        print(\"*\"*70)\n",
    "        result = func()   #greet()\n",
    "        print(result.center(50))\n",
    "        print(\"*\"*70)\n",
    "    return inner"
   ]
  },
  {
   "cell_type": "code",
   "execution_count": 124,
   "metadata": {},
   "outputs": [],
   "source": [
    "def greet():\n",
    "    name = input(\"Enter your name : \")\n",
    "    return \"welcome \" + name"
   ]
  },
  {
   "cell_type": "code",
   "execution_count": 125,
   "metadata": {},
   "outputs": [
    {
     "name": "stdout",
     "output_type": "stream",
     "text": [
      "**********************************************************************\n",
      "Enter your name : simran\n",
      "                  welcome simran                  \n",
      "**********************************************************************\n"
     ]
    }
   ],
   "source": [
    "d = decorator(greet)\n",
    "d()"
   ]
  },
  {
   "cell_type": "code",
   "execution_count": 127,
   "metadata": {},
   "outputs": [],
   "source": [
    "def decorator(func):\n",
    "    def inner(a,b):\n",
    "        print(\"*\"*70)\n",
    "        print(\"*\"*70)\n",
    "        result = func(a,b)    #add(10,20)\n",
    "        print(result)\n",
    "        print(\"*\"*70)\n",
    "        print(\"*\"*70)\n",
    "    return inner"
   ]
  },
  {
   "cell_type": "code",
   "execution_count": 131,
   "metadata": {},
   "outputs": [],
   "source": [
    "def add(a,b):\n",
    "    return a+b\n",
    "\n",
    "\n",
    "def sub(a,b):\n",
    "    return a-b\n",
    "\n",
    "def mul(a,b):\n",
    "    return a*b"
   ]
  },
  {
   "cell_type": "code",
   "execution_count": 129,
   "metadata": {},
   "outputs": [
    {
     "name": "stdout",
     "output_type": "stream",
     "text": [
      "**********************************************************************\n",
      "**********************************************************************\n",
      "30\n",
      "**********************************************************************\n",
      "**********************************************************************\n"
     ]
    }
   ],
   "source": [
    "a = decorator(add)\n",
    "a(10,20)"
   ]
  },
  {
   "cell_type": "code",
   "execution_count": 130,
   "metadata": {},
   "outputs": [
    {
     "name": "stdout",
     "output_type": "stream",
     "text": [
      "**********************************************************************\n",
      "**********************************************************************\n",
      "10\n",
      "**********************************************************************\n",
      "**********************************************************************\n"
     ]
    }
   ],
   "source": [
    "s = decorator(sub)\n",
    "s(20,10)"
   ]
  },
  {
   "cell_type": "code",
   "execution_count": 132,
   "metadata": {},
   "outputs": [],
   "source": [
    "@decorator\n",
    "def add(a,b):\n",
    "    return a+b\n",
    "\n",
    "\n",
    "def sub(a,b):\n",
    "    return a-b\n",
    "\n",
    "def mul(a,b):\n",
    "    return a*b"
   ]
  },
  {
   "cell_type": "code",
   "execution_count": 133,
   "metadata": {},
   "outputs": [
    {
     "name": "stdout",
     "output_type": "stream",
     "text": [
      "**********************************************************************\n",
      "**********************************************************************\n",
      "30\n",
      "**********************************************************************\n",
      "**********************************************************************\n"
     ]
    }
   ],
   "source": [
    "add(10,20)"
   ]
  },
  {
   "cell_type": "code",
   "execution_count": 134,
   "metadata": {},
   "outputs": [],
   "source": [
    "import time"
   ]
  },
  {
   "cell_type": "code",
   "execution_count": 135,
   "metadata": {},
   "outputs": [
    {
     "data": {
      "text/plain": [
       "1582968315.2571235"
      ]
     },
     "execution_count": 135,
     "metadata": {},
     "output_type": "execute_result"
    }
   ],
   "source": [
    "time.time()"
   ]
  },
  {
   "cell_type": "code",
   "execution_count": 136,
   "metadata": {},
   "outputs": [
    {
     "data": {
      "text/plain": [
       "'Sat Feb 29 14:56:12 2020'"
      ]
     },
     "execution_count": 136,
     "metadata": {},
     "output_type": "execute_result"
    }
   ],
   "source": [
    "time.ctime()"
   ]
  },
  {
   "cell_type": "code",
   "execution_count": 137,
   "metadata": {},
   "outputs": [],
   "source": [
    "def gettime(func):\n",
    "    def timein(*args):\n",
    "        print(\"*\"*70)\n",
    "        start = time.time()\n",
    "        print(f\"The start time is : {start}\")\n",
    "        result = func(*args)\n",
    "        print(\"*\"*70)\n",
    "        print(result)\n",
    "        end = time.time()\n",
    "        print(f\"The end time is : {end}\")\n",
    "        print(\"*\"*70)\n",
    "        print(\"The total time taken is : \",end-start,\"seconds\")\n",
    "    return timein"
   ]
  },
  {
   "cell_type": "code",
   "execution_count": 138,
   "metadata": {},
   "outputs": [],
   "source": [
    "@gettime\n",
    "def cube(x):\n",
    "    return x**3"
   ]
  },
  {
   "cell_type": "code",
   "execution_count": 140,
   "metadata": {},
   "outputs": [
    {
     "name": "stdout",
     "output_type": "stream",
     "text": [
      "**********************************************************************\n",
      "The start time is : 1582968967.3861387\n",
      "**********************************************************************\n",
      "999999999999999999999999999999999999999999999999999999999999999999999999999999999999999997000000000000000000000000000000000000000000000000000000000000000000000000000000000000000002999999999999999999999999999999999999999999999999999999999999999999999999999999999999999999\n",
      "The end time is : 1582968967.3861387\n",
      "**********************************************************************\n",
      "The total time taken is :  0.0 seconds\n"
     ]
    }
   ],
   "source": [
    "cube(999999999999999999999999999999999999999999999999999999999999999999999999999999999999999999)"
   ]
  },
  {
   "cell_type": "code",
   "execution_count": 143,
   "metadata": {},
   "outputs": [],
   "source": [
    "@gettime\n",
    "def fact(x):\n",
    "    f = 1\n",
    "    while x>0:\n",
    "        f = f*x\n",
    "        x = x - 1\n",
    "    return f"
   ]
  },
  {
   "cell_type": "code",
   "execution_count": 148,
   "metadata": {},
   "outputs": [
    {
     "name": "stdout",
     "output_type": "stream",
     "text": [
      "**********************************************************************\n",
      "The start time is : 1582969164.942249\n",
      "**********************************************************************\n",
      "285424237449758526756481365883516569292373342134029768161128980144219506568097771788343905163691510741298041288087097782255408534485991414387740392021071398973667011350508514880335666700084745314953258676132861224236628806645284572473256328600183124384130587974128394328835849713796914528335382428434594936830909075615040358228639917862300291698136961591201169640162892115019013259200931698354989800715657803735909236925819673936019724810381420990042506298831809811435787365444557279600626245558876138271099437246021447431422903553531292736475061977506849240749032962759842388266403245609882603987925062381328698298167516811526617637993526849712053043325693323676329431193457882689293119045817092622999296346540923609645660487200038742799883194780840417049574509892834113024929070553992547524100579828733733982349723664672021734233069616416875257689233264013235161980123045975069010541501113491645341582729099773910306010566602710248989278678607643191471154771313560172554767394281208839150142509676321110927831941695266848586399166532307760160411922771779771986784124499810760247881625858072784843318186705633717614626194523574043943309238977107949682778145097357029402001946805401061694097745114084709550476416149733271612571781777766468522889956183432567490888882671628414445926509961186887459315902861409262609273378272002124028153570570074588416370082578042159889498228527990807240426894673823991496216156858562243101352268307169705097705303868613913278207237935014459814779004278170094482950351103409650766779815631493031083862100065038419496580585296354928186536067222344925320179137966434826539115011936309846752093388697618158914717966374702279297564539593787103048113441137023346872558833777623272935943885559942272920181744110619279387435488996717803161854460492337096016525615934952222607440728180640638132790564875744721015733016210105550753703779117203321122302961434889894706749175424369469080591712140865956879745338319080998945657867957056477788367328149712305125719184308889919439359583671226154002634371707284167415526118119015450264026115585382121994985457947832595074784975070472092991698868384398985183172376266369708031946798195243523129101238849706165369732710055218758557011857350767638806620502604359667593423509733030299941400042376159223695188225526536609228711977814696120651903067637038185756066125537286460256709204495322652131404444093356126667743392981663572640926516467056166578370138578600227880673830932029293591856314547040954655099103033243878842370883788276580872372235759190982387290085900954453720420652980948251726616462314108063333194607418799887233978700211499367029270821250335610721664772799444899819801789817122873749777046538427960441605066134514823089350355460071522107261049261807077490100445183963816072012053828470230874033873085730381282383926473826485672056037876921167004576009830053525248150197406824168438529235555102951140638585065412928911489649415693527221373615851679697787071535811197589675620816263154381005842886260514341668440161587283643002916072786470368503740463075932750103044776580211617278244906698481681847900590039303293795026425273265347669540528996259329320379959357697063034282133590421673988387951177047221541402441739322710327752206163039796867308009487990259318248216009991191120218183938287018829503006160437155142913913100078419449867174135858301216944194904234244466554763391236186029061788566407456971618092125487087463389641059659638352923267340251413417451640368150158224642211728830590127392797907130745141193855250123305565106531577827363238293763457305902645340539060906308035630544609461515563226167482147565207858329504769780138761950363829473561016817651561499970851811733461260194716197608752063977223776670889020779973493490680595711168370645620809805619840531853897468663358756278446098337861721888066895912399450349651601867553292653531398582795966669531831931921854043227807440754715238276611368571823025760314885305086576733995213530387805032277401751584134892331901408878880222540278981724654575306432905296679640161916641699844945146842019796532331528961247816204027568089325106659365033871805465688836378814170459705854163625942845552225054938233662227158154718718345250653507659974079765202221379780434086003962009603553231522678580932928429616399483412929428241009804677006251011141822550215848836485979412538997570678539728076824940952843695019219424528756414049838329552065784782001765306501768064882308533123120238090293236084997256406586161733837174642459270487883806237501229927575680736916132196161816520451210080301392878359689798293434927054618283290192770011457547519048732789880812615719050004863813770435349898501199053908892734476752472207539701211530116178400926219077027077658394615951596438092883733407404658190508010489901136509426861047364010227368282787134308225542154018934853794412871525595050400891645300994857332407505524528608658314615145803182644164902906970639130318757005268265621784605317156580518798726368380190456402015391809080589845582905745499615805682600846009332434643465194500586429747251583844176820543662676225444981382359879594867753962818573913542859451452816567516473658855950991618915735831463913142067055005863490500105893028397167226652814976507656533087356262959004633238458689838986166262260569885863747550829607425986618714017540061479804220848992256133969561401057912910575229453679298815975040010642347924474569347266074562008408990669009635671135550340421340855237672466994898842468951715960788325397459405935051740260096303747922959096466219105381631008647073961290675656425188901049022242329878134387367473923921564615562471137532580846536939452009795413704641383694977469887734358369912584235271548353234048833159241156888964765694765286130140384490972570294459254630598039296212098602384155617835026840522631378147008659264162606843254417978550358167772660081287530612291678219491467457253593059228097714446516212037933134456685763384143951337080073505023598813993485600968313783477465374244720313704705692595296692365739346031322285099414538532055738005929156019318530900221369093844168309357327937585115756183840692355440806442136100774080717727639508108689070102378804001891329424661519858692523785028148958462412008357075321745587622608230771804979249946539847051466261328092203024236701017610450770837825181456231888239589443784461937847433624108210582246933132625363529087083019033356639269137766977946868903591415852719478436241510404454577442228493569000060992806138504880414320036870181145569877413871914508095029224117344910272404234788720383122794002020866234486219024540533814055855441469754156705527145680550225402214693297757661264360820716937225112865165558636352165822408631179142796623480652610410266785353595807133271606137572415111580346119586696975825484075295140716547113546297881139654269093048678597791399901721875016891155688038138247945950532245058856737873078475285238682184348857259629681082778268909878807408838276556538161007234079653982608607418000184397028024118724219764824116048369100723315153891971479124876587628180910952359315032859233023040583892019767567420176889499662561757792031015755686024270176669434291072079061114544315071672458673225725247305956896919972141197966614326903882866990788904208240354145368120302730190810178202167045446075785715728343247995082267122577443653709942700078492662190196389271895615308191625457836208904176563516227785909774362761610054259946040827897210850241019505168883174373012691933317239150970279626436604017703334568305278912293680154237385911168176047327452279122579901056387581411883940393954610854165208874282069941568889848457249422032029128138771824617398675435478438975570386906813974206771052146529757002251059622883642421558898641291689537616639290968730396190353234578049077777563420426778064827376180854634493214788120313219066211287428361804816387320266867199772042166527065330406470685767335299268514038057264127729203164430721637907701210610426995776865002995264785023360937030440821758625330276986752596833576349005907053440356250204188983213540923295348965587854822570757476466559672897632515970207878642785778674720960805205071031072833256514866980102007570745413204751679705475051966483185438250159216895566320817175468653512569241861784893008006332473168193387518301998597684435545254281592577896131219220072133499357117564837853532135476797816276600863133270522912982986504469699412787560295387917125587640281800300929420274819827270545973128376695416323413442036880697405222048912231314611642416136021956854484263204374534075893279898905047536914073942988355465440422963666039760941630552273488925425552267558224142513907637694071639691221494143923850599385198992186783979185569721158751628302620504015348920456429326100627755495268812910437792103289341125669618888990026369819423158994197034077273126383090170856459628972448948441632861474871124869638350695419429098730087603077366722778265952769809126381065025151513178174562879519856128545534312603543805335945705759399444816104835643729190448688740994890859088609855637230823927449636353599122205150759277313063675059802416049727231767306903349857909401351537636509305001230925978490545701252899325410274697363265826423253537220047768463940453064951577991698516656416092721256951155913067354471802920659905627440605810029598640198653754487033316631714331646348133296951220130310751605138424328466908253167643694289347938802016369809147998260790419283830180147099441620242866145086129307703002815695906635691724065827420407288180343087376349434440964694754420212923428869907327603541100551364211741044025662986911547343700077101915494213391411807950725091372429643096528615699729321336354589159955051595403720690829985163859633598431077365849353261911467656232477846363590490742620539241586338692713150016651223179375664421094253500054514653472699781034964847583173736896630114383046935179574252440618214435395684711246462450734234360381351662355939709221582680446897234462787086318510691137110142609965212477451476412235256339109664321905222229038029804333060003548430687184080579835822915812772716133337070016411978920492133125172986230298097072666163053463446796907396133056394515377952505760451410344559021301501149495948602121767818799265768965772920665337531327928571763760276817225367575428167055288310038632046353264036924754441323357667986391399099952874092950448512493585942192141477552758908024338580886901808249622116954032778261382466086788624138357000309714157568160924027316386485751750033786019559178096791100070966460010183601107501732136124727607145410350034158843935547748617894724338886356627110538375929005947204315991007954980055062902964034852397770130828781509453680885365625055205592163799141754608137596075192549161771693155740501669374584082403102344961386226929288506865369498463064903731741081943476809981101645834310977920744471617693730018288261539159481715171600628946461465488957563905415265168286684744593368782166733183963056689437625659405152077743296518237009410979951221626694107048703221766388413473580791900318235716036253322651603659040977391245972144172381259467644711065724956306491598144481789981629235294379761060632837721266312749291414154400379565399126233314318415028188202253003896227455858603794371163906765320735194615865194082003554321520298543159798579125244386748113089061283872566721970501037050783041654867361610270119374062608891847024479350971828167952883574303017845133792227556001911821001106492975437966632760884093427922848752701673458973029868244811211004355633068314831320573327335677836692990897414278420919100474326014436110093673908531744854711409388819124276116046608944521113821174147133914131444181310927248905168025323879089527786314099988210931519975648176191714841994086762500162301315682524679827886071516642241601847180237332024972326961891150545576878420782464288045650571314922806936853022452976678459888339880465003727867841181249786358486804295885754597417140832257757430675350797135606595600387318489795757995273360006105865963718095903533915006012184024544143688629651570684043036253402627640448473023838864937845462813793459206332167555470668556735225553905588113132636962922030509090075764574796779622830517386768540922603342505024158390108492587347097137501759256350663636416787913627938638306887640963103868970874913169595014567994195355031240327835489140061178282498937196393268713784427860958427420588414833875792934149447992783583657557802261584533584300526033131905154986435423507603837028155614321127106865420932898841036596625511551924987307284592509321781276270341903350251521424516179887157097618498753325026708879917424505511742056051551397519685730396984051915745417320935120876331934674351212076143342057496955911899672458198361397759760520637953192289789216132314942804273090367305857585027526904204187157553043027033312284352487422270922526867331704607534118260661438723870431554457180309198053211950314803613511508229488952245918276235751222397468651527235773662006427304128400379298063322574321538591086696675811731966738167752439918398635644514547971383217824398204509743465161279797081309937734306542792867829785607261730452158602483172243522266551015442400396834099403716157861853136943180460921303724919582832677946761512880645198390629819001556980061219188531085590884078933495701659239035189269001950387968700770271404957537629988579928813164957009678955038816160770638063012042289486434767269133097553921864374588847315127863673089968879148564191215006913714727007194934002896482431522714061393960569639540456324640658066473663228633686532967097285520566952244111462733282336141185980573774537032496974136497421273539838791449472519835214803924713816356040228784603837037753143361479260009186658132637735060887843021881491216236148419603714052235032201868128896633346926505262546302853094592406084723172658572275091712489086034731835886749827907950469915686782820141759798619061198398340970394432394305592530064251608072489597470169039151607574140687609344698878395802611575797104521906002346035441633813247691886593437901110526255305124655298484389704042188048489620416401310627525313003580704623940332061260457937107744575921341922259516287236951488918742609604803370690365006858108654639673150811288048271265248206059932787067070712685760583660285309023722573088658240910398946640833684202139565358814818903386099450440185404075823297939671386435423349873587133178789103657886835515335984461169353152712549824349845595810525029158684140309871454337895096177549051653829032502923868271895661862179618220251111431691321745061962583297688441835765568815338030037310126444593250197621294538872522743648371777623221668563152230798493116439173589681089698950366210231089400264352350829550202981582148704651179010614153643076960745264315230391614024224580571228267649238897626216958528191059535087482071729289580272526809960247834254850063314900678675452228830239552039779035631570159171910281342049890070588323691324279513063545737985366980164205062965281540617526048285891583848064161374198625288365356249866843410185437502604155968767626055910460134239194231991026006995843878897431273134565154874002101532777668059961806410654309400502446187011325087965562930668208460744383874828681536505717095090772779518410093560456657261685072483199140742184108588913157218867170495191489514625234148988798451178358620295799833205271815267356862280852626714545920533758889248551344951277605582263184914424284497047030193150246458668968982909594507051566686832744148260845592906823565900399560358128201595007920087677290211513543138605946586335213264424806196744163823169982340645426634558262774909120349921833337081924297631962832715977451039038348134315771071042771979632325528140702132843556639635681505786508282822054649069696711315719687635270022797206370989547532728964348218927493632932476005619185417459695405008367101850808233175503795544877339385793398814305060075826823546334252313791421778715884400212478536100179541639815844714396078960691750123392350212147864709850571949574149479179604997060325355068687897095692877162755286087078313550627784130740533575723244503116815288997629465153838252403903547300388260393639788388860360243142609657244847986769401430489203413909229630946546751143099001419632211374506637809681850507411564486355600135597505317451152774692881675521981070517565178157713779387329088529491098157317720871234666547244060786843196760477545680698770808631057111905909047943169338670009416435826586064365503254828371160765113556460440607588379042178220133347601923635559323191832046494439250739227991873768684353092534341129598791141310055553867160525846797751606448348261232489008888119767473463175300800330901915827145168516956985777833271224000718574643121957148390254242938979331925172199584903742792596076629601875856648580039322847595654893015840033928245896809453974245697439482365236933880442688295729105771935185146324389191701942958178682019448785609721924615009141546713732003981627665407251932085084611036247625653197257990736342162570879401753365270193641083557464332562254130336632268866712389532039083767825614566461454275391886191725061297480777207068421203636011306165679289345935918495164086357679344228992857279893685348827467470277327200037393715567837384490080446613947811525636236662901427398718302764580031134606853256122621678837810222337011680263430728508956223670565605630615105252003714486922625570739863537593239866900798515844061886355396288196864425753717578819577850956967757676355194467673067242281400475293578451379051151593981954557907639672132679840808789753762133957227322439055500955160121941318943300944347945599774597183088961289195480061200413284382476932828741128436555880706561274899482181215553364237156507866358058598264886482662653007266299177116539046779941200856135637472917048397991031422633163289956049045138878243326538025828908772266778051746916790560699270008103882007833780410127630314362270317977903738719731550208387966243898483334186562227992949817599860679756533938419244962324199022558996577934699034084314971451241017159077085930490801892227657043499279635251430018688865946920044632744420472816326835447590010809873895835773126089911030127758592446095830657043861606241410322279808275149542973831969041805446622720987241650289263199080993357896612252496969859146281810598248493588808659252214796959710063579983136332521713677509798062197511673746385114640839963096117734830620442243617478085186645656200925048710462965507748187157832416531919476146170851794006342969993610165928051423286448698643171388035514243339331559877359697723878479644660398656304591814787834140153233289655504357890643211161580901905140435123933907915975962016147042712579949587602631565810023546530788915669299211001786027452196609312256140168958732120772604393655291670649504609276541562426537924847796298449014349099293540021631033422479307192808904550384876065915735074069485289591147946198513489496626511142647222212810278159172357561580283157922202521097227183214650387829276028028690002312334086874404982195848680007088756640438359202491993087954834387908788849851604413001398608116508180692857038916079681298382213405288358687425565918063679383411002466632478004671938470834815138764998361181506136731956923073285557600802249575923651728516512168462891660976284063267465183374748164034091456003384004631259798073602255033604589259880020842895895345538555349952194371702126318946051238765461227923992873254555211052360245716602714863158432797383613189866677863818422595236727401683116910009246616952793513510880841025544614201329205521532000218744398750019463423501501826181524755427936027991322223665107912942445831255680108853817676201687946866842344205153022198162937960984017119388748631561415747008343207447389787325678296492997626611762844192819851367955596701914225728074623242173634801494907626981405826800958403865347704417008466794865162459532415845977702655151501078976911489909959542240041612960683292779134178334755272273507810085485198650546153642005621404552006481561147958047008512605688027811663478955271906247075062634669636388903851250189657696626926564623450011275378088356265838692870425967473643761661499798249183719971096957453907435933936206238345997407232303781438816308477610001993121333071334420133192368880462378598047268545923952837936913732717946258032873229716599547655292138680712172916880997228108248807966058524799003628638329406481255117787170253578362922428492508866478910461798258310492523041913298913604772129633062456781600543444124111036775835987860423867504757658081111496843238938229950095479533894688742958963602945360674828316413347763634412531919820858221715767523309997645360339078987347103673569181961170812299118997658410428838568597239837391784833139937628817189069033122735374827704047475292241760658049754536812330488229232164003172305579870255369299721831597814655467173282275196585527747087027446069509927093776455855679383263037004487495367923346835972284918418038567086477997949401377324103304962315664736441249560500020526854250430038032839109687073816471365938575558630687615164929961798698395008637300501699750790305886512560501663569033919018497882103711674656961551736489856963066546430514817775329205177579632545865287700135045150674133797865226070002268924459271220501218203598876095919077927122844798750016461989260428355982575125791395366313450241864801236531323470745164392645613176725070059637830948348842266759545888009265364303454747296744497277439706182835458586698039967845631488677598449381608239064644847034116064459149506414912110795174931932285694956458903552399075739369330420270112727084171746564600532800951824343436556227206662030567485271400597307555752421564876418319320021863021137744315420296295549357362330270318035970861997554493444737980116526958480893022395329229646245878253127193997333845004757088556874329553812693730932284788004649626767848217245106126962444516802680092851580041846124744619810651849541441984552009717339769894582816495015143170753645730435092817948661716303025737925585889791615407190991794789479498408274189853129114977502374507180919298429509241596555545749404700728502921924333075697977788405107529123780042091502943034100002128995782369622806165113045374519000865827872502627433184912498065993693012850971896975945508009588333363378302864023651862576662049414373673421026222671616240140283487899451168462503775350237394171641394132425503161882555941151880361998850603300681912958542366379985672940445155720220077118771535661600175519987470359417235699975765909567190708019637544943715093188281634158297388992686462083230411587093092800511027060265198802628548913931196425032704244273055057993771018121254686596089996443296321488713629896039018426386679736086927215030733823013141750347540347601377269085022105790306562560350857238867686207686756092373024990553779459910163451651717426158493832201047906301895021027503345823695267117327699913095660874862117213918583305963808091461008333166191527708206559582497267845540564733617068807889872621217193818703415104961932443749743353198002973918741022751839972651470411095640699341244868555372215918782161976908682196862904571391207311020362288710653925507426071152538173283320697165051174404577011240307688140154338580728459091677898454733970817669747967421841876502960929508412930129916145992876515420548975244287166755146329130730635524284150291014703871915242592789455149515356096673397840233484252730369532553842042212212908037291176483897020134653338382508921075918864541205694525436363770844388814781677823119640368680569081141027990091320293153602946929401475689513867859803835187913238783312405474282112704399662105807740626936119362290196838999181772416708365576506820064777878304992181169985391576559058314619969624447468033981065817838946370352006874471490704351157579941428535470165186601144850424795107315739854690526993670049445660504289762353243197928168484767387439132549422977231896753096839368406756534507524635316443121223196086228147790647248430546664553749630226301661094923805262983996956507293091999785610151688562922946620011898078813060816624598896630160371140349541796567492463504905362289610869951945757744987142467583196536939496658077730744551930176340103634645097542250788218530030737451495513894754286922229601613511745144937046179610113733955372374674178649511255200174018833131945686403379778069069954142685356488567745413732769072544426112020643413765144407413711089109417652116307964973249982604029933209831481912101345931902000270934413690971031576825721226326421905793356137657114998169922438799634110493462075669490548557014364739263266127271035673006359436191903369236035882509087805317205851852742355761386802596670596347188829186533058067392930306753275035427465499931652415461289991872300297746981523862345747247819431530567562090279793031245790737420385510544048097775556080118226886210348934611189064906300204085035636645585147537410268091162190153755161856796873854945724072571443924560609239003052661461244257547713351179401648947928734194282973774912408407992708641238810330814630287222510251643755942113080513241168309752795731308664229891997199079120978454863013966418476762116543162879001401011181732658630906394338026285303411149033282737057029833586740897326633859184528118528744836199081693370864739562374308648667096619603078829043131452266040166903792587878635798692895577814071632587671732532418203413715236311209773838202862447285877797628591487086787911662531614888856605821978712117162902300753310526836577002823211735118370593890715696289821876233295160605904787008697591562343439490870521564658494150765422997082889564206265635374908329600467540812070082323022828646105021391050210817675741915700197955226830078490626937202927039331767137677048927796653426217172798622141871227533866811204394958783747273692301681921706274389914226876010473247553435469779562444862072317986136281012727695852755225597370776837999237181818797170418638665639444771778360261535899634892518341663556872224125659616821501843008036611657092944325948481312647938525688492361804368863790575291662031599488424480273466185153394641355248826096485934770949634186526155372154732765454196484048471614266497918625949308187083733816051491734155039548609237276709535706313344023347478549962106367834926316065687692654442066348208476004127914191479312390508662372804543161147601215498603342847566058473268715544559459809039884182733826430196660062305928272253900289480496567191592488041222578451298014836695732749667355102869448332865517064572589548721042613388998098554723323904714519882106766165625712885909735695732511332764291582546005962880080923355194783491071214427203994143135817410546365401739595034960697628364353304608069538969795511742457749879871610362290433031158827618888837616389839547429136129476064008516713759131791743345558513964492316897714524573094272724495104484264824815790966431248082021664366146979557915735852574760368693001011866083086581354119075206108247670718583175106943699367937872819438682412935055863482432841856805236738009273864487750243823726128572157555756113509143218527401050144354232265040870952954410567403498870799233513100550548481556865521701537562420676501552705232905764237680206344375534654616090070571756037098591763556868330163611271687871827735499157192096946972001471246706504603890077411861763698013060937952425812574296611638987857788981568977108585627586699519801355642220968817282986780471038692590562009613041051388088411646092813553265692633645271240290565526802444582858278551012830008411535495152460979811271833757444153083815209788428742025805124672254362123401293684914740274025681173996532071892469644725695803871177326383645799250083815579887687895849327661231079368451526856935617024667118621556212432716677289097987953882874141661578884495519834223322050913765164414930622615975258333805291166331855049565937641540360466949305527376618330936109234591750409392534697598936019047896321643738188886445168971724255314209410663781252430997680695595814277176766334049307751856400585037040193246660277784953009479649503944992504482684735474026858657169496585465758432481523367374544381560547731128284650362447661731992792149417375089842302702438905531315441131811361765760778066620450796544304520942134018637910979722226086718110828474742592106397787863419380241166191650909033335270590599163291538183884702868691771404560445474438338254944638268319677365428880172937393722210303807661919053927877190072949237327391564625624149649372369705253045215323929052134178358851176052599528389413051652017537536885197212506689905880549952427434292969731475578956447280025363494978255847973611971579220156087423190535867876713712224168824931874657356212990381504305148000011852828241259240827382147003314346462780733894738473385178480586822084259510140505703454329246612884419902442417637143953774639208970966679416837396822005522903809085770517038771484065846875420435613014620916330227458749852707050609488455124392028275475368940749173158265554186549084179664678901302466057252235020027090555461698925888065149463262186821854665273368436881082396713767640056828471755646005769296881504779331598579202813691022809947746375380915934245422932274383277296068891617569093985187990485084276628178956207593718255080323870725321004738475942407488171353124206423114002680245830548131579948560986685105851138197676327887337084602482753158175489860363258903748192554577143597422627481590698225519829344081137675684316465922617986205694570183255929692769801802467693689647208667375020766665288664344507987718382662490294919689791692938815650948883822803285642587323283526321501594512382052195072806237205039602776386470642741194461366678958601881268130136380429522113769417791094795537078642209106007647398942759183193454560301535837874474887364877166122832313625598381444131169921858118634609210080987884055514721058146239786059396025462406040532361309473127231189576353642917508481929728122647032702578085469265310608840692822495758186365581253741673302188816563802543030313406420259330814109679693768544042389570453908944724771260459645591957687542573518915272730732426057733024439612019804674743874006347336003873463809377666264170692556577279176020235989782921283639140472063786878763082869650336173843795410897425758722526024052421644973009359427639259984783919230058114922711348338358208419139800218005869148938900701751864874783699833570152331188115471160514543703761996700943451882419208414001374259393863900912182469191045604921251771284762300711729526641063475138159407448886226206368929267097724926082441431159748203966553774297369174137564002911411669552716155623139869186610682757881070611902486995715924149988857135037713265027922340996615213385246571267357576188341254266697449181530111096834827145978976780583532916616689670697851313977455345812279542003922386066375576592417277879438876086276060190893059977463714646260095664273496018332845927393033388695996047697720429584329788920668344103566915640203171290248194997459859222538628949202980517634400611535820004759605799965181598099506669198311126622348536150795729777401743092539359695006510980360379613255321649695789009876990940235684592343023864284625902859714128031986637278388505213863543663204237779349551866914929752895087243714485216920635161585248596938743789674137621994631311061761657747969627878436829776355541519035190188600347215578237167399953231746865217572462881289986283303276741295290464859307332908183431297663573015485954846080207288770132246709691025658626184664963942579995553122560280048970500351769645342624786646192357895981861800020268022707838094291461028891787636406745126215760638127465112957150583614971129157386660054523633215073098896944157961100583345203136925660115433525048741900735320542928140825546462403349673743681190015381614971371076194834406652112768676184016575847654973455087991684040330065868864144107215514749296729583508447915771565583795273502023552349981369594207285216977004537871078671688149311542948264197765692451836062674671463945342259250592693183745912776636731745177989065173087691952818997593375841238263218029003622364666256696923828694306089345659566320618136612013345425996320998478354465730838391176157933574276932441755243961293106942714132044340323434340905160890649860396018488766706294645642763120540221252202351009210864836566444841129401927036874331136193789867718856545245104226501441156757253531117685298006667277411094629593461328032365540026932280705636829312986394100655619031548039065039142025971749509274144588811283855067625792640198613951687256953058744691984759759552658316647706688877747250192559848795077955081785686174541216347981588769173006903282382244883732806865618594596802876210480266269488467194345483003543687570337518513602425150580798251965704020330043800520581329075101254485830713421310517742679883323105266036610848710939741714632044254175689688402773142828739341287957444690478583955149264386799073071312810240315881727232926454435575028372308811057383550011101553244744359050274762731894945773741362203936131042730162345456098516282710522944242108830213344691093804622511739142614679406505706188538529079127851914127621470228809528303675819883433906656538439433258812108452267688023974469193166972309963748317439743785799878681486795509581051174804086586446690606654397155267272539806284552415591031929718719907708049182775409454107404470743019730829002376097541652480000000000000000000000000000000000000000000000000000000000000000000000000000000000000000000000000000000000000000000000000000000000000000000000000000000000000000000000000000000000000000000000000000000000000000000000000000000000000000000000000000000000000000000000000000000000000000000000000000000000000000000000000000000000000000000000000000000000000000000000000000000000000000000000000000000000000000000000000000000000000000000000000000000000000000000000000000000000000000000000000000000000000000000000000000000000000000000000000000000000000000000000000000000000000000000000000000000000000000000000000000000000000000000000000000000000000000000000000000000000000000000000000000000000000000000000000000000000000000000000000000000000000000000000000000000000000000000000000000000000000000000000000000000000000000000000000000000000000000000000000000000000000000000000000000000000000000000000000000000000000000000000000000000000000000000000000000000000000000000000000000000000000000000000000000000000000000000000000000000000000000000000000000000000000000000000000000000000000000000000000000000000000000000000000000000000000000000000000000000000000000000000000000000000000000000000000000000000000000000000000000000000000000000000000000000000000000000000000000000000000000000000000000000000000000000000000000000000000000000000000000000000000000000000000000000000000000000000000000000000000000000000000000000000000000000000000000000000000000000000000000000000000000000000000000000000000000000000000000000000000000000000000000000000000000000000000000000000000000000000000000000000000000000000000000000000000000000000000000000000000000000000000000000000000000000000000000000000000000000000000000000000000000000000000000000000000000000000000000000000000000000000000000000000000000000000000000000000000000000000000000000000000000000000000000000000000000000000000000000000000000000000000000000000000000000000000000000000000000000000000000000000000000000000000000000000000000000000000000000000000000000000000000000000000000000000000000000000000000000000000000000000000000000000000000000000000000000000000000000000000000000000000000000000000000000000000000000000000000000000000000000000000000000000000000000000000000000000000000000000000000000000000000000000000000000000000000000000000000000000000000000000000000000000000000000000000000000000000000000000000000000000000000000000000000000000000000000000000000000000000000000000000000000000000000000000000000000000000000000000000000000000000000000000000000000000\n",
      "The end time is : 1582969165.0137699\n",
      "**********************************************************************\n",
      "The total time taken is :  0.07152080535888672 seconds\n"
     ]
    }
   ],
   "source": [
    "fact(9992)"
   ]
  },
  {
   "cell_type": "code",
   "execution_count": 149,
   "metadata": {},
   "outputs": [],
   "source": [
    "@gettime\n",
    "def fact(x):\n",
    "    f = 1\n",
    "    while x>0:\n",
    "        f *=x\n",
    "        x -= 1\n",
    "    return f"
   ]
  },
  {
   "cell_type": "code",
   "execution_count": 150,
   "metadata": {},
   "outputs": [
    {
     "name": "stdout",
     "output_type": "stream",
     "text": [
      "**********************************************************************\n",
      "The start time is : 1582969201.7047348\n",
      "**********************************************************************\n",
      "285424237449758526756481365883516569292373342134029768161128980144219506568097771788343905163691510741298041288087097782255408534485991414387740392021071398973667011350508514880335666700084745314953258676132861224236628806645284572473256328600183124384130587974128394328835849713796914528335382428434594936830909075615040358228639917862300291698136961591201169640162892115019013259200931698354989800715657803735909236925819673936019724810381420990042506298831809811435787365444557279600626245558876138271099437246021447431422903553531292736475061977506849240749032962759842388266403245609882603987925062381328698298167516811526617637993526849712053043325693323676329431193457882689293119045817092622999296346540923609645660487200038742799883194780840417049574509892834113024929070553992547524100579828733733982349723664672021734233069616416875257689233264013235161980123045975069010541501113491645341582729099773910306010566602710248989278678607643191471154771313560172554767394281208839150142509676321110927831941695266848586399166532307760160411922771779771986784124499810760247881625858072784843318186705633717614626194523574043943309238977107949682778145097357029402001946805401061694097745114084709550476416149733271612571781777766468522889956183432567490888882671628414445926509961186887459315902861409262609273378272002124028153570570074588416370082578042159889498228527990807240426894673823991496216156858562243101352268307169705097705303868613913278207237935014459814779004278170094482950351103409650766779815631493031083862100065038419496580585296354928186536067222344925320179137966434826539115011936309846752093388697618158914717966374702279297564539593787103048113441137023346872558833777623272935943885559942272920181744110619279387435488996717803161854460492337096016525615934952222607440728180640638132790564875744721015733016210105550753703779117203321122302961434889894706749175424369469080591712140865956879745338319080998945657867957056477788367328149712305125719184308889919439359583671226154002634371707284167415526118119015450264026115585382121994985457947832595074784975070472092991698868384398985183172376266369708031946798195243523129101238849706165369732710055218758557011857350767638806620502604359667593423509733030299941400042376159223695188225526536609228711977814696120651903067637038185756066125537286460256709204495322652131404444093356126667743392981663572640926516467056166578370138578600227880673830932029293591856314547040954655099103033243878842370883788276580872372235759190982387290085900954453720420652980948251726616462314108063333194607418799887233978700211499367029270821250335610721664772799444899819801789817122873749777046538427960441605066134514823089350355460071522107261049261807077490100445183963816072012053828470230874033873085730381282383926473826485672056037876921167004576009830053525248150197406824168438529235555102951140638585065412928911489649415693527221373615851679697787071535811197589675620816263154381005842886260514341668440161587283643002916072786470368503740463075932750103044776580211617278244906698481681847900590039303293795026425273265347669540528996259329320379959357697063034282133590421673988387951177047221541402441739322710327752206163039796867308009487990259318248216009991191120218183938287018829503006160437155142913913100078419449867174135858301216944194904234244466554763391236186029061788566407456971618092125487087463389641059659638352923267340251413417451640368150158224642211728830590127392797907130745141193855250123305565106531577827363238293763457305902645340539060906308035630544609461515563226167482147565207858329504769780138761950363829473561016817651561499970851811733461260194716197608752063977223776670889020779973493490680595711168370645620809805619840531853897468663358756278446098337861721888066895912399450349651601867553292653531398582795966669531831931921854043227807440754715238276611368571823025760314885305086576733995213530387805032277401751584134892331901408878880222540278981724654575306432905296679640161916641699844945146842019796532331528961247816204027568089325106659365033871805465688836378814170459705854163625942845552225054938233662227158154718718345250653507659974079765202221379780434086003962009603553231522678580932928429616399483412929428241009804677006251011141822550215848836485979412538997570678539728076824940952843695019219424528756414049838329552065784782001765306501768064882308533123120238090293236084997256406586161733837174642459270487883806237501229927575680736916132196161816520451210080301392878359689798293434927054618283290192770011457547519048732789880812615719050004863813770435349898501199053908892734476752472207539701211530116178400926219077027077658394615951596438092883733407404658190508010489901136509426861047364010227368282787134308225542154018934853794412871525595050400891645300994857332407505524528608658314615145803182644164902906970639130318757005268265621784605317156580518798726368380190456402015391809080589845582905745499615805682600846009332434643465194500586429747251583844176820543662676225444981382359879594867753962818573913542859451452816567516473658855950991618915735831463913142067055005863490500105893028397167226652814976507656533087356262959004633238458689838986166262260569885863747550829607425986618714017540061479804220848992256133969561401057912910575229453679298815975040010642347924474569347266074562008408990669009635671135550340421340855237672466994898842468951715960788325397459405935051740260096303747922959096466219105381631008647073961290675656425188901049022242329878134387367473923921564615562471137532580846536939452009795413704641383694977469887734358369912584235271548353234048833159241156888964765694765286130140384490972570294459254630598039296212098602384155617835026840522631378147008659264162606843254417978550358167772660081287530612291678219491467457253593059228097714446516212037933134456685763384143951337080073505023598813993485600968313783477465374244720313704705692595296692365739346031322285099414538532055738005929156019318530900221369093844168309357327937585115756183840692355440806442136100774080717727639508108689070102378804001891329424661519858692523785028148958462412008357075321745587622608230771804979249946539847051466261328092203024236701017610450770837825181456231888239589443784461937847433624108210582246933132625363529087083019033356639269137766977946868903591415852719478436241510404454577442228493569000060992806138504880414320036870181145569877413871914508095029224117344910272404234788720383122794002020866234486219024540533814055855441469754156705527145680550225402214693297757661264360820716937225112865165558636352165822408631179142796623480652610410266785353595807133271606137572415111580346119586696975825484075295140716547113546297881139654269093048678597791399901721875016891155688038138247945950532245058856737873078475285238682184348857259629681082778268909878807408838276556538161007234079653982608607418000184397028024118724219764824116048369100723315153891971479124876587628180910952359315032859233023040583892019767567420176889499662561757792031015755686024270176669434291072079061114544315071672458673225725247305956896919972141197966614326903882866990788904208240354145368120302730190810178202167045446075785715728343247995082267122577443653709942700078492662190196389271895615308191625457836208904176563516227785909774362761610054259946040827897210850241019505168883174373012691933317239150970279626436604017703334568305278912293680154237385911168176047327452279122579901056387581411883940393954610854165208874282069941568889848457249422032029128138771824617398675435478438975570386906813974206771052146529757002251059622883642421558898641291689537616639290968730396190353234578049077777563420426778064827376180854634493214788120313219066211287428361804816387320266867199772042166527065330406470685767335299268514038057264127729203164430721637907701210610426995776865002995264785023360937030440821758625330276986752596833576349005907053440356250204188983213540923295348965587854822570757476466559672897632515970207878642785778674720960805205071031072833256514866980102007570745413204751679705475051966483185438250159216895566320817175468653512569241861784893008006332473168193387518301998597684435545254281592577896131219220072133499357117564837853532135476797816276600863133270522912982986504469699412787560295387917125587640281800300929420274819827270545973128376695416323413442036880697405222048912231314611642416136021956854484263204374534075893279898905047536914073942988355465440422963666039760941630552273488925425552267558224142513907637694071639691221494143923850599385198992186783979185569721158751628302620504015348920456429326100627755495268812910437792103289341125669618888990026369819423158994197034077273126383090170856459628972448948441632861474871124869638350695419429098730087603077366722778265952769809126381065025151513178174562879519856128545534312603543805335945705759399444816104835643729190448688740994890859088609855637230823927449636353599122205150759277313063675059802416049727231767306903349857909401351537636509305001230925978490545701252899325410274697363265826423253537220047768463940453064951577991698516656416092721256951155913067354471802920659905627440605810029598640198653754487033316631714331646348133296951220130310751605138424328466908253167643694289347938802016369809147998260790419283830180147099441620242866145086129307703002815695906635691724065827420407288180343087376349434440964694754420212923428869907327603541100551364211741044025662986911547343700077101915494213391411807950725091372429643096528615699729321336354589159955051595403720690829985163859633598431077365849353261911467656232477846363590490742620539241586338692713150016651223179375664421094253500054514653472699781034964847583173736896630114383046935179574252440618214435395684711246462450734234360381351662355939709221582680446897234462787086318510691137110142609965212477451476412235256339109664321905222229038029804333060003548430687184080579835822915812772716133337070016411978920492133125172986230298097072666163053463446796907396133056394515377952505760451410344559021301501149495948602121767818799265768965772920665337531327928571763760276817225367575428167055288310038632046353264036924754441323357667986391399099952874092950448512493585942192141477552758908024338580886901808249622116954032778261382466086788624138357000309714157568160924027316386485751750033786019559178096791100070966460010183601107501732136124727607145410350034158843935547748617894724338886356627110538375929005947204315991007954980055062902964034852397770130828781509453680885365625055205592163799141754608137596075192549161771693155740501669374584082403102344961386226929288506865369498463064903731741081943476809981101645834310977920744471617693730018288261539159481715171600628946461465488957563905415265168286684744593368782166733183963056689437625659405152077743296518237009410979951221626694107048703221766388413473580791900318235716036253322651603659040977391245972144172381259467644711065724956306491598144481789981629235294379761060632837721266312749291414154400379565399126233314318415028188202253003896227455858603794371163906765320735194615865194082003554321520298543159798579125244386748113089061283872566721970501037050783041654867361610270119374062608891847024479350971828167952883574303017845133792227556001911821001106492975437966632760884093427922848752701673458973029868244811211004355633068314831320573327335677836692990897414278420919100474326014436110093673908531744854711409388819124276116046608944521113821174147133914131444181310927248905168025323879089527786314099988210931519975648176191714841994086762500162301315682524679827886071516642241601847180237332024972326961891150545576878420782464288045650571314922806936853022452976678459888339880465003727867841181249786358486804295885754597417140832257757430675350797135606595600387318489795757995273360006105865963718095903533915006012184024544143688629651570684043036253402627640448473023838864937845462813793459206332167555470668556735225553905588113132636962922030509090075764574796779622830517386768540922603342505024158390108492587347097137501759256350663636416787913627938638306887640963103868970874913169595014567994195355031240327835489140061178282498937196393268713784427860958427420588414833875792934149447992783583657557802261584533584300526033131905154986435423507603837028155614321127106865420932898841036596625511551924987307284592509321781276270341903350251521424516179887157097618498753325026708879917424505511742056051551397519685730396984051915745417320935120876331934674351212076143342057496955911899672458198361397759760520637953192289789216132314942804273090367305857585027526904204187157553043027033312284352487422270922526867331704607534118260661438723870431554457180309198053211950314803613511508229488952245918276235751222397468651527235773662006427304128400379298063322574321538591086696675811731966738167752439918398635644514547971383217824398204509743465161279797081309937734306542792867829785607261730452158602483172243522266551015442400396834099403716157861853136943180460921303724919582832677946761512880645198390629819001556980061219188531085590884078933495701659239035189269001950387968700770271404957537629988579928813164957009678955038816160770638063012042289486434767269133097553921864374588847315127863673089968879148564191215006913714727007194934002896482431522714061393960569639540456324640658066473663228633686532967097285520566952244111462733282336141185980573774537032496974136497421273539838791449472519835214803924713816356040228784603837037753143361479260009186658132637735060887843021881491216236148419603714052235032201868128896633346926505262546302853094592406084723172658572275091712489086034731835886749827907950469915686782820141759798619061198398340970394432394305592530064251608072489597470169039151607574140687609344698878395802611575797104521906002346035441633813247691886593437901110526255305124655298484389704042188048489620416401310627525313003580704623940332061260457937107744575921341922259516287236951488918742609604803370690365006858108654639673150811288048271265248206059932787067070712685760583660285309023722573088658240910398946640833684202139565358814818903386099450440185404075823297939671386435423349873587133178789103657886835515335984461169353152712549824349845595810525029158684140309871454337895096177549051653829032502923868271895661862179618220251111431691321745061962583297688441835765568815338030037310126444593250197621294538872522743648371777623221668563152230798493116439173589681089698950366210231089400264352350829550202981582148704651179010614153643076960745264315230391614024224580571228267649238897626216958528191059535087482071729289580272526809960247834254850063314900678675452228830239552039779035631570159171910281342049890070588323691324279513063545737985366980164205062965281540617526048285891583848064161374198625288365356249866843410185437502604155968767626055910460134239194231991026006995843878897431273134565154874002101532777668059961806410654309400502446187011325087965562930668208460744383874828681536505717095090772779518410093560456657261685072483199140742184108588913157218867170495191489514625234148988798451178358620295799833205271815267356862280852626714545920533758889248551344951277605582263184914424284497047030193150246458668968982909594507051566686832744148260845592906823565900399560358128201595007920087677290211513543138605946586335213264424806196744163823169982340645426634558262774909120349921833337081924297631962832715977451039038348134315771071042771979632325528140702132843556639635681505786508282822054649069696711315719687635270022797206370989547532728964348218927493632932476005619185417459695405008367101850808233175503795544877339385793398814305060075826823546334252313791421778715884400212478536100179541639815844714396078960691750123392350212147864709850571949574149479179604997060325355068687897095692877162755286087078313550627784130740533575723244503116815288997629465153838252403903547300388260393639788388860360243142609657244847986769401430489203413909229630946546751143099001419632211374506637809681850507411564486355600135597505317451152774692881675521981070517565178157713779387329088529491098157317720871234666547244060786843196760477545680698770808631057111905909047943169338670009416435826586064365503254828371160765113556460440607588379042178220133347601923635559323191832046494439250739227991873768684353092534341129598791141310055553867160525846797751606448348261232489008888119767473463175300800330901915827145168516956985777833271224000718574643121957148390254242938979331925172199584903742792596076629601875856648580039322847595654893015840033928245896809453974245697439482365236933880442688295729105771935185146324389191701942958178682019448785609721924615009141546713732003981627665407251932085084611036247625653197257990736342162570879401753365270193641083557464332562254130336632268866712389532039083767825614566461454275391886191725061297480777207068421203636011306165679289345935918495164086357679344228992857279893685348827467470277327200037393715567837384490080446613947811525636236662901427398718302764580031134606853256122621678837810222337011680263430728508956223670565605630615105252003714486922625570739863537593239866900798515844061886355396288196864425753717578819577850956967757676355194467673067242281400475293578451379051151593981954557907639672132679840808789753762133957227322439055500955160121941318943300944347945599774597183088961289195480061200413284382476932828741128436555880706561274899482181215553364237156507866358058598264886482662653007266299177116539046779941200856135637472917048397991031422633163289956049045138878243326538025828908772266778051746916790560699270008103882007833780410127630314362270317977903738719731550208387966243898483334186562227992949817599860679756533938419244962324199022558996577934699034084314971451241017159077085930490801892227657043499279635251430018688865946920044632744420472816326835447590010809873895835773126089911030127758592446095830657043861606241410322279808275149542973831969041805446622720987241650289263199080993357896612252496969859146281810598248493588808659252214796959710063579983136332521713677509798062197511673746385114640839963096117734830620442243617478085186645656200925048710462965507748187157832416531919476146170851794006342969993610165928051423286448698643171388035514243339331559877359697723878479644660398656304591814787834140153233289655504357890643211161580901905140435123933907915975962016147042712579949587602631565810023546530788915669299211001786027452196609312256140168958732120772604393655291670649504609276541562426537924847796298449014349099293540021631033422479307192808904550384876065915735074069485289591147946198513489496626511142647222212810278159172357561580283157922202521097227183214650387829276028028690002312334086874404982195848680007088756640438359202491993087954834387908788849851604413001398608116508180692857038916079681298382213405288358687425565918063679383411002466632478004671938470834815138764998361181506136731956923073285557600802249575923651728516512168462891660976284063267465183374748164034091456003384004631259798073602255033604589259880020842895895345538555349952194371702126318946051238765461227923992873254555211052360245716602714863158432797383613189866677863818422595236727401683116910009246616952793513510880841025544614201329205521532000218744398750019463423501501826181524755427936027991322223665107912942445831255680108853817676201687946866842344205153022198162937960984017119388748631561415747008343207447389787325678296492997626611762844192819851367955596701914225728074623242173634801494907626981405826800958403865347704417008466794865162459532415845977702655151501078976911489909959542240041612960683292779134178334755272273507810085485198650546153642005621404552006481561147958047008512605688027811663478955271906247075062634669636388903851250189657696626926564623450011275378088356265838692870425967473643761661499798249183719971096957453907435933936206238345997407232303781438816308477610001993121333071334420133192368880462378598047268545923952837936913732717946258032873229716599547655292138680712172916880997228108248807966058524799003628638329406481255117787170253578362922428492508866478910461798258310492523041913298913604772129633062456781600543444124111036775835987860423867504757658081111496843238938229950095479533894688742958963602945360674828316413347763634412531919820858221715767523309997645360339078987347103673569181961170812299118997658410428838568597239837391784833139937628817189069033122735374827704047475292241760658049754536812330488229232164003172305579870255369299721831597814655467173282275196585527747087027446069509927093776455855679383263037004487495367923346835972284918418038567086477997949401377324103304962315664736441249560500020526854250430038032839109687073816471365938575558630687615164929961798698395008637300501699750790305886512560501663569033919018497882103711674656961551736489856963066546430514817775329205177579632545865287700135045150674133797865226070002268924459271220501218203598876095919077927122844798750016461989260428355982575125791395366313450241864801236531323470745164392645613176725070059637830948348842266759545888009265364303454747296744497277439706182835458586698039967845631488677598449381608239064644847034116064459149506414912110795174931932285694956458903552399075739369330420270112727084171746564600532800951824343436556227206662030567485271400597307555752421564876418319320021863021137744315420296295549357362330270318035970861997554493444737980116526958480893022395329229646245878253127193997333845004757088556874329553812693730932284788004649626767848217245106126962444516802680092851580041846124744619810651849541441984552009717339769894582816495015143170753645730435092817948661716303025737925585889791615407190991794789479498408274189853129114977502374507180919298429509241596555545749404700728502921924333075697977788405107529123780042091502943034100002128995782369622806165113045374519000865827872502627433184912498065993693012850971896975945508009588333363378302864023651862576662049414373673421026222671616240140283487899451168462503775350237394171641394132425503161882555941151880361998850603300681912958542366379985672940445155720220077118771535661600175519987470359417235699975765909567190708019637544943715093188281634158297388992686462083230411587093092800511027060265198802628548913931196425032704244273055057993771018121254686596089996443296321488713629896039018426386679736086927215030733823013141750347540347601377269085022105790306562560350857238867686207686756092373024990553779459910163451651717426158493832201047906301895021027503345823695267117327699913095660874862117213918583305963808091461008333166191527708206559582497267845540564733617068807889872621217193818703415104961932443749743353198002973918741022751839972651470411095640699341244868555372215918782161976908682196862904571391207311020362288710653925507426071152538173283320697165051174404577011240307688140154338580728459091677898454733970817669747967421841876502960929508412930129916145992876515420548975244287166755146329130730635524284150291014703871915242592789455149515356096673397840233484252730369532553842042212212908037291176483897020134653338382508921075918864541205694525436363770844388814781677823119640368680569081141027990091320293153602946929401475689513867859803835187913238783312405474282112704399662105807740626936119362290196838999181772416708365576506820064777878304992181169985391576559058314619969624447468033981065817838946370352006874471490704351157579941428535470165186601144850424795107315739854690526993670049445660504289762353243197928168484767387439132549422977231896753096839368406756534507524635316443121223196086228147790647248430546664553749630226301661094923805262983996956507293091999785610151688562922946620011898078813060816624598896630160371140349541796567492463504905362289610869951945757744987142467583196536939496658077730744551930176340103634645097542250788218530030737451495513894754286922229601613511745144937046179610113733955372374674178649511255200174018833131945686403379778069069954142685356488567745413732769072544426112020643413765144407413711089109417652116307964973249982604029933209831481912101345931902000270934413690971031576825721226326421905793356137657114998169922438799634110493462075669490548557014364739263266127271035673006359436191903369236035882509087805317205851852742355761386802596670596347188829186533058067392930306753275035427465499931652415461289991872300297746981523862345747247819431530567562090279793031245790737420385510544048097775556080118226886210348934611189064906300204085035636645585147537410268091162190153755161856796873854945724072571443924560609239003052661461244257547713351179401648947928734194282973774912408407992708641238810330814630287222510251643755942113080513241168309752795731308664229891997199079120978454863013966418476762116543162879001401011181732658630906394338026285303411149033282737057029833586740897326633859184528118528744836199081693370864739562374308648667096619603078829043131452266040166903792587878635798692895577814071632587671732532418203413715236311209773838202862447285877797628591487086787911662531614888856605821978712117162902300753310526836577002823211735118370593890715696289821876233295160605904787008697591562343439490870521564658494150765422997082889564206265635374908329600467540812070082323022828646105021391050210817675741915700197955226830078490626937202927039331767137677048927796653426217172798622141871227533866811204394958783747273692301681921706274389914226876010473247553435469779562444862072317986136281012727695852755225597370776837999237181818797170418638665639444771778360261535899634892518341663556872224125659616821501843008036611657092944325948481312647938525688492361804368863790575291662031599488424480273466185153394641355248826096485934770949634186526155372154732765454196484048471614266497918625949308187083733816051491734155039548609237276709535706313344023347478549962106367834926316065687692654442066348208476004127914191479312390508662372804543161147601215498603342847566058473268715544559459809039884182733826430196660062305928272253900289480496567191592488041222578451298014836695732749667355102869448332865517064572589548721042613388998098554723323904714519882106766165625712885909735695732511332764291582546005962880080923355194783491071214427203994143135817410546365401739595034960697628364353304608069538969795511742457749879871610362290433031158827618888837616389839547429136129476064008516713759131791743345558513964492316897714524573094272724495104484264824815790966431248082021664366146979557915735852574760368693001011866083086581354119075206108247670718583175106943699367937872819438682412935055863482432841856805236738009273864487750243823726128572157555756113509143218527401050144354232265040870952954410567403498870799233513100550548481556865521701537562420676501552705232905764237680206344375534654616090070571756037098591763556868330163611271687871827735499157192096946972001471246706504603890077411861763698013060937952425812574296611638987857788981568977108585627586699519801355642220968817282986780471038692590562009613041051388088411646092813553265692633645271240290565526802444582858278551012830008411535495152460979811271833757444153083815209788428742025805124672254362123401293684914740274025681173996532071892469644725695803871177326383645799250083815579887687895849327661231079368451526856935617024667118621556212432716677289097987953882874141661578884495519834223322050913765164414930622615975258333805291166331855049565937641540360466949305527376618330936109234591750409392534697598936019047896321643738188886445168971724255314209410663781252430997680695595814277176766334049307751856400585037040193246660277784953009479649503944992504482684735474026858657169496585465758432481523367374544381560547731128284650362447661731992792149417375089842302702438905531315441131811361765760778066620450796544304520942134018637910979722226086718110828474742592106397787863419380241166191650909033335270590599163291538183884702868691771404560445474438338254944638268319677365428880172937393722210303807661919053927877190072949237327391564625624149649372369705253045215323929052134178358851176052599528389413051652017537536885197212506689905880549952427434292969731475578956447280025363494978255847973611971579220156087423190535867876713712224168824931874657356212990381504305148000011852828241259240827382147003314346462780733894738473385178480586822084259510140505703454329246612884419902442417637143953774639208970966679416837396822005522903809085770517038771484065846875420435613014620916330227458749852707050609488455124392028275475368940749173158265554186549084179664678901302466057252235020027090555461698925888065149463262186821854665273368436881082396713767640056828471755646005769296881504779331598579202813691022809947746375380915934245422932274383277296068891617569093985187990485084276628178956207593718255080323870725321004738475942407488171353124206423114002680245830548131579948560986685105851138197676327887337084602482753158175489860363258903748192554577143597422627481590698225519829344081137675684316465922617986205694570183255929692769801802467693689647208667375020766665288664344507987718382662490294919689791692938815650948883822803285642587323283526321501594512382052195072806237205039602776386470642741194461366678958601881268130136380429522113769417791094795537078642209106007647398942759183193454560301535837874474887364877166122832313625598381444131169921858118634609210080987884055514721058146239786059396025462406040532361309473127231189576353642917508481929728122647032702578085469265310608840692822495758186365581253741673302188816563802543030313406420259330814109679693768544042389570453908944724771260459645591957687542573518915272730732426057733024439612019804674743874006347336003873463809377666264170692556577279176020235989782921283639140472063786878763082869650336173843795410897425758722526024052421644973009359427639259984783919230058114922711348338358208419139800218005869148938900701751864874783699833570152331188115471160514543703761996700943451882419208414001374259393863900912182469191045604921251771284762300711729526641063475138159407448886226206368929267097724926082441431159748203966553774297369174137564002911411669552716155623139869186610682757881070611902486995715924149988857135037713265027922340996615213385246571267357576188341254266697449181530111096834827145978976780583532916616689670697851313977455345812279542003922386066375576592417277879438876086276060190893059977463714646260095664273496018332845927393033388695996047697720429584329788920668344103566915640203171290248194997459859222538628949202980517634400611535820004759605799965181598099506669198311126622348536150795729777401743092539359695006510980360379613255321649695789009876990940235684592343023864284625902859714128031986637278388505213863543663204237779349551866914929752895087243714485216920635161585248596938743789674137621994631311061761657747969627878436829776355541519035190188600347215578237167399953231746865217572462881289986283303276741295290464859307332908183431297663573015485954846080207288770132246709691025658626184664963942579995553122560280048970500351769645342624786646192357895981861800020268022707838094291461028891787636406745126215760638127465112957150583614971129157386660054523633215073098896944157961100583345203136925660115433525048741900735320542928140825546462403349673743681190015381614971371076194834406652112768676184016575847654973455087991684040330065868864144107215514749296729583508447915771565583795273502023552349981369594207285216977004537871078671688149311542948264197765692451836062674671463945342259250592693183745912776636731745177989065173087691952818997593375841238263218029003622364666256696923828694306089345659566320618136612013345425996320998478354465730838391176157933574276932441755243961293106942714132044340323434340905160890649860396018488766706294645642763120540221252202351009210864836566444841129401927036874331136193789867718856545245104226501441156757253531117685298006667277411094629593461328032365540026932280705636829312986394100655619031548039065039142025971749509274144588811283855067625792640198613951687256953058744691984759759552658316647706688877747250192559848795077955081785686174541216347981588769173006903282382244883732806865618594596802876210480266269488467194345483003543687570337518513602425150580798251965704020330043800520581329075101254485830713421310517742679883323105266036610848710939741714632044254175689688402773142828739341287957444690478583955149264386799073071312810240315881727232926454435575028372308811057383550011101553244744359050274762731894945773741362203936131042730162345456098516282710522944242108830213344691093804622511739142614679406505706188538529079127851914127621470228809528303675819883433906656538439433258812108452267688023974469193166972309963748317439743785799878681486795509581051174804086586446690606654397155267272539806284552415591031929718719907708049182775409454107404470743019730829002376097541652480000000000000000000000000000000000000000000000000000000000000000000000000000000000000000000000000000000000000000000000000000000000000000000000000000000000000000000000000000000000000000000000000000000000000000000000000000000000000000000000000000000000000000000000000000000000000000000000000000000000000000000000000000000000000000000000000000000000000000000000000000000000000000000000000000000000000000000000000000000000000000000000000000000000000000000000000000000000000000000000000000000000000000000000000000000000000000000000000000000000000000000000000000000000000000000000000000000000000000000000000000000000000000000000000000000000000000000000000000000000000000000000000000000000000000000000000000000000000000000000000000000000000000000000000000000000000000000000000000000000000000000000000000000000000000000000000000000000000000000000000000000000000000000000000000000000000000000000000000000000000000000000000000000000000000000000000000000000000000000000000000000000000000000000000000000000000000000000000000000000000000000000000000000000000000000000000000000000000000000000000000000000000000000000000000000000000000000000000000000000000000000000000000000000000000000000000000000000000000000000000000000000000000000000000000000000000000000000000000000000000000000000000000000000000000000000000000000000000000000000000000000000000000000000000000000000000000000000000000000000000000000000000000000000000000000000000000000000000000000000000000000000000000000000000000000000000000000000000000000000000000000000000000000000000000000000000000000000000000000000000000000000000000000000000000000000000000000000000000000000000000000000000000000000000000000000000000000000000000000000000000000000000000000000000000000000000000000000000000000000000000000000000000000000000000000000000000000000000000000000000000000000000000000000000000000000000000000000000000000000000000000000000000000000000000000000000000000000000000000000000000000000000000000000000000000000000000000000000000000000000000000000000000000000000000000000000000000000000000000000000000000000000000000000000000000000000000000000000000000000000000000000000000000000000000000000000000000000000000000000000000000000000000000000000000000000000000000000000000000000000000000000000000000000000000000000000000000000000000000000000000000000000000000000000000000000000000000000000000000000000000000000000000000000000000000000000000000000000000000000000000000000000000000000000000000000000000000000000000000000000000000000000000000000000000000000\n",
      "The end time is : 1582969201.7707653\n",
      "**********************************************************************\n",
      "The total time taken is :  0.06603050231933594 seconds\n"
     ]
    }
   ],
   "source": [
    "fact(9992)"
   ]
  },
  {
   "cell_type": "code",
   "execution_count": null,
   "metadata": {},
   "outputs": [],
   "source": []
  }
 ],
 "metadata": {
  "kernelspec": {
   "display_name": "Python 3",
   "language": "python",
   "name": "python3"
  },
  "language_info": {
   "codemirror_mode": {
    "name": "ipython",
    "version": 3
   },
   "file_extension": ".py",
   "mimetype": "text/x-python",
   "name": "python",
   "nbconvert_exporter": "python",
   "pygments_lexer": "ipython3",
   "version": "3.7.4"
  }
 },
 "nbformat": 4,
 "nbformat_minor": 2
}
