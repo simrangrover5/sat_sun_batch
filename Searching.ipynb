{
 "cells": [
  {
   "cell_type": "markdown",
   "metadata": {},
   "source": [
    "1. Linear Search \n",
    "        complexity ---> worst case O(n)\n",
    "                        best case O(1)\n",
    "                        average case O(n/2)\n",
    "                   "
   ]
  },
  {
   "cell_type": "code",
   "execution_count": 1,
   "metadata": {},
   "outputs": [],
   "source": [
    "import random"
   ]
  },
  {
   "cell_type": "code",
   "execution_count": 2,
   "metadata": {},
   "outputs": [],
   "source": [
    "l = [random.randint(1,10) for var in range(10)]"
   ]
  },
  {
   "cell_type": "code",
   "execution_count": 3,
   "metadata": {},
   "outputs": [
    {
     "data": {
      "text/plain": [
       "[7, 1, 5, 10, 6, 8, 2, 3, 4, 9]"
      ]
     },
     "execution_count": 3,
     "metadata": {},
     "output_type": "execute_result"
    }
   ],
   "source": [
    "l"
   ]
  },
  {
   "cell_type": "code",
   "execution_count": 6,
   "metadata": {},
   "outputs": [],
   "source": [
    "ele = 9"
   ]
  },
  {
   "cell_type": "code",
   "execution_count": 9,
   "metadata": {},
   "outputs": [
    {
     "name": "stdout",
     "output_type": "stream",
     "text": [
      "The element is found at index : 9\n"
     ]
    }
   ],
   "source": [
    "for i in range(len(l)):\n",
    "    if l[i]==ele:\n",
    "        print(f\"The element is found at index : {i}\")\n",
    "        break\n",
    "    else:\n",
    "        continue"
   ]
  },
  {
   "cell_type": "code",
   "execution_count": 15,
   "metadata": {},
   "outputs": [],
   "source": [
    "l = [random.randint(1,50) for var in range(100)]"
   ]
  },
  {
   "cell_type": "code",
   "execution_count": 16,
   "metadata": {},
   "outputs": [
    {
     "name": "stdout",
     "output_type": "stream",
     "text": [
      "[31, 41, 26, 29, 24, 12, 24, 26, 44, 19, 13, 31, 22, 43, 17, 18, 16, 20, 29, 19, 4, 29, 29, 19, 15, 5, 21, 31, 47, 1, 5, 35, 13, 16, 19, 35, 22, 31, 15, 32, 27, 8, 49, 12, 41, 8, 40, 28, 25, 47, 25, 50, 23, 48, 36, 12, 47, 12, 11, 43, 45, 4, 6, 49, 32, 2, 40, 41, 6, 36, 9, 22, 6, 48, 42, 11, 18, 44, 35, 29, 50, 3, 29, 10, 43, 15, 1, 35, 25, 23, 2, 10, 10, 39, 23, 19, 50, 47, 5, 35]\n"
     ]
    }
   ],
   "source": [
    "print(l)"
   ]
  },
  {
   "cell_type": "code",
   "execution_count": 22,
   "metadata": {},
   "outputs": [],
   "source": [
    "l.append(87)"
   ]
  },
  {
   "cell_type": "code",
   "execution_count": 23,
   "metadata": {},
   "outputs": [
    {
     "name": "stdout",
     "output_type": "stream",
     "text": [
      "[31, 41, 26, 29, 24, 12, 24, 26, 44, 19, 13, 31, 22, 43, 17, 18, 16, 20, 29, 19, 4, 29, 29, 19, 15, 5, 21, 31, 47, 1, 5, 35, 13, 16, 19, 35, 22, 31, 15, 32, 27, 8, 49, 12, 41, 8, 40, 28, 25, 47, 25, 50, 23, 48, 36, 12, 47, 12, 11, 43, 45, 4, 6, 49, 32, 2, 40, 41, 6, 36, 9, 22, 6, 48, 42, 11, 18, 44, 35, 29, 50, 3, 29, 10, 43, 15, 1, 35, 25, 23, 2, 10, 10, 39, 23, 19, 50, 47, 5, 35, 100, 87]\n"
     ]
    }
   ],
   "source": [
    "print(l)"
   ]
  },
  {
   "cell_type": "code",
   "execution_count": 24,
   "metadata": {},
   "outputs": [
    {
     "name": "stdout",
     "output_type": "stream",
     "text": [
      "The element is found at index : 101\n"
     ]
    }
   ],
   "source": [
    "ele =87\n",
    "i = 0\n",
    "while i<len(l):\n",
    "    if ele == l[i]:\n",
    "        print(f\"The element is found at index : {i}\")\n",
    "    i += 1"
   ]
  },
  {
   "cell_type": "markdown",
   "metadata": {},
   "source": [
    "2. Binary Search\n",
    "        Complexity ---> (log n)\n",
    "      "
   ]
  },
  {
   "cell_type": "code",
   "execution_count": 25,
   "metadata": {},
   "outputs": [
    {
     "name": "stdout",
     "output_type": "stream",
     "text": [
      "[31, 41, 26, 29, 24, 12, 24, 26, 44, 19, 13, 31, 22, 43, 17, 18, 16, 20, 29, 19, 4, 29, 29, 19, 15, 5, 21, 31, 47, 1, 5, 35, 13, 16, 19, 35, 22, 31, 15, 32, 27, 8, 49, 12, 41, 8, 40, 28, 25, 47, 25, 50, 23, 48, 36, 12, 47, 12, 11, 43, 45, 4, 6, 49, 32, 2, 40, 41, 6, 36, 9, 22, 6, 48, 42, 11, 18, 44, 35, 29, 50, 3, 29, 10, 43, 15, 1, 35, 25, 23, 2, 10, 10, 39, 23, 19, 50, 47, 5, 35, 100, 87]\n"
     ]
    }
   ],
   "source": [
    "print(l)"
   ]
  },
  {
   "cell_type": "code",
   "execution_count": 31,
   "metadata": {},
   "outputs": [
    {
     "name": "stdout",
     "output_type": "stream",
     "text": [
      "[1, 1, 2, 2, 3, 4, 4, 5, 5, 5, 6, 6, 6, 8, 8, 9, 10, 10, 10, 11, 11, 12, 12, 12, 12, 13, 13, 15, 15, 15, 16, 16, 17, 18, 18, 19, 19, 19, 19, 19, 20, 21, 22, 22, 22, 23, 23, 23, 24, 24, 25, 25, 25, 26, 26, 27, 28, 29, 29, 29, 29, 29, 29, 31, 31, 31, 31, 32, 32, 35, 35, 35, 35, 35, 36, 36, 39, 40, 40, 41, 41, 41, 42, 43, 43, 43, 44, 44, 45, 47, 47, 47, 47, 48, 48, 49, 49, 50, 50, 50, 87, 100]\n",
      "50 25\n",
      "76 39\n",
      "63 31\n",
      "56 28\n",
      "59 29\n",
      "The index of element is 59\n"
     ]
    }
   ],
   "source": [
    "ele = 29\n",
    "l.sort()\n",
    "print(l)\n",
    "high = len(l) - 1\n",
    "low = 0\n",
    "while True:\n",
    "    mid = (high+low)//2\n",
    "    print(mid,l[mid])\n",
    "    if ele == l[mid]:\n",
    "        print(f\"The index of element is {mid}\")\n",
    "        break\n",
    "    elif ele > l[mid]:\n",
    "        low = mid+1\n",
    "    else:\n",
    "        high = mid-1"
   ]
  },
  {
   "cell_type": "code",
   "execution_count": 29,
   "metadata": {},
   "outputs": [
    {
     "data": {
      "text/plain": [
       "57"
      ]
     },
     "execution_count": 29,
     "metadata": {},
     "output_type": "execute_result"
    }
   ],
   "source": [
    "l.index(29)"
   ]
  },
  {
   "cell_type": "code",
   "execution_count": 32,
   "metadata": {},
   "outputs": [],
   "source": [
    "#use recursion for binary search"
   ]
  },
  {
   "cell_type": "code",
   "execution_count": null,
   "metadata": {},
   "outputs": [],
   "source": []
  }
 ],
 "metadata": {
  "kernelspec": {
   "display_name": "Python 3",
   "language": "python",
   "name": "python3"
  },
  "language_info": {
   "codemirror_mode": {
    "name": "ipython",
    "version": 3
   },
   "file_extension": ".py",
   "mimetype": "text/x-python",
   "name": "python",
   "nbconvert_exporter": "python",
   "pygments_lexer": "ipython3",
   "version": "3.7.4"
  }
 },
 "nbformat": 4,
 "nbformat_minor": 2
}
