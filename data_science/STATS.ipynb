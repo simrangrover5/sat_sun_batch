{
 "cells": [
  {
   "cell_type": "code",
   "execution_count": 1,
   "metadata": {},
   "outputs": [],
   "source": [
    "import numpy as np\n",
    "import matplotlib.pyplot as plt"
   ]
  },
  {
   "cell_type": "markdown",
   "metadata": {},
   "source": [
    "## Mean\n",
    "\n",
    "\n",
    "    1. To find the average of all the possible values\n",
    "    2. The drawback of mean is that it is influenced by the outliers"
   ]
  },
  {
   "cell_type": "code",
   "execution_count": 4,
   "metadata": {},
   "outputs": [
    {
     "name": "stdout",
     "output_type": "stream",
     "text": [
      "10\n",
      "The mean of data is :  14.3\n"
     ]
    }
   ],
   "source": [
    "age = [10,10,12,14,15,15,18,19,17,13]\n",
    "print(len(age))\n",
    "mean = sum(age)/len(age)\n",
    "print(\"The mean of data is : \",mean)"
   ]
  },
  {
   "cell_type": "code",
   "execution_count": 5,
   "metadata": {},
   "outputs": [
    {
     "name": "stdout",
     "output_type": "stream",
     "text": [
      "12\n",
      "The mean of data is :  17.75\n"
     ]
    }
   ],
   "source": [
    "age = [10,10,12,14,15,15,18,19,17,13,30,40]\n",
    "print(len(age))\n",
    "mean = sum(age)/len(age)\n",
    "print(\"The mean of data is : \",mean)"
   ]
  },
  {
   "cell_type": "code",
   "execution_count": 7,
   "metadata": {},
   "outputs": [
    {
     "name": "stdout",
     "output_type": "stream",
     "text": [
      "[15 19 13 11 17 12 13 14 10 13]\n"
     ]
    },
    {
     "data": {
      "text/plain": [
       "13.7"
      ]
     },
     "execution_count": 7,
     "metadata": {},
     "output_type": "execute_result"
    }
   ],
   "source": [
    "age = np.random.randint(10,20,10)\n",
    "print(age)\n",
    "age.mean()"
   ]
  },
  {
   "cell_type": "code",
   "execution_count": 9,
   "metadata": {},
   "outputs": [
    {
     "name": "stdout",
     "output_type": "stream",
     "text": [
      "17.25\n"
     ]
    }
   ],
   "source": [
    "age = np.append(age,[30,40])\n",
    "print(age.mean())"
   ]
  },
  {
   "cell_type": "code",
   "execution_count": 17,
   "metadata": {},
   "outputs": [
    {
     "name": "stdout",
     "output_type": "stream",
     "text": [
      "The mean is :  14.451\n"
     ]
    }
   ],
   "source": [
    "age = np.random.randint(10,20,1000)\n",
    "print(\"The mean is : \",age.mean())"
   ]
  },
  {
   "cell_type": "code",
   "execution_count": 18,
   "metadata": {},
   "outputs": [
    {
     "name": "stdout",
     "output_type": "stream",
     "text": [
      "The mean is :  16.41816367265469\n"
     ]
    }
   ],
   "source": [
    "#let's add the outlier into that\n",
    "age = np.append(age,[1000,1000])\n",
    "print(\"The mean is : \",age.mean())"
   ]
  },
  {
   "cell_type": "code",
   "execution_count": 19,
   "metadata": {},
   "outputs": [
    {
     "data": {
      "text/plain": [
       "1002"
      ]
     },
     "execution_count": 19,
     "metadata": {},
     "output_type": "execute_result"
    }
   ],
   "source": [
    "age.size"
   ]
  },
  {
   "cell_type": "code",
   "execution_count": 20,
   "metadata": {},
   "outputs": [
    {
     "name": "stdout",
     "output_type": "stream",
     "text": [
      "The mean is :  16.41816367265469\n"
     ]
    }
   ],
   "source": [
    "mean = sum(age)/age.size\n",
    "print(\"The mean is : \",mean)"
   ]
  },
  {
   "cell_type": "markdown",
   "metadata": {},
   "source": [
    "## Mean"
   ]
  },
  {
   "cell_type": "markdown",
   "metadata": {},
   "source": [
    "$$ Mean=\\frac {\\sum\\limits_{i=0}^N x_i} {N} $$"
   ]
  },
  {
   "cell_type": "code",
   "execution_count": 21,
   "metadata": {},
   "outputs": [
    {
     "name": "stdout",
     "output_type": "stream",
     "text": [
      "9.555555555555555\n"
     ]
    }
   ],
   "source": [
    "m = np.array([5, 8, 15, 7, 10, 22, 3, 1, 15])\n",
    "print(m.mean())"
   ]
  },
  {
   "cell_type": "markdown",
   "metadata": {},
   "source": [
    "## Median\n",
    "    1. It is also used to determine the center value.\n",
    "    2. It is does not get affect by the outliers.\n",
    "    3. Bcz it does not depend upon the value...it depends upon the quantity(number) of values\n",
    "    4. First you have to sort the values"
   ]
  },
  {
   "cell_type": "markdown",
   "metadata": {},
   "source": [
    "#### Median for odd values\n"
   ]
  },
  {
   "cell_type": "markdown",
   "metadata": {},
   "source": [
    "age = [10,12,34,12,45,47,15]"
   ]
  },
  {
   "cell_type": "markdown",
   "metadata": {},
   "source": [
    "    i = len(data)+1 /2\n",
    "    median = data[i]"
   ]
  },
  {
   "cell_type": "code",
   "execution_count": 25,
   "metadata": {},
   "outputs": [
    {
     "name": "stdout",
     "output_type": "stream",
     "text": [
      "The median of data [10, 12, 12, 15, 34, 45, 47] is :  15\n"
     ]
    }
   ],
   "source": [
    "age = [10,12,34,12,45,47,15]\n",
    "age.sort()\n",
    "median = age[((len(age)+1)//2)-1]\n",
    "print(\"The median of data\",age,\"is : \",median)"
   ]
  },
  {
   "cell_type": "code",
   "execution_count": 26,
   "metadata": {},
   "outputs": [
    {
     "name": "stdout",
     "output_type": "stream",
     "text": [
      "The median of data [10, 12, 12, 15, 34, 45, 47, 100, 100] is :  34\n"
     ]
    }
   ],
   "source": [
    "#add outlier into data\n",
    "age.extend([100,100])\n",
    "median = age[((len(age)+1)//2)-1]\n",
    "print(\"The median of data\",age,\"is : \",median)"
   ]
  },
  {
   "cell_type": "code",
   "execution_count": 27,
   "metadata": {},
   "outputs": [
    {
     "name": "stdout",
     "output_type": "stream",
     "text": [
      "Mean :  14.336\n",
      "Median :  14.0\n"
     ]
    }
   ],
   "source": [
    "data = np.random.randint(10,20,1000)\n",
    "print(\"Mean : \",data.mean())\n",
    "print(\"Median : \",np.median(data))"
   ]
  },
  {
   "cell_type": "code",
   "execution_count": 29,
   "metadata": {},
   "outputs": [
    {
     "name": "stdout",
     "output_type": "stream",
     "text": [
      "Mean :  16.303393213572853\n",
      "Median :  14.0\n"
     ]
    }
   ],
   "source": [
    "data = np.append(data,[1000,1000])\n",
    "print(\"Mean : \",data.mean())\n",
    "print(\"Median : \",np.median(data))"
   ]
  },
  {
   "cell_type": "markdown",
   "metadata": {},
   "source": [
    "#### Median for even values\n",
    "\n",
    "\n",
    "    n1 = len(data)/2 \n",
    "    n2 = len(data)+2/2\n",
    "    median = data[n1] + data[n2]/2"
   ]
  },
  {
   "cell_type": "code",
   "execution_count": null,
   "metadata": {},
   "outputs": [],
   "source": [
    "#difference between deviation and standard deviation\n",
    "#why there is need of std"
   ]
  },
  {
   "cell_type": "code",
   "execution_count": 2,
   "metadata": {},
   "outputs": [
    {
     "data": {
      "text/plain": [
       "8"
      ]
     },
     "execution_count": 2,
     "metadata": {},
     "output_type": "execute_result"
    }
   ],
   "source": [
    "data = [10,12,4,5,10,9,8,7]\n",
    "len(data)"
   ]
  },
  {
   "cell_type": "code",
   "execution_count": 4,
   "metadata": {},
   "outputs": [
    {
     "name": "stdout",
     "output_type": "stream",
     "text": [
      "The median of data is :  9.5\n"
     ]
    }
   ],
   "source": [
    "#bcz the len(data) is even\n",
    "n1 = len(data)//2\n",
    "n2 = (len(data)+2)//2\n",
    "data.sort()\n",
    "median = (data[n1] + data[n2])/2\n",
    "print(\"The median of data is : \",median)"
   ]
  },
  {
   "cell_type": "markdown",
   "metadata": {},
   "source": [
    "## Mode\n",
    "\n",
    "    1. It tells the value that occur the most\n",
    "    2. Its drawback is that it doesn't tells us the mid value sometimes..."
   ]
  },
  {
   "cell_type": "code",
   "execution_count": 5,
   "metadata": {},
   "outputs": [
    {
     "name": "stdout",
     "output_type": "stream",
     "text": [
      "[12 10 15 16 19 11 15 10 11 14 12 18 17 12 13 14 19 14 14 10]\n"
     ]
    }
   ],
   "source": [
    "data = np.random.randint(10,20,20)\n",
    "print(data)"
   ]
  },
  {
   "cell_type": "code",
   "execution_count": 6,
   "metadata": {},
   "outputs": [],
   "source": [
    "from statistics import mode"
   ]
  },
  {
   "cell_type": "code",
   "execution_count": 7,
   "metadata": {},
   "outputs": [
    {
     "data": {
      "text/plain": [
       "14"
      ]
     },
     "execution_count": 7,
     "metadata": {},
     "output_type": "execute_result"
    }
   ],
   "source": [
    "mode(data)"
   ]
  },
  {
   "cell_type": "code",
   "execution_count": 8,
   "metadata": {},
   "outputs": [
    {
     "data": {
      "text/plain": [
       "13.8"
      ]
     },
     "execution_count": 8,
     "metadata": {},
     "output_type": "execute_result"
    }
   ],
   "source": [
    "data.mean()"
   ]
  },
  {
   "cell_type": "code",
   "execution_count": 9,
   "metadata": {},
   "outputs": [
    {
     "data": {
      "text/plain": [
       "14.0"
      ]
     },
     "execution_count": 9,
     "metadata": {},
     "output_type": "execute_result"
    }
   ],
   "source": [
    "np.median(data)"
   ]
  },
  {
   "cell_type": "code",
   "execution_count": 10,
   "metadata": {},
   "outputs": [
    {
     "name": "stdout",
     "output_type": "stream",
     "text": [
      "The data is :  [12 10 15 16 19 11 15 10 11 14 12 18 17 12 13 14 19 14 14 10 30 40]\n",
      "\n",
      " The mean of data is :  15.727272727272727\n",
      "\n",
      " The median of data is :  14.0\n",
      "\n",
      " The mode of data is :  14\n"
     ]
    }
   ],
   "source": [
    "data = np.append(data,[30,40])\n",
    "print(\"The data is : \",data)\n",
    "print(\"\\n The mean of data is : \",data.mean())\n",
    "print(\"\\n The median of data is : \",np.median(data))\n",
    "print(\"\\n The mode of data is : \",mode(data))"
   ]
  },
  {
   "cell_type": "code",
   "execution_count": 11,
   "metadata": {},
   "outputs": [
    {
     "name": "stdout",
     "output_type": "stream",
     "text": [
      "The data is :  [12 10 15 16 19 11 15 10 11 14 12 18 17 12 13 14 19 14 14 10 30 40 15 15]\n",
      "\n",
      " The mean of data is :  15.666666666666666\n",
      "\n",
      " The median of data is :  14.0\n"
     ]
    },
    {
     "ename": "StatisticsError",
     "evalue": "no unique mode; found 2 equally common values",
     "output_type": "error",
     "traceback": [
      "\u001b[1;31m---------------------------------------------------------------------\u001b[0m",
      "\u001b[1;31mStatisticsError\u001b[0m                     Traceback (most recent call last)",
      "\u001b[1;32m<ipython-input-11-56f2145de329>\u001b[0m in \u001b[0;36m<module>\u001b[1;34m\u001b[0m\n\u001b[0;32m      3\u001b[0m \u001b[0mprint\u001b[0m\u001b[1;33m(\u001b[0m\u001b[1;34m\"\\n The mean of data is : \"\u001b[0m\u001b[1;33m,\u001b[0m\u001b[0mdata\u001b[0m\u001b[1;33m.\u001b[0m\u001b[0mmean\u001b[0m\u001b[1;33m(\u001b[0m\u001b[1;33m)\u001b[0m\u001b[1;33m)\u001b[0m\u001b[1;33m\u001b[0m\u001b[1;33m\u001b[0m\u001b[0m\n\u001b[0;32m      4\u001b[0m \u001b[0mprint\u001b[0m\u001b[1;33m(\u001b[0m\u001b[1;34m\"\\n The median of data is : \"\u001b[0m\u001b[1;33m,\u001b[0m\u001b[0mnp\u001b[0m\u001b[1;33m.\u001b[0m\u001b[0mmedian\u001b[0m\u001b[1;33m(\u001b[0m\u001b[0mdata\u001b[0m\u001b[1;33m)\u001b[0m\u001b[1;33m)\u001b[0m\u001b[1;33m\u001b[0m\u001b[1;33m\u001b[0m\u001b[0m\n\u001b[1;32m----> 5\u001b[1;33m \u001b[0mprint\u001b[0m\u001b[1;33m(\u001b[0m\u001b[1;34m\"\\n The mode of data is : \"\u001b[0m\u001b[1;33m,\u001b[0m\u001b[0mmode\u001b[0m\u001b[1;33m(\u001b[0m\u001b[0mdata\u001b[0m\u001b[1;33m)\u001b[0m\u001b[1;33m)\u001b[0m\u001b[1;33m\u001b[0m\u001b[1;33m\u001b[0m\u001b[0m\n\u001b[0m",
      "\u001b[1;32mC:\\Anaconda\\lib\\statistics.py\u001b[0m in \u001b[0;36mmode\u001b[1;34m(data)\u001b[0m\n\u001b[0;32m    504\u001b[0m     \u001b[1;32melif\u001b[0m \u001b[0mtable\u001b[0m\u001b[1;33m:\u001b[0m\u001b[1;33m\u001b[0m\u001b[1;33m\u001b[0m\u001b[0m\n\u001b[0;32m    505\u001b[0m         raise StatisticsError(\n\u001b[1;32m--> 506\u001b[1;33m                 \u001b[1;34m'no unique mode; found %d equally common values'\u001b[0m \u001b[1;33m%\u001b[0m \u001b[0mlen\u001b[0m\u001b[1;33m(\u001b[0m\u001b[0mtable\u001b[0m\u001b[1;33m)\u001b[0m\u001b[1;33m\u001b[0m\u001b[1;33m\u001b[0m\u001b[0m\n\u001b[0m\u001b[0;32m    507\u001b[0m                 )\n\u001b[0;32m    508\u001b[0m     \u001b[1;32melse\u001b[0m\u001b[1;33m:\u001b[0m\u001b[1;33m\u001b[0m\u001b[1;33m\u001b[0m\u001b[0m\n",
      "\u001b[1;31mStatisticsError\u001b[0m: no unique mode; found 2 equally common values"
     ]
    }
   ],
   "source": [
    "data = np.append(data,[15,15])\n",
    "print(\"The data is : \",data)\n",
    "print(\"\\n The mean of data is : \",data.mean())\n",
    "print(\"\\n The median of data is : \",np.median(data))\n",
    "print(\"\\n The mode of data is : \",mode(data))"
   ]
  },
  {
   "cell_type": "markdown",
   "metadata": {},
   "source": [
    "## Make a function that will take data as argument\n",
    "\n",
    "1. Calculate the mean\n",
    "2. Callculate the median\n",
    "3. Calculate the mode ( if there are two values that is having same mode then print the smallest value)"
   ]
  },
  {
   "cell_type": "code",
   "execution_count": 24,
   "metadata": {},
   "outputs": [
    {
     "name": "stdout",
     "output_type": "stream",
     "text": [
      "Writing stats.py\n"
     ]
    }
   ],
   "source": [
    "%%writefile stats.py\n",
    "\n",
    "class Statistics:\n",
    "    def __init__(self,data):\n",
    "        self.data = data\n",
    "        \n",
    "    def mean(self):\n",
    "        m = sum(self.data)/len(self.data)\n",
    "        return m\n",
    "    \n",
    "    def median(self):\n",
    "        self.data.sort()\n",
    "        if len(self.data)%2 == 0:\n",
    "            n1 = len(self.data)//2\n",
    "            n2 = (len(self.data) + 2)//2\n",
    "            m = (self.data[n1] + self.data[n2])/2\n",
    "            return m\n",
    "        else:\n",
    "            n1 = (len(self.data) + 1)//2\n",
    "            m = self.data[n1]\n",
    "            return m\n",
    "    def mode(self):\n",
    "        count = {}\n",
    "        for i in self.data:\n",
    "            count[i] = self.data.count(i)\n",
    "        print(count)\n",
    "        l = []\n",
    "        maxi = max(count.values())\n",
    "        for i in count:\n",
    "            if count[i] == maxi:\n",
    "                l.append(i)\n",
    "        return min(l)\n",
    "\n",
    "from random import randint        \n",
    "obj = Statistics([randint(1,10) for var in range(20)])\n",
    "print(\"Mode : \",obj.mode())\n",
    "print(\"Median : \",obj.median())\n",
    "print(\"Mean : \",obj.mean())"
   ]
  },
  {
   "cell_type": "code",
   "execution_count": 22,
   "metadata": {},
   "outputs": [
    {
     "name": "stdout",
     "output_type": "stream",
     "text": [
      "{10: 2, 20: 1, 30: 1, 40: 1, 50: 1}\n"
     ]
    }
   ],
   "source": [
    "l = [10,20,30,40,10,50]\n",
    "d = {}\n",
    "for i in l:\n",
    "    d[i] = 0\n",
    "for i in l:\n",
    "    c = 0\n",
    "    for j in l:\n",
    "        if i == j:\n",
    "            c += 1\n",
    "    d[i] = c\n",
    "print(d)"
   ]
  },
  {
   "cell_type": "code",
   "execution_count": 28,
   "metadata": {},
   "outputs": [
    {
     "name": "stdout",
     "output_type": "stream",
     "text": [
      "[12 17 11 13 15 19 13 16 19 15 18 12 18 18 16 15 16 16 18 14]\n"
     ]
    }
   ],
   "source": [
    "data = np.random.randint(10,20,20)\n",
    "print(data)\n",
    "mean = data.mean()"
   ]
  },
  {
   "cell_type": "markdown",
   "metadata": {},
   "source": [
    "## Standard Deviation and Variance"
   ]
  },
  {
   "cell_type": "code",
   "execution_count": 37,
   "metadata": {},
   "outputs": [
    {
     "name": "stdout",
     "output_type": "stream",
     "text": [
      "[0, 0] [12, 15.55]\n",
      "[1, 1] [17, 15.55]\n",
      "[2, 2] [11, 15.55]\n",
      "[3, 3] [13, 15.55]\n",
      "[4, 4] [15, 15.55]\n",
      "[5, 5] [19, 15.55]\n",
      "[6, 6] [13, 15.55]\n",
      "[7, 7] [16, 15.55]\n",
      "[8, 8] [19, 15.55]\n",
      "[9, 9] [15, 15.55]\n",
      "[10, 10] [18, 15.55]\n",
      "[11, 11] [12, 15.55]\n",
      "[12, 12] [18, 15.55]\n",
      "[13, 13] [18, 15.55]\n",
      "[14, 14] [16, 15.55]\n",
      "[15, 15] [15, 15.55]\n",
      "[16, 16] [16, 15.55]\n",
      "[17, 17] [16, 15.55]\n",
      "[18, 18] [18, 15.55]\n",
      "[19, 19] [14, 15.55]\n"
     ]
    },
    {
     "data": {
      "image/png": "[encoded data removed]",
      "text/plain": [
       "<Figure size 792x360 with 1 Axes>"
      ]
     },
     "metadata": {
      "needs_background": "light"
     },
     "output_type": "display_data"
    }
   ],
   "source": [
    "plt.figure(figsize=(11,5))\n",
    "plt.plot(data,'o')\n",
    "plt.plot([0,20],[mean,mean],'r')`\n",
    "plt.xticks(range(0,20))\n",
    "x_points = [[var,var] for var in range(0,20)]\n",
    "y_points = [[d,mean] for d in data]\n",
    "for x,y in zip(x_points,y_points):\n",
    "    print(x,y)\n",
    "    plt.plot(x,y,'ko-')\n",
    "plt.grid()\n",
    "plt.show()"
   ]
  },
  {
   "cell_type": "code",
   "execution_count": 47,
   "metadata": {},
   "outputs": [
    {
     "name": "stdout",
     "output_type": "stream",
     "text": [
      "[3.55, -1.45, 4.55, 2.55, 0.55, -3.45, 2.55, -0.45, -3.45, 0.55, -2.45, 3.55, -2.45, -2.45, -0.45, 0.55, -0.45, -0.45, -2.45, 1.55]\n",
      "-3.3306690738754695e-17\n"
     ]
    }
   ],
   "source": [
    "dev = [round(mean-x,2) for x in data]\n",
    "print(dev)\n",
    "print(sum(dev)/len(data))"
   ]
  },
  {
   "cell_type": "code",
   "execution_count": 48,
   "metadata": {},
   "outputs": [
    {
     "name": "stdout",
     "output_type": "stream",
     "text": [
      "1.9950000000000003\n"
     ]
    }
   ],
   "source": [
    "dev = [abs(mean-x) for x in data]\n",
    "avg_dev = sum(dev)/len(data)\n",
    "print(avg_dev)"
   ]
  },
  {
   "cell_type": "code",
   "execution_count": 50,
   "metadata": {},
   "outputs": [
    {
     "data": {
      "image/png": "[encoded data removed]",
      "text/plain": [
       "<Figure size 432x288 with 1 Axes>"
      ]
     },
     "metadata": {
      "needs_background": "light"
     },
     "output_type": "display_data"
    }
   ],
   "source": [
    "plt.plot(data,'o')\n",
    "plt.plot([0,20],[mean,mean],'r')\n",
    "plt.xticks(range(0,20))\n",
    "\n",
    "plt.show()"
   ]
  },
  {
   "cell_type": "code",
   "execution_count": 55,
   "metadata": {},
   "outputs": [
    {
     "data": {
      "image/png": "[encoded data removed]",
      "text/plain": [
       "<Figure size 792x360 with 1 Axes>"
      ]
     },
     "metadata": {
      "needs_background": "light"
     },
     "output_type": "display_data"
    }
   ],
   "source": [
    "plt.figure(figsize=(11,5))\n",
    "plt.plot(data,'o')\n",
    "plt.plot([0,20],[mean,mean],'r')\n",
    "plt.xticks(range(0,20))\n",
    "x_points = [[var,var] for var in range(0,20)]\n",
    "y_points = [[d,mean] for d in data]\n",
    "for x,y in zip(x_points,y_points):\n",
    "    plt.plot(x,y,'ko-')\n",
    "plt.plot([0,20],[mean+avg_dev,mean+avg_dev],'y')  #plotting for deviation\n",
    "plt.plot([0,20],[mean-avg_dev,mean-avg_dev],'m')\n",
    "plt.grid()\n",
    "plt.show()"
   ]
  },
  {
   "cell_type": "markdown",
   "metadata": {},
   "source": [
    "$$ \\frac {(\\bar x - x_i)^2} {N}  $$"
   ]
  },
  {
   "cell_type": "code",
   "execution_count": 56,
   "metadata": {},
   "outputs": [
    {
     "name": "stdout",
     "output_type": "stream",
     "text": [
      "5.6475\n"
     ]
    }
   ],
   "source": [
    "d_sq = sum([(mean-var)**2 for var in data])/len(data)\n",
    "print(d_sq)"
   ]
  },
  {
   "cell_type": "code",
   "execution_count": 57,
   "metadata": {},
   "outputs": [
    {
     "data": {
      "image/png": "[encoded data removed]",
      "text/plain": [
       "<Figure size 792x360 with 1 Axes>"
      ]
     },
     "metadata": {
      "needs_background": "light"
     },
     "output_type": "display_data"
    }
   ],
   "source": [
    "plt.figure(figsize=(11,5))\n",
    "plt.plot(data,'o')\n",
    "plt.plot([0,20],[mean,mean],'r')\n",
    "plt.xticks(range(0,20))\n",
    "x_points = [[var,var] for var in range(0,20)]\n",
    "y_points = [[d,mean] for d in data]\n",
    "for x,y in zip(x_points,y_points):\n",
    "    plt.plot(x,y,'ko-')\n",
    "plt.plot([0,20],[mean+avg_dev,mean+avg_dev],'y')  #plotting for deviation\n",
    "plt.plot([0,20],[mean-avg_dev,mean-avg_dev],'m')\n",
    "plt.plot([0,20],[d_sq+mean,mean+d_sq],'#123456')  #plotting for sq\n",
    "plt.plot([0,20],[mean-d_sq,mean-d_sq],'#fff123')\n",
    "plt.grid()\n",
    "plt.show()"
   ]
  },
  {
   "cell_type": "markdown",
   "metadata": {},
   "source": [
    "##### Standard Deviation"
   ]
  },
  {
   "cell_type": "markdown",
   "metadata": {},
   "source": [
    "$$ \\sqrt {\\frac {\\sum\\limits_{i=0}^N (x_i - \\bar x)^2} {N}}  $$"
   ]
  },
  {
   "cell_type": "code",
   "execution_count": 58,
   "metadata": {},
   "outputs": [
    {
     "data": {
      "image/png": "[encoded data removed]",
      "text/plain": [
       "<Figure size 792x360 with 1 Axes>"
      ]
     },
     "metadata": {
      "needs_background": "light"
     },
     "output_type": "display_data"
    }
   ],
   "source": [
    "plt.figure(figsize=(11,5))\n",
    "plt.plot(data,'o')\n",
    "plt.plot([0,20],[mean,mean],'r')\n",
    "plt.xticks(range(0,20))\n",
    "x_points = [[var,var] for var in range(0,20)]\n",
    "y_points = [[d,mean] for d in data]\n",
    "for x,y in zip(x_points,y_points):\n",
    "    plt.plot(x,y,'ko-')\n",
    "plt.plot([0,20],[mean+avg_dev,mean+avg_dev],'y')  #plotting for deviation\n",
    "plt.plot([0,20],[mean-avg_dev,mean-avg_dev],'m')\n",
    "plt.plot([0,20],[d_sq+mean,mean+d_sq],'#123456')  #plotting for sq\n",
    "plt.plot([0,20],[mean-d_sq,mean-d_sq],'#fff123')\n",
    "plt.plot([0,20],[mean+data.std(),mean+data.std()])\n",
    "plt.plot([0,20],[mean-data.std(),mean-data.std()])\n",
    "plt.grid()\n",
    "plt.show()"
   ]
  },
  {
   "cell_type": "code",
   "execution_count": 70,
   "metadata": {},
   "outputs": [
    {
     "data": {
      "image/png": "[encoded data removed]",
      "text/plain": [
       "<Figure size 432x288 with 1 Axes>"
      ]
     },
     "metadata": {
      "needs_background": "light"
     },
     "output_type": "display_data"
    }
   ],
   "source": [
    "normal = np.random.randn(10000)\n",
    "plt.hist(normal,bins=30,ec='b')\n",
    "mean = normal.mean()\n",
    "median = np.median(normal)\n",
    "#mode = mode(normal)\n",
    "plt.plot([mean,mean],[0,1200],'r')\n",
    "plt.plot([median,median],[0,1200],'k')\n",
    "#plt.plot([mode,mode],[0,1000],'y')\n",
    "plt.show()"
   ]
  },
  {
   "cell_type": "code",
   "execution_count": null,
   "metadata": {},
   "outputs": [],
   "source": []
  }
 ],
 "metadata": {
  "kernelspec": {
   "display_name": "Python 3",
   "language": "python",
   "name": "python3"
  },
  "language_info": {
   "codemirror_mode": {
    "name": "ipython",
    "version": 3
   },
   "file_extension": ".py",
   "mimetype": "text/x-python",
   "name": "python",
   "nbconvert_exporter": "python",
   "pygments_lexer": "ipython3",
   "version": "3.7.4"
  }
 },
 "nbformat": 4,
 "nbformat_minor": 2
}
