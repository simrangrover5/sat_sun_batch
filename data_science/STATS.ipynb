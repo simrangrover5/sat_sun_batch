{
 "cells": [
  {
   "cell_type": "code",
   "execution_count": 1,
   "metadata": {},
   "outputs": [],
   "source": [
    "import numpy as np\n",
    "import matplotlib.pyplot as plt"
   ]
  },
  {
   "cell_type": "markdown",
   "metadata": {},
   "source": [
    "## Mean\n",
    "\n",
    "\n",
    "    1. To find the average of all the possible values\n",
    "    2. The drawback of mean is that it is influenced by the outliers"
   ]
  },
  {
   "cell_type": "code",
   "execution_count": 4,
   "metadata": {},
   "outputs": [
    {
     "name": "stdout",
     "output_type": "stream",
     "text": [
      "10\n",
      "The mean of data is :  14.3\n"
     ]
    }
   ],
   "source": [
    "age = [10,10,12,14,15,15,18,19,17,13]\n",
    "print(len(age))\n",
    "mean = sum(age)/len(age)\n",
    "print(\"The mean of data is : \",mean)"
   ]
  },
  {
   "cell_type": "code",
   "execution_count": 5,
   "metadata": {},
   "outputs": [
    {
     "name": "stdout",
     "output_type": "stream",
     "text": [
      "12\n",
      "The mean of data is :  17.75\n"
     ]
    }
   ],
   "source": [
    "age = [10,10,12,14,15,15,18,19,17,13,30,40]\n",
    "print(len(age))\n",
    "mean = sum(age)/len(age)\n",
    "print(\"The mean of data is : \",mean)"
   ]
  },
  {
   "cell_type": "code",
   "execution_count": 7,
   "metadata": {},
   "outputs": [
    {
     "name": "stdout",
     "output_type": "stream",
     "text": [
      "[15 19 13 11 17 12 13 14 10 13]\n"
     ]
    },
    {
     "data": {
      "text/plain": [
       "13.7"
      ]
     },
     "execution_count": 7,
     "metadata": {},
     "output_type": "execute_result"
    }
   ],
   "source": [
    "age = np.random.randint(10,20,10)\n",
    "print(age)\n",
    "age.mean()"
   ]
  },
  {
   "cell_type": "code",
   "execution_count": 9,
   "metadata": {},
   "outputs": [
    {
     "name": "stdout",
     "output_type": "stream",
     "text": [
      "17.25\n"
     ]
    }
   ],
   "source": [
    "age = np.append(age,[30,40])\n",
    "print(age.mean())"
   ]
  },
  {
   "cell_type": "code",
   "execution_count": 17,
   "metadata": {},
   "outputs": [
    {
     "name": "stdout",
     "output_type": "stream",
     "text": [
      "The mean is :  14.451\n"
     ]
    }
   ],
   "source": [
    "age = np.random.randint(10,20,1000)\n",
    "print(\"The mean is : \",age.mean())"
   ]
  },
  {
   "cell_type": "code",
   "execution_count": 18,
   "metadata": {},
   "outputs": [
    {
     "name": "stdout",
     "output_type": "stream",
     "text": [
      "The mean is :  16.41816367265469\n"
     ]
    }
   ],
   "source": [
    "#let's add the outlier into that\n",
    "age = np.append(age,[1000,1000])\n",
    "print(\"The mean is : \",age.mean())"
   ]
  },
  {
   "cell_type": "code",
   "execution_count": 19,
   "metadata": {},
   "outputs": [
    {
     "data": {
      "text/plain": [
       "1002"
      ]
     },
     "execution_count": 19,
     "metadata": {},
     "output_type": "execute_result"
    }
   ],
   "source": [
    "age.size"
   ]
  },
  {
   "cell_type": "code",
   "execution_count": 20,
   "metadata": {},
   "outputs": [
    {
     "name": "stdout",
     "output_type": "stream",
     "text": [
      "The mean is :  16.41816367265469\n"
     ]
    }
   ],
   "source": [
    "mean = sum(age)/age.size\n",
    "print(\"The mean is : \",mean)"
   ]
  },
  {
   "cell_type": "markdown",
   "metadata": {},
   "source": [
    "## Mean"
   ]
  },
  {
   "cell_type": "markdown",
   "metadata": {},
   "source": [
    "$$ Mean=\\frac {\\sum\\limits_{i=0}^N x_i} {N} $$"
   ]
  },
  {
   "cell_type": "code",
   "execution_count": 21,
   "metadata": {},
   "outputs": [
    {
     "name": "stdout",
     "output_type": "stream",
     "text": [
      "9.555555555555555\n"
     ]
    }
   ],
   "source": [
    "m = np.array([5, 8, 15, 7, 10, 22, 3, 1, 15])\n",
    "print(m.mean())"
   ]
  },
  {
   "cell_type": "markdown",
   "metadata": {},
   "source": [
    "## Median\n",
    "    1. It is also used to determine the center value.\n",
    "    2. It is does not get affect by the outliers.\n",
    "    3. Bcz it does not depend upon the value...it depends upon the quantity(number) of values\n",
    "    4. First you have to sort the values"
   ]
  },
  {
   "cell_type": "markdown",
   "metadata": {},
   "source": [
    "#### Median for odd values\n"
   ]
  },
  {
   "cell_type": "markdown",
   "metadata": {},
   "source": [
    "age = [10,12,34,12,45,47,15]"
   ]
  },
  {
   "cell_type": "markdown",
   "metadata": {},
   "source": [
    "    i = len(data)+1 /2\n",
    "    median = data[i]"
   ]
  },
  {
   "cell_type": "code",
   "execution_count": 25,
   "metadata": {},
   "outputs": [
    {
     "name": "stdout",
     "output_type": "stream",
     "text": [
      "The median of data [10, 12, 12, 15, 34, 45, 47] is :  15\n"
     ]
    }
   ],
   "source": [
    "age = [10,12,34,12,45,47,15]\n",
    "age.sort()\n",
    "median = age[((len(age)+1)//2)-1]\n",
    "print(\"The median of data\",age,\"is : \",median)"
   ]
  },
  {
   "cell_type": "code",
   "execution_count": 26,
   "metadata": {},
   "outputs": [
    {
     "name": "stdout",
     "output_type": "stream",
     "text": [
      "The median of data [10, 12, 12, 15, 34, 45, 47, 100, 100] is :  34\n"
     ]
    }
   ],
   "source": [
    "#add outlier into data\n",
    "age.extend([100,100])\n",
    "median = age[((len(age)+1)//2)-1]\n",
    "print(\"The median of data\",age,\"is : \",median)"
   ]
  },
  {
   "cell_type": "code",
   "execution_count": 27,
   "metadata": {},
   "outputs": [
    {
     "name": "stdout",
     "output_type": "stream",
     "text": [
      "Mean :  14.336\n",
      "Median :  14.0\n"
     ]
    }
   ],
   "source": [
    "data = np.random.randint(10,20,1000)\n",
    "print(\"Mean : \",data.mean())\n",
    "print(\"Median : \",np.median(data))"
   ]
  },
  {
   "cell_type": "code",
   "execution_count": 29,
   "metadata": {},
   "outputs": [
    {
     "name": "stdout",
     "output_type": "stream",
     "text": [
      "Mean :  16.303393213572853\n",
      "Median :  14.0\n"
     ]
    }
   ],
   "source": [
    "data = np.append(data,[1000,1000])\n",
    "print(\"Mean : \",data.mean())\n",
    "print(\"Median : \",np.median(data))"
   ]
  },
  {
   "cell_type": "code",
   "execution_count": null,
   "metadata": {},
   "outputs": [],
   "source": [
    "#difference between deviation and standard deviation\n",
    "#why there is need of std"
   ]
  }
 ],
 "metadata": {
  "kernelspec": {
   "display_name": "Python 3",
   "language": "python",
   "name": "python3"
  },
  "language_info": {
   "codemirror_mode": {
    "name": "ipython",
    "version": 3
   },
   "file_extension": ".py",
   "mimetype": "text/x-python",
   "name": "python",
   "nbconvert_exporter": "python",
   "pygments_lexer": "ipython3",
   "version": "3.7.4"
  }
 },
 "nbformat": 4,
 "nbformat_minor": 2
}
