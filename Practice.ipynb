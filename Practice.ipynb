{
 "cells": [
  {
   "cell_type": "code",
   "execution_count": 1,
   "metadata": {},
   "outputs": [],
   "source": [
    "def f(name):\n",
    "    print(\"The name is : \",name)"
   ]
  },
  {
   "cell_type": "code",
   "execution_count": 2,
   "metadata": {},
   "outputs": [
    {
     "name": "stdout",
     "output_type": "stream",
     "text": [
      "The name is :  simran\n"
     ]
    }
   ],
   "source": [
    "f(\"simran\")"
   ]
  },
  {
   "cell_type": "code",
   "execution_count": 3,
   "metadata": {},
   "outputs": [
    {
     "name": "stdout",
     "output_type": "stream",
     "text": [
      "The name is :  stuti\n"
     ]
    }
   ],
   "source": [
    "f(\"stuti\")"
   ]
  },
  {
   "cell_type": "markdown",
   "metadata": {},
   "source": [
    "## Arguements"
   ]
  },
  {
   "cell_type": "code",
   "execution_count": 4,
   "metadata": {},
   "outputs": [
    {
     "name": "stdout",
     "output_type": "stream",
     "text": [
      "The name is :  simran\n",
      "None\n"
     ]
    }
   ],
   "source": [
    "n = f(\"simran\")\n",
    "print(n)"
   ]
  },
  {
   "cell_type": "code",
   "execution_count": 5,
   "metadata": {},
   "outputs": [
    {
     "name": "stdout",
     "output_type": "stream",
     "text": [
      "hello world\n",
      "None\n"
     ]
    }
   ],
   "source": [
    "n = print(\"hello world\")\n",
    "print(n)"
   ]
  },
  {
   "cell_type": "code",
   "execution_count": 6,
   "metadata": {},
   "outputs": [],
   "source": [
    "l = ['hello','world','how','are','you']"
   ]
  },
  {
   "cell_type": "code",
   "execution_count": 7,
   "metadata": {},
   "outputs": [],
   "source": [
    "d = {'key':'value'}"
   ]
  },
  {
   "cell_type": "code",
   "execution_count": 8,
   "metadata": {},
   "outputs": [
    {
     "data": {
      "text/plain": [
       "{'__name__': '__main__',\n",
       " '__doc__': 'Automatically created module for IPython interactive environment',\n",
       " '__package__': None,\n",
       " '__loader__': None,\n",
       " '__spec__': None,\n",
       " '__builtin__': <module 'builtins' (built-in)>,\n",
       " '__builtins__': <module 'builtins' (built-in)>,\n",
       " '_ih': ['',\n",
       "  'def f(name):\\n    print(\"The name is : \",name)',\n",
       "  'f(\"simran\")',\n",
       "  'f(\"stuti\")',\n",
       "  'n = f(\"simran\")\\nprint(n)',\n",
       "  'n = print(\"hello world\")\\nprint(n)',\n",
       "  \"l = ['hello','world','how','are','you']\",\n",
       "  \"d = {'key':'value'}\",\n",
       "  'vars()'],\n",
       " '_oh': {},\n",
       " '_dh': ['C:\\\\batches\\\\sat_sunbatch'],\n",
       " 'In': ['',\n",
       "  'def f(name):\\n    print(\"The name is : \",name)',\n",
       "  'f(\"simran\")',\n",
       "  'f(\"stuti\")',\n",
       "  'n = f(\"simran\")\\nprint(n)',\n",
       "  'n = print(\"hello world\")\\nprint(n)',\n",
       "  \"l = ['hello','world','how','are','you']\",\n",
       "  \"d = {'key':'value'}\",\n",
       "  'vars()'],\n",
       " 'Out': {},\n",
       " 'get_ipython': <bound method InteractiveShell.get_ipython of <ipykernel.zmqshell.ZMQInteractiveShell object at 0x0000021D44440608>>,\n",
       " 'exit': <IPython.core.autocall.ZMQExitAutocall at 0x21d444690c8>,\n",
       " 'quit': <IPython.core.autocall.ZMQExitAutocall at 0x21d444690c8>,\n",
       " '_': '',\n",
       " '__': '',\n",
       " '___': '',\n",
       " '_i': \"d = {'key':'value'}\",\n",
       " '_ii': \"l = ['hello','world','how','are','you']\",\n",
       " '_iii': 'n = print(\"hello world\")\\nprint(n)',\n",
       " '_i1': 'def f(name):\\n    print(\"The name is : \",name)',\n",
       " 'f': <function __main__.f(name)>,\n",
       " '_i2': 'f(\"simran\")',\n",
       " '_i3': 'f(\"stuti\")',\n",
       " '_i4': 'n = f(\"simran\")\\nprint(n)',\n",
       " 'n': None,\n",
       " '_i5': 'n = print(\"hello world\")\\nprint(n)',\n",
       " '_i6': \"l = ['hello','world','how','are','you']\",\n",
       " 'l': ['hello', 'world', 'how', 'are', 'you'],\n",
       " '_i7': \"d = {'key':'value'}\",\n",
       " 'd': {'key': 'value'},\n",
       " '_i8': 'vars()'}"
      ]
     },
     "execution_count": 8,
     "metadata": {},
     "output_type": "execute_result"
    }
   ],
   "source": [
    "vars()"
   ]
  },
  {
   "cell_type": "code",
   "execution_count": 11,
   "metadata": {},
   "outputs": [
    {
     "data": {
      "text/plain": [
       "{'__name__': '__main__',\n",
       " '__doc__': 'Automatically created module for IPython interactive environment',\n",
       " '__package__': None,\n",
       " '__loader__': None,\n",
       " '__spec__': None,\n",
       " '__builtin__': <module 'builtins' (built-in)>,\n",
       " '__builtins__': <module 'builtins' (built-in)>,\n",
       " '_ih': ['',\n",
       "  'def f(name):\\n    print(\"The name is : \",name)',\n",
       "  'f(\"simran\")',\n",
       "  'f(\"stuti\")',\n",
       "  'n = f(\"simran\")\\nprint(n)',\n",
       "  'n = print(\"hello world\")\\nprint(n)',\n",
       "  \"l = ['hello','world','how','are','you']\",\n",
       "  \"d = {'key':'value'}\",\n",
       "  'vars()',\n",
       "  'vars',\n",
       "  'vars()',\n",
       "  'vars()   #global space'],\n",
       " '_oh': {8: {...}, 9: <function vars>, 10: {...}},\n",
       " '_dh': ['C:\\\\batches\\\\sat_sunbatch'],\n",
       " 'In': ['',\n",
       "  'def f(name):\\n    print(\"The name is : \",name)',\n",
       "  'f(\"simran\")',\n",
       "  'f(\"stuti\")',\n",
       "  'n = f(\"simran\")\\nprint(n)',\n",
       "  'n = print(\"hello world\")\\nprint(n)',\n",
       "  \"l = ['hello','world','how','are','you']\",\n",
       "  \"d = {'key':'value'}\",\n",
       "  'vars()',\n",
       "  'vars',\n",
       "  'vars()',\n",
       "  'vars()   #global space'],\n",
       " 'Out': {8: {...}, 9: <function vars>, 10: {...}},\n",
       " 'get_ipython': <bound method InteractiveShell.get_ipython of <ipykernel.zmqshell.ZMQInteractiveShell object at 0x0000021D44440608>>,\n",
       " 'exit': <IPython.core.autocall.ZMQExitAutocall at 0x21d444690c8>,\n",
       " 'quit': <IPython.core.autocall.ZMQExitAutocall at 0x21d444690c8>,\n",
       " '_': {...},\n",
       " '__': <function vars>,\n",
       " '___': {...},\n",
       " '_i': 'vars()',\n",
       " '_ii': 'vars',\n",
       " '_iii': 'vars()',\n",
       " '_i1': 'def f(name):\\n    print(\"The name is : \",name)',\n",
       " 'f': <function __main__.f(name)>,\n",
       " '_i2': 'f(\"simran\")',\n",
       " '_i3': 'f(\"stuti\")',\n",
       " '_i4': 'n = f(\"simran\")\\nprint(n)',\n",
       " 'n': None,\n",
       " '_i5': 'n = print(\"hello world\")\\nprint(n)',\n",
       " '_i6': \"l = ['hello','world','how','are','you']\",\n",
       " 'l': ['hello', 'world', 'how', 'are', 'you'],\n",
       " '_i7': \"d = {'key':'value'}\",\n",
       " 'd': {'key': 'value'},\n",
       " '_i8': 'vars()',\n",
       " '_8': {...},\n",
       " '_i9': 'vars',\n",
       " '_9': <function vars>,\n",
       " '_i10': 'vars()',\n",
       " '_10': {...},\n",
       " '_i11': 'vars()   #global space'}"
      ]
     },
     "execution_count": 11,
     "metadata": {},
     "output_type": "execute_result"
    }
   ],
   "source": [
    "vars()   #global space"
   ]
  },
  {
   "cell_type": "code",
   "execution_count": 12,
   "metadata": {},
   "outputs": [
    {
     "data": {
      "text/plain": [
       "<function __main__.f(name)>"
      ]
     },
     "execution_count": 12,
     "metadata": {},
     "output_type": "execute_result"
    }
   ],
   "source": [
    "f"
   ]
  },
  {
   "cell_type": "code",
   "execution_count": 15,
   "metadata": {},
   "outputs": [
    {
     "name": "stdout",
     "output_type": "stream",
     "text": [
      "5\n",
      "10\n"
     ]
    }
   ],
   "source": [
    "a = 10\n",
    "def modify():\n",
    "    a = 5\n",
    "    print(a)\n",
    "    \n",
    "modify()\n",
    "print(a)"
   ]
  },
  {
   "cell_type": "code",
   "execution_count": 17,
   "metadata": {},
   "outputs": [
    {
     "name": "stdout",
     "output_type": "stream",
     "text": [
      "Enter any name : simran\n",
      "The name is :  simran\n"
     ]
    },
    {
     "ename": "NameError",
     "evalue": "name 'name' is not defined",
     "output_type": "error",
     "traceback": [
      "\u001b[1;31m---------------------------------------------------------------------\u001b[0m",
      "\u001b[1;31mNameError\u001b[0m                           Traceback (most recent call last)",
      "\u001b[1;32m<ipython-input-17-578783843626>\u001b[0m in \u001b[0;36m<module>\u001b[1;34m\u001b[0m\n\u001b[0;32m      4\u001b[0m \u001b[1;33m\u001b[0m\u001b[0m\n\u001b[0;32m      5\u001b[0m \u001b[0mf\u001b[0m\u001b[1;33m(\u001b[0m\u001b[1;33m)\u001b[0m\u001b[1;33m\u001b[0m\u001b[1;33m\u001b[0m\u001b[0m\n\u001b[1;32m----> 6\u001b[1;33m \u001b[0mprint\u001b[0m\u001b[1;33m(\u001b[0m\u001b[0mname\u001b[0m\u001b[1;33m)\u001b[0m\u001b[1;33m\u001b[0m\u001b[1;33m\u001b[0m\u001b[0m\n\u001b[0m",
      "\u001b[1;31mNameError\u001b[0m: name 'name' is not defined"
     ]
    }
   ],
   "source": [
    "def f():\n",
    "    name = input(\"Enter any name : \")\n",
    "    print(\"The name is : \",name)\n",
    "    \n",
    "f()\n",
    "print(name)"
   ]
  },
  {
   "cell_type": "code",
   "execution_count": 18,
   "metadata": {},
   "outputs": [],
   "source": [
    "##call by value-->immutable data\n",
    "##call by reference-->mutable data"
   ]
  },
  {
   "cell_type": "code",
   "execution_count": 28,
   "metadata": {},
   "outputs": [],
   "source": [
    "d = dict.fromkeys(['name','course','fees'],[])"
   ]
  },
  {
   "cell_type": "code",
   "execution_count": 29,
   "metadata": {},
   "outputs": [
    {
     "data": {
      "text/plain": [
       "{'name': [], 'course': [], 'fees': []}"
      ]
     },
     "execution_count": 29,
     "metadata": {},
     "output_type": "execute_result"
    }
   ],
   "source": [
    "d"
   ]
  },
  {
   "cell_type": "code",
   "execution_count": 26,
   "metadata": {},
   "outputs": [
    {
     "name": "stdout",
     "output_type": "stream",
     "text": [
      "Enter your name : simran\n",
      "Enter your course : python\n",
      "Enter your fees : 12000\n",
      "{'name': ['simran'], 'course': ['simran'], 'fees': ['simran']}\n",
      "{'name': ['simran', 'python'], 'course': ['simran', 'python'], 'fees': ['simran', 'python']}\n",
      "{'name': ['simran', 'python', 12000], 'course': ['simran', 'python', 12000], 'fees': ['simran', 'python', 12000]}\n"
     ]
    }
   ],
   "source": [
    "name = input(\"Enter your name : \")\n",
    "course = input(\"Enter your course : \")\n",
    "fees = int(input(\"Enter your fees : \"))\n",
    "d['name'].append(name)\n",
    "print(d)\n",
    "d['course'].append(course)\n",
    "print(d)\n",
    "d['fees'].append(fees)\n",
    "print(d)"
   ]
  },
  {
   "cell_type": "code",
   "execution_count": 22,
   "metadata": {},
   "outputs": [
    {
     "data": {
      "text/plain": [
       "{'name': ['simran', 'python', 10000],\n",
       " 'course': ['simran', 'python', 10000],\n",
       " 'fees': ['simran', 'python', 10000]}"
      ]
     },
     "execution_count": 22,
     "metadata": {},
     "output_type": "execute_result"
    }
   ],
   "source": [
    "d"
   ]
  },
  {
   "cell_type": "code",
   "execution_count": 27,
   "metadata": {},
   "outputs": [
    {
     "name": "stdout",
     "output_type": "stream",
     "text": [
      "140723074212528\n",
      "140723074212528\n"
     ]
    }
   ],
   "source": [
    "a = 10\n",
    "b = 10\n",
    "print(id(a))\n",
    "print(id(b))"
   ]
  },
  {
   "cell_type": "code",
   "execution_count": 30,
   "metadata": {},
   "outputs": [
    {
     "name": "stdout",
     "output_type": "stream",
     "text": [
      "Enter your name : simran\n",
      "Enter your course : python\n",
      "Enter your fees : 12000\n",
      "{'name': ['simran'], 'course': [], 'fees': []}\n",
      "{'name': ['simran'], 'course': ['python'], 'fees': []}\n",
      "{'name': ['simran'], 'course': ['python'], 'fees': [12000]}\n"
     ]
    }
   ],
   "source": [
    "name = input(\"Enter your name : \")\n",
    "course = input(\"Enter your course : \")\n",
    "fees = int(input(\"Enter your fees : \"))\n",
    "d['name'] = [name]\n",
    "print(d)\n",
    "d['course']= [course]\n",
    "print(d)\n",
    "d['fees'] = [fees]\n",
    "print(d)"
   ]
  },
  {
   "cell_type": "code",
   "execution_count": 32,
   "metadata": {},
   "outputs": [
    {
     "data": {
      "text/plain": [
       "tuple"
      ]
     },
     "execution_count": 32,
     "metadata": {},
     "output_type": "execute_result"
    }
   ],
   "source": [
    "t = (1,2,3,\"hello\")\n",
    "type(t)"
   ]
  },
  {
   "cell_type": "code",
   "execution_count": 33,
   "metadata": {},
   "outputs": [
    {
     "name": "stdout",
     "output_type": "stream",
     "text": [
      "(1, 2, 3, 1, 2, 3, 1, 2, 3)\n"
     ]
    }
   ],
   "source": [
    "print((1,2,3)*3)"
   ]
  },
  {
   "cell_type": "code",
   "execution_count": 36,
   "metadata": {},
   "outputs": [
    {
     "name": "stdout",
     "output_type": "stream",
     "text": [
      "('Check', 'Check', 'Check')\n"
     ]
    }
   ],
   "source": [
    "a=(\"Check\",)*3\n",
    "print(a)"
   ]
  },
  {
   "cell_type": "code",
   "execution_count": 37,
   "metadata": {},
   "outputs": [
    {
     "data": {
      "text/plain": [
       "tuple"
      ]
     },
     "execution_count": 37,
     "metadata": {},
     "output_type": "execute_result"
    }
   ],
   "source": [
    "type(a)"
   ]
  },
  {
   "cell_type": "code",
   "execution_count": 38,
   "metadata": {},
   "outputs": [
    {
     "data": {
      "text/plain": [
       "6"
      ]
     },
     "execution_count": 38,
     "metadata": {},
     "output_type": "execute_result"
    }
   ],
   "source": [
    "sum([1,2,3])"
   ]
  },
  {
   "cell_type": "code",
   "execution_count": 39,
   "metadata": {},
   "outputs": [
    {
     "data": {
      "text/plain": [
       "74"
      ]
     },
     "execution_count": 39,
     "metadata": {},
     "output_type": "execute_result"
    }
   ],
   "source": [
    "sum((23,45,6))"
   ]
  },
  {
   "cell_type": "code",
   "execution_count": 40,
   "metadata": {},
   "outputs": [
    {
     "name": "stdout",
     "output_type": "stream",
     "text": [
      "(('check',),)\n",
      "((('check',),),)\n"
     ]
    }
   ],
   "source": [
    "a = ('check',)\n",
    "n = 2\n",
    "for i in range(0,n):\n",
    "    a = (a,)\n",
    "    print(a)"
   ]
  },
  {
   "cell_type": "code",
   "execution_count": 41,
   "metadata": {},
   "outputs": [
    {
     "name": "stdout",
     "output_type": "stream",
     "text": [
      "hello\n",
      "world\n"
     ]
    }
   ],
   "source": [
    "l = ['hello','world']\n",
    "for i in l:\n",
    "    print(i)"
   ]
  },
  {
   "cell_type": "code",
   "execution_count": 42,
   "metadata": {},
   "outputs": [
    {
     "name": "stdout",
     "output_type": "stream",
     "text": [
      "0\n",
      "1\n"
     ]
    }
   ],
   "source": [
    "for i in range(len(l)):\n",
    "    print(i)"
   ]
  },
  {
   "cell_type": "code",
   "execution_count": 43,
   "metadata": {},
   "outputs": [
    {
     "name": "stdout",
     "output_type": "stream",
     "text": [
      "hello\n",
      "world\n"
     ]
    }
   ],
   "source": [
    "for i in range(len(l)):\n",
    "    print(l[i])"
   ]
  },
  {
   "cell_type": "code",
   "execution_count": 44,
   "metadata": {},
   "outputs": [
    {
     "data": {
      "text/plain": [
       "['hello', 'world']"
      ]
     },
     "execution_count": 44,
     "metadata": {},
     "output_type": "execute_result"
    }
   ],
   "source": [
    "l"
   ]
  },
  {
   "cell_type": "code",
   "execution_count": 45,
   "metadata": {},
   "outputs": [],
   "source": [
    "l1 = l"
   ]
  },
  {
   "cell_type": "code",
   "execution_count": 46,
   "metadata": {},
   "outputs": [],
   "source": [
    "l1.append(\"bye bye\")"
   ]
  },
  {
   "cell_type": "code",
   "execution_count": 47,
   "metadata": {},
   "outputs": [
    {
     "data": {
      "text/plain": [
       "['hello', 'world', 'bye bye']"
      ]
     },
     "execution_count": 47,
     "metadata": {},
     "output_type": "execute_result"
    }
   ],
   "source": [
    "l1"
   ]
  },
  {
   "cell_type": "code",
   "execution_count": 48,
   "metadata": {},
   "outputs": [
    {
     "data": {
      "text/plain": [
       "['hello', 'world', 'bye bye']"
      ]
     },
     "execution_count": 48,
     "metadata": {},
     "output_type": "execute_result"
    }
   ],
   "source": [
    "l"
   ]
  },
  {
   "cell_type": "code",
   "execution_count": 49,
   "metadata": {},
   "outputs": [
    {
     "data": {
      "text/plain": [
       "2324723247624"
      ]
     },
     "execution_count": 49,
     "metadata": {},
     "output_type": "execute_result"
    }
   ],
   "source": [
    "id(l)"
   ]
  },
  {
   "cell_type": "code",
   "execution_count": 50,
   "metadata": {},
   "outputs": [
    {
     "data": {
      "text/plain": [
       "2324723247624"
      ]
     },
     "execution_count": 50,
     "metadata": {},
     "output_type": "execute_result"
    }
   ],
   "source": [
    "id(l1)"
   ]
  },
  {
   "cell_type": "code",
   "execution_count": 51,
   "metadata": {},
   "outputs": [],
   "source": [
    "l.append(\"bye\")"
   ]
  },
  {
   "cell_type": "code",
   "execution_count": 52,
   "metadata": {},
   "outputs": [
    {
     "data": {
      "text/plain": [
       "['hello', 'world', 'bye bye', 'bye']"
      ]
     },
     "execution_count": 52,
     "metadata": {},
     "output_type": "execute_result"
    }
   ],
   "source": [
    "l"
   ]
  },
  {
   "cell_type": "code",
   "execution_count": 53,
   "metadata": {},
   "outputs": [
    {
     "data": {
      "text/plain": [
       "['hello', 'world', 'bye bye', 'bye']"
      ]
     },
     "execution_count": 53,
     "metadata": {},
     "output_type": "execute_result"
    }
   ],
   "source": [
    "l1"
   ]
  },
  {
   "cell_type": "code",
   "execution_count": 54,
   "metadata": {},
   "outputs": [],
   "source": [
    "t = ([1,2,3],[4,5,6],[7,8,9])"
   ]
  },
  {
   "cell_type": "code",
   "execution_count": 55,
   "metadata": {},
   "outputs": [
    {
     "data": {
      "text/plain": [
       "3"
      ]
     },
     "execution_count": 55,
     "metadata": {},
     "output_type": "execute_result"
    }
   ],
   "source": [
    "len(t)"
   ]
  },
  {
   "cell_type": "code",
   "execution_count": 57,
   "metadata": {},
   "outputs": [
    {
     "name": "stdout",
     "output_type": "stream",
     "text": [
      "[1, 2, 3]\n",
      "[4, 5, 6]\n",
      "[7, 8, 9]\n"
     ]
    }
   ],
   "source": [
    "for ls in range(len(t)):\n",
    "    print(t[ls])"
   ]
  },
  {
   "cell_type": "code",
   "execution_count": 58,
   "metadata": {},
   "outputs": [
    {
     "data": {
      "text/plain": [
       "([1, 2, 3], [4, 5, 6], [7, 8, 9])"
      ]
     },
     "execution_count": 58,
     "metadata": {},
     "output_type": "execute_result"
    }
   ],
   "source": [
    "t"
   ]
  },
  {
   "cell_type": "code",
   "execution_count": 59,
   "metadata": {},
   "outputs": [],
   "source": [
    "t = (1,2,3,4,\"hello\")"
   ]
  },
  {
   "cell_type": "code",
   "execution_count": 60,
   "metadata": {},
   "outputs": [
    {
     "data": {
      "text/plain": [
       "1"
      ]
     },
     "execution_count": 60,
     "metadata": {},
     "output_type": "execute_result"
    }
   ],
   "source": [
    "t[0]"
   ]
  },
  {
   "cell_type": "code",
   "execution_count": 61,
   "metadata": {},
   "outputs": [
    {
     "data": {
      "text/plain": [
       "'hello'"
      ]
     },
     "execution_count": 61,
     "metadata": {},
     "output_type": "execute_result"
    }
   ],
   "source": [
    "t[-1]"
   ]
  },
  {
   "cell_type": "code",
   "execution_count": 62,
   "metadata": {},
   "outputs": [
    {
     "ename": "TypeError",
     "evalue": "'tuple' object does not support item assignment",
     "output_type": "error",
     "traceback": [
      "\u001b[1;31m---------------------------------------------------------------------\u001b[0m",
      "\u001b[1;31mTypeError\u001b[0m                           Traceback (most recent call last)",
      "\u001b[1;32m<ipython-input-62-39d9d1994514>\u001b[0m in \u001b[0;36m<module>\u001b[1;34m\u001b[0m\n\u001b[1;32m----> 1\u001b[1;33m \u001b[0mt\u001b[0m\u001b[1;33m[\u001b[0m\u001b[1;33m-\u001b[0m\u001b[1;36m1\u001b[0m\u001b[1;33m]\u001b[0m \u001b[1;33m=\u001b[0m \u001b[1;34m\"hi\"\u001b[0m\u001b[1;33m\u001b[0m\u001b[1;33m\u001b[0m\u001b[0m\n\u001b[0m",
      "\u001b[1;31mTypeError\u001b[0m: 'tuple' object does not support item assignment"
     ]
    }
   ],
   "source": [
    "t[-1] = \"hi\""
   ]
  },
  {
   "cell_type": "code",
   "execution_count": null,
   "metadata": {},
   "outputs": [],
   "source": []
  }
 ],
 "metadata": {
  "kernelspec": {
   "display_name": "Python 3",
   "language": "python",
   "name": "python3"
  },
  "language_info": {
   "codemirror_mode": {
    "name": "ipython",
    "version": 3
   },
   "file_extension": ".py",
   "mimetype": "text/x-python",
   "name": "python",
   "nbconvert_exporter": "python",
   "pygments_lexer": "ipython3",
   "version": "3.7.4"
  }
 },
 "nbformat": 4,
 "nbformat_minor": 2
}
